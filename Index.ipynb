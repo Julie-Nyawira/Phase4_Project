{
 "cells": [
  {
   "cell_type": "markdown",
   "id": "72554038",
   "metadata": {},
   "source": [
    "# Data loading and inspection "
   ]
  },
  {
   "cell_type": "code",
   "execution_count": 117,
   "id": "f0e0d1c9",
   "metadata": {},
   "outputs": [
    {
     "name": "stderr",
     "output_type": "stream",
     "text": [
      "[nltk_data] Downloading package punkt to\n",
      "[nltk_data]     C:\\Users\\Lyster\\AppData\\Roaming\\nltk_data...\n",
      "[nltk_data]   Package punkt is already up-to-date!\n",
      "[nltk_data] Downloading package stopwords to\n",
      "[nltk_data]     C:\\Users\\Lyster\\AppData\\Roaming\\nltk_data...\n",
      "[nltk_data]   Package stopwords is already up-to-date!\n",
      "[nltk_data] Downloading package wordnet to\n",
      "[nltk_data]     C:\\Users\\Lyster\\AppData\\Roaming\\nltk_data...\n",
      "[nltk_data]   Package wordnet is already up-to-date!\n"
     ]
    }
   ],
   "source": [
    "#Importing the necessary libraries\n",
    "import re\n",
    "import pandas as pd\n",
    "import numpy as np\n",
    "import seaborn as sns\n",
    "import matplotlib.pyplot as plt\n",
    "%matplotlib inline\n",
    "import string\n",
    "import warnings\n",
    "warnings.filterwarnings(action='ignore', category=FutureWarning)\n",
    "\n",
    "import nltk\n",
    "nltk.download('punkt')\n",
    "nltk.download('stopwords')\n",
    "nltk.download('wordnet')\n",
    "from nltk.stem import WordNetLemmatizer\n",
    "from sklearn.preprocessing import LabelEncoder\n",
    "from nltk.tokenize import word_tokenize, sent_tokenize\n",
    "from nltk.corpus import stopwords\n",
    "from sklearn.feature_extraction.text import CountVectorizer, TfidfVectorizer\n",
    "from nltk import FreqDist\n",
    "\n",
    "#modelling libraries\n",
    "from sklearn.pipeline import Pipeline\n",
    "from sklearn.model_selection import GridSearchCV\n",
    "from sklearn.model_selection import train_test_split\n",
    "from sklearn.linear_model import LogisticRegression\n",
    "from sklearn.metrics import accuracy_score, classification_report, confusion_matrix\n",
    "from sklearn import metrics\n",
    "from sklearn.tree import DecisionTreeClassifier\n",
    "from sklearn.ensemble import RandomForestClassifier\n",
    "from sklearn.naive_bayes import MultinomialNB\n",
    "from xgboost import XGBClassifier\n",
    "\n",
    "#imbalance libraries \n",
    "from imblearn.over_sampling import RandomOverSampler\n",
    "from imblearn.under_sampling import RandomUnderSampler\n",
    "from sklearn.metrics import accuracy_score\n",
    "\n"
   ]
  },
  {
   "cell_type": "code",
   "execution_count": 118,
   "id": "4f47afa6",
   "metadata": {},
   "outputs": [],
   "source": [
    "\n",
    "# Import necessary classes from the init module\n",
    "from __init__ import Explore, Clean"
   ]
  },
  {
   "cell_type": "code",
   "execution_count": 119,
   "id": "1cc1fdf9",
   "metadata": {},
   "outputs": [
    {
     "data": {
      "text/html": [
       "<div>\n",
       "<style scoped>\n",
       "    .dataframe tbody tr th:only-of-type {\n",
       "        vertical-align: middle;\n",
       "    }\n",
       "\n",
       "    .dataframe tbody tr th {\n",
       "        vertical-align: top;\n",
       "    }\n",
       "\n",
       "    .dataframe thead th {\n",
       "        text-align: right;\n",
       "    }\n",
       "</style>\n",
       "<table border=\"1\" class=\"dataframe\">\n",
       "  <thead>\n",
       "    <tr style=\"text-align: right;\">\n",
       "      <th></th>\n",
       "      <th>tweet_text</th>\n",
       "      <th>emotion_in_tweet_is_directed_at</th>\n",
       "      <th>is_there_an_emotion_directed_at_a_brand_or_product</th>\n",
       "    </tr>\n",
       "  </thead>\n",
       "  <tbody>\n",
       "    <tr>\n",
       "      <th>0</th>\n",
       "      <td>.@wesley83 I have a 3G iPhone. After 3 hrs twe...</td>\n",
       "      <td>iPhone</td>\n",
       "      <td>Negative emotion</td>\n",
       "    </tr>\n",
       "    <tr>\n",
       "      <th>1</th>\n",
       "      <td>@jessedee Know about @fludapp ? Awesome iPad/i...</td>\n",
       "      <td>iPad or iPhone App</td>\n",
       "      <td>Positive emotion</td>\n",
       "    </tr>\n",
       "    <tr>\n",
       "      <th>2</th>\n",
       "      <td>@swonderlin Can not wait for #iPad 2 also. The...</td>\n",
       "      <td>iPad</td>\n",
       "      <td>Positive emotion</td>\n",
       "    </tr>\n",
       "    <tr>\n",
       "      <th>3</th>\n",
       "      <td>@sxsw I hope this year's festival isn't as cra...</td>\n",
       "      <td>iPad or iPhone App</td>\n",
       "      <td>Negative emotion</td>\n",
       "    </tr>\n",
       "    <tr>\n",
       "      <th>4</th>\n",
       "      <td>@sxtxstate great stuff on Fri #SXSW: Marissa M...</td>\n",
       "      <td>Google</td>\n",
       "      <td>Positive emotion</td>\n",
       "    </tr>\n",
       "  </tbody>\n",
       "</table>\n",
       "</div>"
      ],
      "text/plain": [
       "                                          tweet_text  \\\n",
       "0  .@wesley83 I have a 3G iPhone. After 3 hrs twe...   \n",
       "1  @jessedee Know about @fludapp ? Awesome iPad/i...   \n",
       "2  @swonderlin Can not wait for #iPad 2 also. The...   \n",
       "3  @sxsw I hope this year's festival isn't as cra...   \n",
       "4  @sxtxstate great stuff on Fri #SXSW: Marissa M...   \n",
       "\n",
       "  emotion_in_tweet_is_directed_at  \\\n",
       "0                          iPhone   \n",
       "1              iPad or iPhone App   \n",
       "2                            iPad   \n",
       "3              iPad or iPhone App   \n",
       "4                          Google   \n",
       "\n",
       "  is_there_an_emotion_directed_at_a_brand_or_product  \n",
       "0                                   Negative emotion  \n",
       "1                                   Positive emotion  \n",
       "2                                   Positive emotion  \n",
       "3                                   Negative emotion  \n",
       "4                                   Positive emotion  "
      ]
     },
     "execution_count": 119,
     "metadata": {},
     "output_type": "execute_result"
    }
   ],
   "source": [
    "#load the data and print first five rows to ensure it loaded correctly\n",
    "data = pd.read_csv('data.csv', encoding='ISO-8859-1')\n",
    "data.head()"
   ]
  },
  {
   "cell_type": "code",
   "execution_count": 120,
   "id": "c93c5963",
   "metadata": {},
   "outputs": [],
   "source": [
    "#create instance of explore class\n",
    "explore_df = Explore(data)"
   ]
  },
  {
   "cell_type": "code",
   "execution_count": 121,
   "id": "0dfd314b",
   "metadata": {},
   "outputs": [
    {
     "name": "stdout",
     "output_type": "stream",
     "text": [
      "----------------Shape of the Dataset---------------- \n",
      "\n",
      "(9093, 3)\n"
     ]
    }
   ],
   "source": [
    "# Check the shape of the data\n",
    "explore_df.shape()"
   ]
  },
  {
   "cell_type": "code",
   "execution_count": 122,
   "id": "bdc14320",
   "metadata": {},
   "outputs": [
    {
     "name": "stdout",
     "output_type": "stream",
     "text": [
      "----------------Features in the Dataset---------------- \n",
      "\n",
      "Index(['tweet_text', 'emotion_in_tweet_is_directed_at',\n",
      "       'is_there_an_emotion_directed_at_a_brand_or_product'],\n",
      "      dtype='object')\n"
     ]
    }
   ],
   "source": [
    "#Check the columns of the data\n",
    "explore_df.features()"
   ]
  },
  {
   "cell_type": "code",
   "execution_count": 123,
   "id": "bb6af041",
   "metadata": {},
   "outputs": [
    {
     "name": "stdout",
     "output_type": "stream",
     "text": [
      "----------------Summary Statistics of the Features---------------- \n",
      "\n",
      "                                               tweet_text  \\\n",
      "count                                                9092   \n",
      "unique                                               9065   \n",
      "top     RT @mention Marissa Mayer: Google Will Connect...   \n",
      "freq                                                    5   \n",
      "\n",
      "       emotion_in_tweet_is_directed_at  \\\n",
      "count                             3291   \n",
      "unique                               9   \n",
      "top                               iPad   \n",
      "freq                               946   \n",
      "\n",
      "       is_there_an_emotion_directed_at_a_brand_or_product  \n",
      "count                                                9093  \n",
      "unique                                                  4  \n",
      "top                    No emotion toward brand or product  \n",
      "freq                                                 5389  \n"
     ]
    }
   ],
   "source": [
    "#Check the summary statistics of the data\n",
    "explore_df.stats()"
   ]
  },
  {
   "cell_type": "code",
   "execution_count": 124,
   "id": "9b0fef2c",
   "metadata": {},
   "outputs": [
    {
     "name": "stdout",
     "output_type": "stream",
     "text": [
      "----------------Dataset Overall Information---------------- \n",
      "\n",
      "<class 'pandas.core.frame.DataFrame'>\n",
      "RangeIndex: 9093 entries, 0 to 9092\n",
      "Data columns (total 3 columns):\n",
      " #   Column                                              Non-Null Count  Dtype \n",
      "---  ------                                              --------------  ----- \n",
      " 0   tweet_text                                          9092 non-null   object\n",
      " 1   emotion_in_tweet_is_directed_at                     3291 non-null   object\n",
      " 2   is_there_an_emotion_directed_at_a_brand_or_product  9093 non-null   object\n",
      "dtypes: object(3)\n",
      "memory usage: 213.2+ KB\n",
      "None\n"
     ]
    }
   ],
   "source": [
    "#Check the basic information of the data\n",
    "explore_df.info()"
   ]
  },
  {
   "cell_type": "code",
   "execution_count": 125,
   "id": "edff9264",
   "metadata": {},
   "outputs": [
    {
     "data": {
      "text/html": [
       "<div>\n",
       "<style scoped>\n",
       "    .dataframe tbody tr th:only-of-type {\n",
       "        vertical-align: middle;\n",
       "    }\n",
       "\n",
       "    .dataframe tbody tr th {\n",
       "        vertical-align: top;\n",
       "    }\n",
       "\n",
       "    .dataframe thead th {\n",
       "        text-align: right;\n",
       "    }\n",
       "</style>\n",
       "<table border=\"1\" class=\"dataframe\">\n",
       "  <thead>\n",
       "    <tr style=\"text-align: right;\">\n",
       "      <th></th>\n",
       "      <th>tweet_text</th>\n",
       "      <th>recipient</th>\n",
       "      <th>emotion</th>\n",
       "    </tr>\n",
       "  </thead>\n",
       "  <tbody>\n",
       "    <tr>\n",
       "      <th>0</th>\n",
       "      <td>.@wesley83 I have a 3G iPhone. After 3 hrs twe...</td>\n",
       "      <td>iPhone</td>\n",
       "      <td>Negative emotion</td>\n",
       "    </tr>\n",
       "    <tr>\n",
       "      <th>1</th>\n",
       "      <td>@jessedee Know about @fludapp ? Awesome iPad/i...</td>\n",
       "      <td>iPad or iPhone App</td>\n",
       "      <td>Positive emotion</td>\n",
       "    </tr>\n",
       "    <tr>\n",
       "      <th>2</th>\n",
       "      <td>@swonderlin Can not wait for #iPad 2 also. The...</td>\n",
       "      <td>iPad</td>\n",
       "      <td>Positive emotion</td>\n",
       "    </tr>\n",
       "    <tr>\n",
       "      <th>3</th>\n",
       "      <td>@sxsw I hope this year's festival isn't as cra...</td>\n",
       "      <td>iPad or iPhone App</td>\n",
       "      <td>Negative emotion</td>\n",
       "    </tr>\n",
       "    <tr>\n",
       "      <th>4</th>\n",
       "      <td>@sxtxstate great stuff on Fri #SXSW: Marissa M...</td>\n",
       "      <td>Google</td>\n",
       "      <td>Positive emotion</td>\n",
       "    </tr>\n",
       "  </tbody>\n",
       "</table>\n",
       "</div>"
      ],
      "text/plain": [
       "                                          tweet_text           recipient  \\\n",
       "0  .@wesley83 I have a 3G iPhone. After 3 hrs twe...              iPhone   \n",
       "1  @jessedee Know about @fludapp ? Awesome iPad/i...  iPad or iPhone App   \n",
       "2  @swonderlin Can not wait for #iPad 2 also. The...                iPad   \n",
       "3  @sxsw I hope this year's festival isn't as cra...  iPad or iPhone App   \n",
       "4  @sxtxstate great stuff on Fri #SXSW: Marissa M...              Google   \n",
       "\n",
       "            emotion  \n",
       "0  Negative emotion  \n",
       "1  Positive emotion  \n",
       "2  Positive emotion  \n",
       "3  Negative emotion  \n",
       "4  Positive emotion  "
      ]
     },
     "execution_count": 125,
     "metadata": {},
     "output_type": "execute_result"
    }
   ],
   "source": [
    "#Renaming the columns\n",
    "def rename_columns(df):\n",
    "    df.columns=['tweet_text',  'recipient', 'emotion']\n",
    "    return df\n",
    "data = rename_columns(data)\n",
    "data.head()"
   ]
  },
  {
   "cell_type": "code",
   "execution_count": 126,
   "id": "3edb7fd9",
   "metadata": {},
   "outputs": [
    {
     "name": "stdout",
     "output_type": "stream",
     "text": [
      "\n",
      " Duplicated Rows:\n",
      "\n",
      "- Total duplicated rows: 22 \n",
      " \n",
      "\n"
     ]
    },
    {
     "data": {
      "text/html": [
       "<div>\n",
       "<style scoped>\n",
       "    .dataframe tbody tr th:only-of-type {\n",
       "        vertical-align: middle;\n",
       "    }\n",
       "\n",
       "    .dataframe tbody tr th {\n",
       "        vertical-align: top;\n",
       "    }\n",
       "\n",
       "    .dataframe thead th {\n",
       "        text-align: right;\n",
       "    }\n",
       "</style>\n",
       "<table border=\"1\" class=\"dataframe\">\n",
       "  <thead>\n",
       "    <tr style=\"text-align: right;\">\n",
       "      <th></th>\n",
       "      <th>Missing Values</th>\n",
       "      <th>Percentage(%)</th>\n",
       "    </tr>\n",
       "  </thead>\n",
       "  <tbody>\n",
       "    <tr>\n",
       "      <th>recipient</th>\n",
       "      <td>5802</td>\n",
       "      <td>63.807324</td>\n",
       "    </tr>\n",
       "    <tr>\n",
       "      <th>tweet_text</th>\n",
       "      <td>1</td>\n",
       "      <td>0.010997</td>\n",
       "    </tr>\n",
       "    <tr>\n",
       "      <th>emotion</th>\n",
       "      <td>0</td>\n",
       "      <td>0.000000</td>\n",
       "    </tr>\n",
       "  </tbody>\n",
       "</table>\n",
       "</div>"
      ],
      "text/plain": [
       "            Missing Values  Percentage(%)\n",
       "recipient             5802      63.807324\n",
       "tweet_text               1       0.010997\n",
       "emotion                  0       0.000000"
      ]
     },
     "execution_count": 126,
     "metadata": {},
     "output_type": "execute_result"
    }
   ],
   "source": [
    "# Initialize the cleaning class and call the method for displaying missing values\n",
    "clean_df = Clean(data)\n",
    "clean_df.missing_duplicated()\n"
   ]
  },
  {
   "cell_type": "code",
   "execution_count": 127,
   "id": "d4f742c8",
   "metadata": {},
   "outputs": [
    {
     "data": {
      "text/plain": [
       "tweet_text       0\n",
       "recipient     5801\n",
       "emotion          0\n",
       "dtype: int64"
      ]
     },
     "execution_count": 127,
     "metadata": {},
     "output_type": "execute_result"
    }
   ],
   "source": [
    "# Drop the missing record in the tweet_text column\n",
    "data = data.dropna(subset=['tweet_text'])\n",
    "#Check to ensure the missing record is dropped\n",
    "data.isnull().sum()"
   ]
  },
  {
   "cell_type": "code",
   "execution_count": 128,
   "id": "d1d85a6f",
   "metadata": {},
   "outputs": [
    {
     "name": "stderr",
     "output_type": "stream",
     "text": [
      "C:\\Users\\Lyster\\AppData\\Local\\Temp\\ipykernel_3364\\2107247772.py:2: SettingWithCopyWarning: \n",
      "A value is trying to be set on a copy of a slice from a DataFrame\n",
      "\n",
      "See the caveats in the documentation: https://pandas.pydata.org/pandas-docs/stable/user_guide/indexing.html#returning-a-view-versus-a-copy\n",
      "  data['recipient'].fillna('No brand', inplace=True)\n"
     ]
    }
   ],
   "source": [
    "# Fill missing values in the 'recipient' column with 'No brand'\n",
    "data['recipient'].fillna('No brand', inplace=True)"
   ]
  },
  {
   "cell_type": "code",
   "execution_count": 129,
   "id": "d359c18c",
   "metadata": {},
   "outputs": [
    {
     "data": {
      "text/plain": [
       "'The dataset now has 0 duplicate rows'"
      ]
     },
     "execution_count": 129,
     "metadata": {},
     "output_type": "execute_result"
    }
   ],
   "source": [
    "#Drop the duplicate rows\n",
    "clean_df.remove_duplicated_rows()"
   ]
  },
  {
   "cell_type": "markdown",
   "id": "5c84d888",
   "metadata": {},
   "source": [
    "\n",
    "\n",
    "We'll clean and standardize the `emotion` column by simplifying the labels. Specifically, we will:\n",
    "\n",
    "* Convert `'Positive Emotion'` to `'Positive'`\n",
    "* Convert `'Negative Emotion'` to `'Negative'`\n",
    "* Group both `'No emotion toward brand or product'` and `'I can't tell'` under `'Neutral'`\n",
    "\n",
    "This transformation ensures a more consistent and streamlined set of sentiment categories, making the data better suited for sentiment analysis and model training.\n"
   ]
  },
  {
   "cell_type": "code",
   "execution_count": 130,
   "id": "132a78b0",
   "metadata": {},
   "outputs": [
    {
     "name": "stderr",
     "output_type": "stream",
     "text": [
      "C:\\Users\\Lyster\\AppData\\Local\\Temp\\ipykernel_3364\\2451357721.py:2: SettingWithCopyWarning: \n",
      "A value is trying to be set on a copy of a slice from a DataFrame\n",
      "\n",
      "See the caveats in the documentation: https://pandas.pydata.org/pandas-docs/stable/user_guide/indexing.html#returning-a-view-versus-a-copy\n",
      "  data.loc[data['emotion'] == 'No emotion toward brand or product', 'emotion'] = 'Neutral'\n",
      "C:\\Users\\Lyster\\AppData\\Local\\Temp\\ipykernel_3364\\2451357721.py:3: SettingWithCopyWarning: \n",
      "A value is trying to be set on a copy of a slice from a DataFrame\n",
      "\n",
      "See the caveats in the documentation: https://pandas.pydata.org/pandas-docs/stable/user_guide/indexing.html#returning-a-view-versus-a-copy\n",
      "  data.loc[data['emotion'] == 'Positive emotion', 'emotion'] = 'Positive'\n",
      "C:\\Users\\Lyster\\AppData\\Local\\Temp\\ipykernel_3364\\2451357721.py:4: SettingWithCopyWarning: \n",
      "A value is trying to be set on a copy of a slice from a DataFrame\n",
      "\n",
      "See the caveats in the documentation: https://pandas.pydata.org/pandas-docs/stable/user_guide/indexing.html#returning-a-view-versus-a-copy\n",
      "  data.loc[data['emotion'] == 'Negative emotion', 'emotion'] = 'Negative'\n",
      "C:\\Users\\Lyster\\AppData\\Local\\Temp\\ipykernel_3364\\2451357721.py:5: SettingWithCopyWarning: \n",
      "A value is trying to be set on a copy of a slice from a DataFrame\n",
      "\n",
      "See the caveats in the documentation: https://pandas.pydata.org/pandas-docs/stable/user_guide/indexing.html#returning-a-view-versus-a-copy\n",
      "  data.loc[data['emotion'] == \"I can't tell\", 'emotion'] = 'Neutral'\n"
     ]
    },
    {
     "data": {
      "text/html": [
       "<div>\n",
       "<style scoped>\n",
       "    .dataframe tbody tr th:only-of-type {\n",
       "        vertical-align: middle;\n",
       "    }\n",
       "\n",
       "    .dataframe tbody tr th {\n",
       "        vertical-align: top;\n",
       "    }\n",
       "\n",
       "    .dataframe thead th {\n",
       "        text-align: right;\n",
       "    }\n",
       "</style>\n",
       "<table border=\"1\" class=\"dataframe\">\n",
       "  <thead>\n",
       "    <tr style=\"text-align: right;\">\n",
       "      <th></th>\n",
       "      <th>tweet_text</th>\n",
       "      <th>recipient</th>\n",
       "      <th>emotion</th>\n",
       "    </tr>\n",
       "  </thead>\n",
       "  <tbody>\n",
       "    <tr>\n",
       "      <th>0</th>\n",
       "      <td>.@wesley83 I have a 3G iPhone. After 3 hrs twe...</td>\n",
       "      <td>iPhone</td>\n",
       "      <td>Negative</td>\n",
       "    </tr>\n",
       "    <tr>\n",
       "      <th>1</th>\n",
       "      <td>@jessedee Know about @fludapp ? Awesome iPad/i...</td>\n",
       "      <td>iPad or iPhone App</td>\n",
       "      <td>Positive</td>\n",
       "    </tr>\n",
       "    <tr>\n",
       "      <th>2</th>\n",
       "      <td>@swonderlin Can not wait for #iPad 2 also. The...</td>\n",
       "      <td>iPad</td>\n",
       "      <td>Positive</td>\n",
       "    </tr>\n",
       "    <tr>\n",
       "      <th>3</th>\n",
       "      <td>@sxsw I hope this year's festival isn't as cra...</td>\n",
       "      <td>iPad or iPhone App</td>\n",
       "      <td>Negative</td>\n",
       "    </tr>\n",
       "    <tr>\n",
       "      <th>4</th>\n",
       "      <td>@sxtxstate great stuff on Fri #SXSW: Marissa M...</td>\n",
       "      <td>Google</td>\n",
       "      <td>Positive</td>\n",
       "    </tr>\n",
       "  </tbody>\n",
       "</table>\n",
       "</div>"
      ],
      "text/plain": [
       "                                          tweet_text           recipient  \\\n",
       "0  .@wesley83 I have a 3G iPhone. After 3 hrs twe...              iPhone   \n",
       "1  @jessedee Know about @fludapp ? Awesome iPad/i...  iPad or iPhone App   \n",
       "2  @swonderlin Can not wait for #iPad 2 also. The...                iPad   \n",
       "3  @sxsw I hope this year's festival isn't as cra...  iPad or iPhone App   \n",
       "4  @sxtxstate great stuff on Fri #SXSW: Marissa M...              Google   \n",
       "\n",
       "    emotion  \n",
       "0  Negative  \n",
       "1  Positive  \n",
       "2  Positive  \n",
       "3  Negative  \n",
       "4  Positive  "
      ]
     },
     "execution_count": 130,
     "metadata": {},
     "output_type": "execute_result"
    }
   ],
   "source": [
    "\n",
    "# Change emotions to 'Positive', 'Negative', and 'Neutral'\n",
    "data.loc[data['emotion'] == 'No emotion toward brand or product', 'emotion'] = 'Neutral'\n",
    "data.loc[data['emotion'] == 'Positive emotion', 'emotion'] = 'Positive'\n",
    "data.loc[data['emotion'] == 'Negative emotion', 'emotion'] = 'Negative'\n",
    "data.loc[data['emotion'] == \"I can't tell\", 'emotion'] = 'Neutral'\n",
    "\n",
    "data.head()"
   ]
  },
  {
   "cell_type": "markdown",
   "id": "29b891d1",
   "metadata": {},
   "source": [
    "### Feature engineering "
   ]
  },
  {
   "cell_type": "markdown",
   "id": "9ac8f74b",
   "metadata": {},
   "source": [
    "In this section, we create a new column called brand by mapping the values in the recipient column to either 'Apple', 'Google', or 'none', depending on the product or service mentioned. This mapping helps consolidate multiple product references under a single parent brand, making brand-level analysis clearer and more manageable. After creating the brand column, we use value_counts() to inspect the distribution of tweets across the different brands."
   ]
  },
  {
   "cell_type": "code",
   "execution_count": 131,
   "id": "b000e1db",
   "metadata": {},
   "outputs": [
    {
     "name": "stderr",
     "output_type": "stream",
     "text": [
      "C:\\Users\\Lyster\\AppData\\Local\\Temp\\ipykernel_3364\\2519186113.py:1: SettingWithCopyWarning: \n",
      "A value is trying to be set on a copy of a slice from a DataFrame.\n",
      "Try using .loc[row_indexer,col_indexer] = value instead\n",
      "\n",
      "See the caveats in the documentation: https://pandas.pydata.org/pandas-docs/stable/user_guide/indexing.html#returning-a-view-versus-a-copy\n",
      "  data['brand'] = data['recipient'].map({'Other Apple product or service': 'Apple',\n"
     ]
    },
    {
     "data": {
      "text/plain": [
       "brand\n",
       "none      5801\n",
       "Apple     2409\n",
       "Google     589\n",
       "Name: count, dtype: int64"
      ]
     },
     "execution_count": 131,
     "metadata": {},
     "output_type": "execute_result"
    }
   ],
   "source": [
    "data['brand'] = data['recipient'].map({'Other Apple product or service': 'Apple', \n",
    "                                           'Android': 'Google',\n",
    "                                           'Android App': 'Google',\n",
    "                                           'Other Google product or service ': 'Google',\n",
    "                                           'iPhone': 'Apple', \n",
    "                                           'Google':'Google',\n",
    "                                           'iPad or iPhone App': 'Apple',\n",
    "                                           'Apple':'Apple',\n",
    "                                           'iPad':'Apple',\n",
    "                                           'No brand': 'none'})\n",
    "\n",
    "data['brand'].value_counts()"
   ]
  },
  {
   "cell_type": "markdown",
   "id": "42cd8d2c",
   "metadata": {},
   "source": [
    "# Exploratory data analysis (EDA)\n",
    "\n",
    "#### Univariate analysis"
   ]
  },
  {
   "cell_type": "markdown",
   "id": "a283ad49",
   "metadata": {},
   "source": [
    "This section performs univariate analysis to explore the distribution of key variables individually. We examine the sentiment distribution, tweet share by brand, and tweet length to understand overall patterns in the data, detect class imbalance, and observe user engagement through tweet lengths."
   ]
  },
  {
   "cell_type": "code",
   "execution_count": 197,
   "id": "66bd57d3",
   "metadata": {},
   "outputs": [
    {
     "data": {
      "image/png": "[encoded data removed]",
      "text/plain": [
       "<Figure size 1000x800 with 1 Axes>"
      ]
     },
     "metadata": {},
     "output_type": "display_data"
    },
    {
     "name": "stdout",
     "output_type": "stream",
     "text": [
      "emotion\n",
      "Neutral     60.976683\n",
      "Positive    32.754070\n",
      "Negative     6.269248\n",
      "Name: proportion, dtype: float64\n"
     ]
    }
   ],
   "source": [
    "\n",
    "#Count plot of the 'emotion' column\n",
    "plt.figure(figsize=(10, 8))\n",
    "sns.countplot(x='emotion', data=data, palette='colorblind')\n",
    "plt.title('Emotion Distribution Count', fontsize=16)\n",
    "plt.xlabel('emotion', fontsize=12)\n",
    "plt.ylabel('Count', fontsize=12)\n",
    "plt.xticks(rotation=45)  \n",
    "plt.tight_layout()\n",
    "plt.show()\n",
    "\n",
    "#checking the distribution of sentiments\n",
    "percentage = data['emotion'].value_counts(normalize=True)\n",
    "print(percentage * 100)\n"
   ]
  },
  {
   "cell_type": "code",
   "execution_count": 133,
   "id": "8f179361",
   "metadata": {},
   "outputs": [
    {
     "name": "stdout",
     "output_type": "stream",
     "text": [
      "brand\n",
      "none      65.927946\n",
      "Apple     27.378111\n",
      "Google     6.693942\n",
      "Name: proportion, dtype: float64\n"
     ]
    },
    {
     "data": {
      "image/png": "[encoded data removed]",
      "text/plain": [
       "<Figure size 1000x600 with 1 Axes>"
      ]
     },
     "metadata": {},
     "output_type": "display_data"
    }
   ],
   "source": [
    "#pie chart to visualize Tweet share by brand\n",
    "brand_share = data['brand'].value_counts(normalize=True)\n",
    "print(brand_share * 100)\n",
    "\n",
    "#Visualizing using pie chart\n",
    "plt.figure(figsize=(10, 6))\n",
    "plt.pie(brand_share.values, autopct='%1.1f%%', pctdistance=1.1, startangle=90, colors=sns.color_palette('muted'), wedgeprops={'width': 0.6})\n",
    "plt.title('Tweet share by brand')\n",
    "plt.axis('equal')\n",
    "plt.legend(labels=brand_share.index, loc='upper left', bbox_to_anchor=(1, 1))\n",
    "plt.show()\n"
   ]
  },
  {
   "cell_type": "markdown",
   "id": "57817021",
   "metadata": {},
   "source": [
    "From the pie chart, we observe that the majority of tweets (approximately 66%) are not directed toward any specific brand, indicating a large portion of neutral or brand-unspecified discussions. Apple-related tweets make up around 27%, while Google-related tweets account for only about 7%, suggesting that Apple generates significantly more user engagement on Twitter compared to Google in this dataset."
   ]
  },
  {
   "cell_type": "code",
   "execution_count": 134,
   "id": "682f548e",
   "metadata": {},
   "outputs": [
    {
     "name": "stderr",
     "output_type": "stream",
     "text": [
      "C:\\Users\\Lyster\\AppData\\Local\\Temp\\ipykernel_3364\\40650347.py:2: SettingWithCopyWarning: \n",
      "A value is trying to be set on a copy of a slice from a DataFrame.\n",
      "Try using .loc[row_indexer,col_indexer] = value instead\n",
      "\n",
      "See the caveats in the documentation: https://pandas.pydata.org/pandas-docs/stable/user_guide/indexing.html#returning-a-view-versus-a-copy\n",
      "  data['tweet_length'] = data['tweet_text'].apply(lambda x: len(str(x).split()))\n"
     ]
    },
    {
     "data": {
      "image/png": "[encoded data removed]",
      "text/plain": [
       "<Figure size 1000x600 with 1 Axes>"
      ]
     },
     "metadata": {},
     "output_type": "display_data"
    }
   ],
   "source": [
    "# Count number of words in each tweet (not characters)\n",
    "data['tweet_length'] = data['tweet_text'].apply(lambda x: len(str(x).split()))\n",
    "plt.figure(figsize=(10, 6))\n",
    "sns.histplot(data['tweet_length'], bins=20, kde=True)\n",
    "plt.title('Tweet Length Distribution (Words)')\n",
    "plt.xlabel('Number of Words')\n",
    "plt.ylabel('Number of Tweets')\n",
    "plt.show()"
   ]
  },
  {
   "cell_type": "markdown",
   "id": "cfbea7f4",
   "metadata": {},
   "source": [
    "### Bivariate analysis"
   ]
  },
  {
   "cell_type": "markdown",
   "id": "569f7047",
   "metadata": {},
   "source": [
    "In the bivariate analysis section, we explore relationships between two variables. First, we use a boxplot to examine how tweet length varies across different emotions, helping us identify whether emotional tweets tend to be longer or shorter. Next, a stacked bar chart which shows how tweet sentiments (positive, negative, neutral) are distributed across different brands, giving insight into which brand receives more emotional engagement and the nature of that sentiment."
   ]
  },
  {
   "cell_type": "markdown",
   "id": "1ee5d0b5",
   "metadata": {},
   "source": [
    "**#### Tweet Length vs Emotion**"
   ]
  },
  {
   "cell_type": "code",
   "execution_count": 199,
   "id": "1a3b056a",
   "metadata": {},
   "outputs": [
    {
     "data": {
      "image/png": "[encoded data removed]",
      "text/plain": [
       "<Figure size 600x400 with 1 Axes>"
      ]
     },
     "metadata": {},
     "output_type": "display_data"
    }
   ],
   "source": [
    "plt.figure(figsize=(6,4))\n",
    "sns.boxplot(data=data, x='emotion', y='tweet_length', palette='colorblind')\n",
    "plt.title('Tweet Length by Emotion')\n",
    "plt.xlabel('Emotion')\n",
    "plt.ylabel('Tweet Length (Words)')\n",
    "plt.show()\n"
   ]
  },
  {
   "cell_type": "code",
   "execution_count": 136,
   "id": "9cfa1a21",
   "metadata": {},
   "outputs": [
    {
     "data": {
      "image/png": "[encoded data removed]",
      "text/plain": [
       "<Figure size 2100x700 with 1 Axes>"
      ]
     },
     "metadata": {},
     "output_type": "display_data"
    }
   ],
   "source": [
    "\n",
    "#Which brand is getting more positive or negative tweets?\n",
    "brands = data.groupby(['brand','emotion']).size().reset_index(name='count')\n",
    "\n",
    "#Calculate the ascending order of brands based on tweet count\n",
    "ascending_order = brands.groupby('brand')['count'].sum().sort_values().index\n",
    "\n",
    "plt.figure(figsize=(21,7))\n",
    "sns.barplot(x='brand', y='count', hue='emotion', data=brands, palette='pastel', order=ascending_order)\n",
    "plt.xlabel('brand')\n",
    "plt.ylabel('Count')\n",
    "plt.title('Tweet Emotion Distribution by Brand')\n",
    "plt.show()"
   ]
  },
  {
   "cell_type": "markdown",
   "id": "a26f286f",
   "metadata": {},
   "source": [
    "**#### Brand vs Emotion**"
   ]
  },
  {
   "cell_type": "code",
   "execution_count": null,
   "id": "6a908c1a",
   "metadata": {},
   "outputs": [
    {
     "data": {
      "image/png": "[encoded data removed]",
      "text/plain": [
       "<Figure size 1000x800 with 1 Axes>"
      ]
     },
     "metadata": {},
     "output_type": "display_data"
    }
   ],
   "source": [
    "\n",
    "brand_vs_emotion = pd.crosstab(data['brand'], data['emotion'], normalize='index')\n",
    "brand_vs_emotion.plot(kind='bar', stacked=True, colormap='Pastel2', figsize=(10,8))\n",
    "plt.title(\"Stacked barchart of  Emotion by Brand\")\n",
    "plt.ylabel(\"Proportion\")\n",
    "plt.xlabel(\"Brand\")\n",
    "plt.legend(title='Emotion by brand')\n",
    "plt.xticks(rotation=45)\n",
    "plt.show()"
   ]
  },
  {
   "cell_type": "markdown",
   "id": "230c0525",
   "metadata": {},
   "source": [
    "## Data Preprocessing"
   ]
  },
  {
   "cell_type": "markdown",
   "id": "6712469a",
   "metadata": {},
   "source": [
    "This section defines a TextPreprocessor class that performs comprehensive text preprocessing. It includes feature generation (character, word, and sentence counts), cleaning (removing URLs, emojis, punctuation, etc.), tokenization (splitting text into words), stopword removal, and lemmatization (reducing words to their base forms). The processed results are stored in new columns such as cleaned_text, tokenized_text, lemmatized_text, and document for further analysis or modeling."
   ]
  },
  {
   "cell_type": "code",
   "execution_count": 137,
   "id": "b3fdf6ae",
   "metadata": {},
   "outputs": [],
   "source": [
    "import re\n",
    "from nltk.corpus import stopwords\n",
    "from nltk.tokenize import word_tokenize\n",
    "from nltk.stem import WordNetLemmatizer\n",
    "\n",
    "class TextPreprocessor:\n",
    "    def __init__(self):\n",
    "        self.stop_words = set(stopwords.words('english'))\n",
    "        self.lemmatizer = WordNetLemmatizer()\n",
    "\n",
    "    def generate_text_features(self, df, text_column):\n",
    "        \"\"\"\n",
    "        Adds character count, word count, and sentence count columns.\n",
    "        \"\"\"\n",
    "        df.loc[:, 'char_count'] = df[text_column].astype(str).apply(len)\n",
    "        df.loc[:, 'word_count'] = df[text_column].astype(str).apply(lambda x: len(x.split()))\n",
    "        df.loc[:, 'sentence_count'] = df[text_column].astype(str).apply(lambda x: x.count('.') + 1)\n",
    "        return df\n",
    "\n",
    "    def clean_text(self, text):\n",
    "        \"\"\"\n",
    "        Cleans text: lowercase, remove URLs, hashtags, emojis, punctuation, numbers, and extra spaces.\n",
    "        \"\"\"\n",
    "        text = text.lower()\n",
    "        text = re.sub(r\"http\\S+|www\\S+|https\\S+\", '', text)\n",
    "        text = re.sub(r\"#\\w+\", '', text)\n",
    "\n",
    "        # Remove emojis\n",
    "        emoji_pattern = re.compile(\n",
    "            \"[\"\n",
    "            u\"\\U0001F600-\\U0001F64F\"  # emoticons\n",
    "            u\"\\U0001F300-\\U0001F5FF\"  # symbols & pictographs\n",
    "            u\"\\U0001F680-\\U0001F6FF\"  # transport & map symbols\n",
    "            u\"\\U0001F1E0-\\U0001F1FF\"  # flags\n",
    "            u\"\\U00002700-\\U000027BF\"  # Dingbats\n",
    "            u\"\\U000024C2-\\U0001F251\"\n",
    "            \"]+\", flags=re.UNICODE\n",
    "        )\n",
    "        text = emoji_pattern.sub(r'', text)\n",
    "\n",
    "        text = re.sub(r'\\d+', '', text)\n",
    "        text = re.sub(r'[^\\w\\s]', '', text)\n",
    "        text = re.sub(r'\\s+', ' ', text).strip()\n",
    "        return text\n",
    "\n",
    "    def tokenize(self, text):\n",
    "        \"\"\"\n",
    "        Tokenizes and removes stopwords.\n",
    "        \"\"\"\n",
    "        tokens = word_tokenize(text)\n",
    "        return [t for t in tokens if t not in self.stop_words]\n",
    "\n",
    "    def lemmatize(self, tokens):\n",
    "        \"\"\"\n",
    "        Lemmatizes a list of tokens.\n",
    "        \"\"\"\n",
    "        return [self.lemmatizer.lemmatize(t) for t in tokens]\n",
    "\n",
    "    def preprocess(self, df, text_column):\n",
    "        \"\"\"\n",
    "        Full preprocessing:\n",
    "        - Feature engineering\n",
    "        - Text cleaning\n",
    "        - Tokenization\n",
    "        - Lemmatization\n",
    "        - Save cleaned text, tokens, lemmatized tokens, and document string (from tokens)\n",
    "        \"\"\"\n",
    "        df = df.copy()  # Avoid SettingWithCopyWarning\n",
    "\n",
    "        df = self.generate_text_features(df, text_column)\n",
    "        df.loc[:, 'cleaned_text'] = df[text_column].astype(str).apply(self.clean_text)\n",
    "        df.loc[:, 'tokenized_text'] = df['cleaned_text'].apply(self.tokenize)\n",
    "        df.loc[:, 'lemmatized_text'] = df['tokenized_text'].apply(self.lemmatize)\n",
    "        df.loc[:, 'document'] = df['tokenized_text'].apply(lambda x: ' '.join(x))\n",
    "\n",
    "        return df"
   ]
  },
  {
   "cell_type": "code",
   "execution_count": null,
   "id": "c5610a61",
   "metadata": {},
   "outputs": [],
   "source": [
    "# Instantiate the TextPreprocessor and preprocess the data\n",
    "preprocessor = TextPreprocessor()\n",
    "data = preprocessor.preprocess(data, 'tweet_text')"
   ]
  },
  {
   "cell_type": "code",
   "execution_count": null,
   "id": "4b651d33",
   "metadata": {},
   "outputs": [
    {
     "data": {
      "text/html": [
       "<div>\n",
       "<style scoped>\n",
       "    .dataframe tbody tr th:only-of-type {\n",
       "        vertical-align: middle;\n",
       "    }\n",
       "\n",
       "    .dataframe tbody tr th {\n",
       "        vertical-align: top;\n",
       "    }\n",
       "\n",
       "    .dataframe thead th {\n",
       "        text-align: right;\n",
       "    }\n",
       "</style>\n",
       "<table border=\"1\" class=\"dataframe\">\n",
       "  <thead>\n",
       "    <tr style=\"text-align: right;\">\n",
       "      <th></th>\n",
       "      <th>tweet_text</th>\n",
       "      <th>recipient</th>\n",
       "      <th>emotion</th>\n",
       "      <th>brand</th>\n",
       "      <th>tweet_length</th>\n",
       "      <th>char_count</th>\n",
       "      <th>word_count</th>\n",
       "      <th>sentence_count</th>\n",
       "      <th>cleaned_text</th>\n",
       "      <th>tokenized_text</th>\n",
       "      <th>lemmatized_text</th>\n",
       "      <th>document</th>\n",
       "    </tr>\n",
       "  </thead>\n",
       "  <tbody>\n",
       "    <tr>\n",
       "      <th>0</th>\n",
       "      <td>.@wesley83 I have a 3G iPhone. After 3 hrs twe...</td>\n",
       "      <td>iPhone</td>\n",
       "      <td>Negative</td>\n",
       "      <td>Apple</td>\n",
       "      <td>23</td>\n",
       "      <td>127</td>\n",
       "      <td>23</td>\n",
       "      <td>5</td>\n",
       "      <td>wesley i have a g iphone after hrs tweeting at...</td>\n",
       "      <td>[wesley, g, iphone, hrs, tweeting, dead, need,...</td>\n",
       "      <td>[wesley, g, iphone, hr, tweeting, dead, need, ...</td>\n",
       "      <td>wesley g iphone hrs tweeting dead need upgrade...</td>\n",
       "    </tr>\n",
       "    <tr>\n",
       "      <th>1</th>\n",
       "      <td>@jessedee Know about @fludapp ? Awesome iPad/i...</td>\n",
       "      <td>iPad or iPhone App</td>\n",
       "      <td>Positive</td>\n",
       "      <td>Apple</td>\n",
       "      <td>22</td>\n",
       "      <td>139</td>\n",
       "      <td>22</td>\n",
       "      <td>2</td>\n",
       "      <td>jessedee know about fludapp awesome ipadiphone...</td>\n",
       "      <td>[jessedee, know, fludapp, awesome, ipadiphone,...</td>\n",
       "      <td>[jessedee, know, fludapp, awesome, ipadiphone,...</td>\n",
       "      <td>jessedee know fludapp awesome ipadiphone app y...</td>\n",
       "    </tr>\n",
       "    <tr>\n",
       "      <th>2</th>\n",
       "      <td>@swonderlin Can not wait for #iPad 2 also. The...</td>\n",
       "      <td>iPad</td>\n",
       "      <td>Positive</td>\n",
       "      <td>Apple</td>\n",
       "      <td>15</td>\n",
       "      <td>79</td>\n",
       "      <td>15</td>\n",
       "      <td>3</td>\n",
       "      <td>swonderlin can not wait for also they should s...</td>\n",
       "      <td>[swonderlin, wait, also, sale]</td>\n",
       "      <td>[swonderlin, wait, also, sale]</td>\n",
       "      <td>swonderlin wait also sale</td>\n",
       "    </tr>\n",
       "  </tbody>\n",
       "</table>\n",
       "</div>"
      ],
      "text/plain": [
       "                                          tweet_text           recipient  \\\n",
       "0  .@wesley83 I have a 3G iPhone. After 3 hrs twe...              iPhone   \n",
       "1  @jessedee Know about @fludapp ? Awesome iPad/i...  iPad or iPhone App   \n",
       "2  @swonderlin Can not wait for #iPad 2 also. The...                iPad   \n",
       "\n",
       "    emotion  brand  tweet_length  char_count  word_count  sentence_count  \\\n",
       "0  Negative  Apple            23         127          23               5   \n",
       "1  Positive  Apple            22         139          22               2   \n",
       "2  Positive  Apple            15          79          15               3   \n",
       "\n",
       "                                        cleaned_text  \\\n",
       "0  wesley i have a g iphone after hrs tweeting at...   \n",
       "1  jessedee know about fludapp awesome ipadiphone...   \n",
       "2  swonderlin can not wait for also they should s...   \n",
       "\n",
       "                                      tokenized_text  \\\n",
       "0  [wesley, g, iphone, hrs, tweeting, dead, need,...   \n",
       "1  [jessedee, know, fludapp, awesome, ipadiphone,...   \n",
       "2                     [swonderlin, wait, also, sale]   \n",
       "\n",
       "                                     lemmatized_text  \\\n",
       "0  [wesley, g, iphone, hr, tweeting, dead, need, ...   \n",
       "1  [jessedee, know, fludapp, awesome, ipadiphone,...   \n",
       "2                     [swonderlin, wait, also, sale]   \n",
       "\n",
       "                                            document  \n",
       "0  wesley g iphone hrs tweeting dead need upgrade...  \n",
       "1  jessedee know fludapp awesome ipadiphone app y...  \n",
       "2                          swonderlin wait also sale  "
      ]
     },
     "execution_count": 139,
     "metadata": {},
     "output_type": "execute_result"
    }
   ],
   "source": [
    "data.head()"
   ]
  },
  {
   "cell_type": "markdown",
   "id": "8dc485a1",
   "metadata": {},
   "source": [
    "#### Binary Classification"
   ]
  },
  {
   "cell_type": "markdown",
   "id": "d88437ff",
   "metadata": {},
   "source": [
    "In this section, the dataset is prepared for modeling in two steps. First, the data is split into training and testing sets using the train_test_split function to ensure that model evaluation is done on unseen data. Then, the text data is converted into numerical format using CountVectorizer, which transforms the raw documents into a matrix of token counts — fitting on the training set and transforming both train and test sets accordingly."
   ]
  },
  {
   "cell_type": "code",
   "execution_count": null,
   "id": "c6bcb959",
   "metadata": {},
   "outputs": [],
   "source": [
    "# Encode the 'emotion' column to numerical values\n",
    "le = LabelEncoder()\n",
    "\n",
    "data['emotion_code'] = le.fit_transform(data['emotion'])"
   ]
  },
  {
   "cell_type": "code",
   "execution_count": null,
   "id": "c7d3f1d3",
   "metadata": {},
   "outputs": [
    {
     "data": {
      "text/html": [
       "<div>\n",
       "<style scoped>\n",
       "    .dataframe tbody tr th:only-of-type {\n",
       "        vertical-align: middle;\n",
       "    }\n",
       "\n",
       "    .dataframe tbody tr th {\n",
       "        vertical-align: top;\n",
       "    }\n",
       "\n",
       "    .dataframe thead th {\n",
       "        text-align: right;\n",
       "    }\n",
       "</style>\n",
       "<table border=\"1\" class=\"dataframe\">\n",
       "  <thead>\n",
       "    <tr style=\"text-align: right;\">\n",
       "      <th></th>\n",
       "      <th>emotion</th>\n",
       "      <th>emotion_code</th>\n",
       "    </tr>\n",
       "  </thead>\n",
       "  <tbody>\n",
       "    <tr>\n",
       "      <th>0</th>\n",
       "      <td>Negative</td>\n",
       "      <td>0</td>\n",
       "    </tr>\n",
       "    <tr>\n",
       "      <th>1</th>\n",
       "      <td>Positive</td>\n",
       "      <td>2</td>\n",
       "    </tr>\n",
       "    <tr>\n",
       "      <th>2</th>\n",
       "      <td>Positive</td>\n",
       "      <td>2</td>\n",
       "    </tr>\n",
       "    <tr>\n",
       "      <th>3</th>\n",
       "      <td>Negative</td>\n",
       "      <td>0</td>\n",
       "    </tr>\n",
       "    <tr>\n",
       "      <th>4</th>\n",
       "      <td>Positive</td>\n",
       "      <td>2</td>\n",
       "    </tr>\n",
       "    <tr>\n",
       "      <th>...</th>\n",
       "      <td>...</td>\n",
       "      <td>...</td>\n",
       "    </tr>\n",
       "    <tr>\n",
       "      <th>9088</th>\n",
       "      <td>Positive</td>\n",
       "      <td>2</td>\n",
       "    </tr>\n",
       "    <tr>\n",
       "      <th>9089</th>\n",
       "      <td>Neutral</td>\n",
       "      <td>1</td>\n",
       "    </tr>\n",
       "    <tr>\n",
       "      <th>9090</th>\n",
       "      <td>Neutral</td>\n",
       "      <td>1</td>\n",
       "    </tr>\n",
       "    <tr>\n",
       "      <th>9091</th>\n",
       "      <td>Neutral</td>\n",
       "      <td>1</td>\n",
       "    </tr>\n",
       "    <tr>\n",
       "      <th>9092</th>\n",
       "      <td>Neutral</td>\n",
       "      <td>1</td>\n",
       "    </tr>\n",
       "  </tbody>\n",
       "</table>\n",
       "<p>9092 rows × 2 columns</p>\n",
       "</div>"
      ],
      "text/plain": [
       "       emotion  emotion_code\n",
       "0     Negative             0\n",
       "1     Positive             2\n",
       "2     Positive             2\n",
       "3     Negative             0\n",
       "4     Positive             2\n",
       "...        ...           ...\n",
       "9088  Positive             2\n",
       "9089   Neutral             1\n",
       "9090   Neutral             1\n",
       "9091   Neutral             1\n",
       "9092   Neutral             1\n",
       "\n",
       "[9092 rows x 2 columns]"
      ]
     },
     "execution_count": 141,
     "metadata": {},
     "output_type": "execute_result"
    }
   ],
   "source": [
    "# Viewing the encoded 'emotion' column and the original 'emotion' column\n",
    "data[['emotion', 'emotion_code']]"
   ]
  },
  {
   "cell_type": "code",
   "execution_count": null,
   "id": "605c9cdb",
   "metadata": {},
   "outputs": [
    {
     "data": {
      "text/html": [
       "<div>\n",
       "<style scoped>\n",
       "    .dataframe tbody tr th:only-of-type {\n",
       "        vertical-align: middle;\n",
       "    }\n",
       "\n",
       "    .dataframe tbody tr th {\n",
       "        vertical-align: top;\n",
       "    }\n",
       "\n",
       "    .dataframe thead th {\n",
       "        text-align: right;\n",
       "    }\n",
       "</style>\n",
       "<table border=\"1\" class=\"dataframe\">\n",
       "  <thead>\n",
       "    <tr style=\"text-align: right;\">\n",
       "      <th></th>\n",
       "      <th>tweet_text</th>\n",
       "      <th>recipient</th>\n",
       "      <th>emotion</th>\n",
       "      <th>brand</th>\n",
       "      <th>tweet_length</th>\n",
       "      <th>char_count</th>\n",
       "      <th>word_count</th>\n",
       "      <th>sentence_count</th>\n",
       "      <th>cleaned_text</th>\n",
       "      <th>tokenized_text</th>\n",
       "      <th>lemmatized_text</th>\n",
       "      <th>document</th>\n",
       "      <th>emotion_code</th>\n",
       "    </tr>\n",
       "  </thead>\n",
       "  <tbody>\n",
       "    <tr>\n",
       "      <th>0</th>\n",
       "      <td>.@wesley83 I have a 3G iPhone. After 3 hrs twe...</td>\n",
       "      <td>iPhone</td>\n",
       "      <td>Negative</td>\n",
       "      <td>Apple</td>\n",
       "      <td>23</td>\n",
       "      <td>127</td>\n",
       "      <td>23</td>\n",
       "      <td>5</td>\n",
       "      <td>wesley i have a g iphone after hrs tweeting at...</td>\n",
       "      <td>[wesley, g, iphone, hrs, tweeting, dead, need,...</td>\n",
       "      <td>[wesley, g, iphone, hr, tweeting, dead, need, ...</td>\n",
       "      <td>wesley g iphone hrs tweeting dead need upgrade...</td>\n",
       "      <td>0</td>\n",
       "    </tr>\n",
       "    <tr>\n",
       "      <th>1</th>\n",
       "      <td>@jessedee Know about @fludapp ? Awesome iPad/i...</td>\n",
       "      <td>iPad or iPhone App</td>\n",
       "      <td>Positive</td>\n",
       "      <td>Apple</td>\n",
       "      <td>22</td>\n",
       "      <td>139</td>\n",
       "      <td>22</td>\n",
       "      <td>2</td>\n",
       "      <td>jessedee know about fludapp awesome ipadiphone...</td>\n",
       "      <td>[jessedee, know, fludapp, awesome, ipadiphone,...</td>\n",
       "      <td>[jessedee, know, fludapp, awesome, ipadiphone,...</td>\n",
       "      <td>jessedee know fludapp awesome ipadiphone app y...</td>\n",
       "      <td>2</td>\n",
       "    </tr>\n",
       "    <tr>\n",
       "      <th>2</th>\n",
       "      <td>@swonderlin Can not wait for #iPad 2 also. The...</td>\n",
       "      <td>iPad</td>\n",
       "      <td>Positive</td>\n",
       "      <td>Apple</td>\n",
       "      <td>15</td>\n",
       "      <td>79</td>\n",
       "      <td>15</td>\n",
       "      <td>3</td>\n",
       "      <td>swonderlin can not wait for also they should s...</td>\n",
       "      <td>[swonderlin, wait, also, sale]</td>\n",
       "      <td>[swonderlin, wait, also, sale]</td>\n",
       "      <td>swonderlin wait also sale</td>\n",
       "      <td>2</td>\n",
       "    </tr>\n",
       "    <tr>\n",
       "      <th>3</th>\n",
       "      <td>@sxsw I hope this year's festival isn't as cra...</td>\n",
       "      <td>iPad or iPhone App</td>\n",
       "      <td>Negative</td>\n",
       "      <td>Apple</td>\n",
       "      <td>15</td>\n",
       "      <td>82</td>\n",
       "      <td>15</td>\n",
       "      <td>2</td>\n",
       "      <td>sxsw i hope this years festival isnt as crashy...</td>\n",
       "      <td>[sxsw, hope, years, festival, isnt, crashy, ye...</td>\n",
       "      <td>[sxsw, hope, year, festival, isnt, crashy, yea...</td>\n",
       "      <td>sxsw hope years festival isnt crashy years iph...</td>\n",
       "      <td>0</td>\n",
       "    </tr>\n",
       "    <tr>\n",
       "      <th>4</th>\n",
       "      <td>@sxtxstate great stuff on Fri #SXSW: Marissa M...</td>\n",
       "      <td>Google</td>\n",
       "      <td>Positive</td>\n",
       "      <td>Google</td>\n",
       "      <td>17</td>\n",
       "      <td>131</td>\n",
       "      <td>17</td>\n",
       "      <td>1</td>\n",
       "      <td>sxtxstate great stuff on fri marissa mayer goo...</td>\n",
       "      <td>[sxtxstate, great, stuff, fri, marissa, mayer,...</td>\n",
       "      <td>[sxtxstate, great, stuff, fri, marissa, mayer,...</td>\n",
       "      <td>sxtxstate great stuff fri marissa mayer google...</td>\n",
       "      <td>2</td>\n",
       "    </tr>\n",
       "    <tr>\n",
       "      <th>5</th>\n",
       "      <td>@teachntech00 New iPad Apps For #SpeechTherapy...</td>\n",
       "      <td>No brand</td>\n",
       "      <td>Neutral</td>\n",
       "      <td>none</td>\n",
       "      <td>18</td>\n",
       "      <td>140</td>\n",
       "      <td>18</td>\n",
       "      <td>2</td>\n",
       "      <td>teachntech new ipad apps for and communication...</td>\n",
       "      <td>[teachntech, new, ipad, apps, communication, s...</td>\n",
       "      <td>[teachntech, new, ipad, apps, communication, s...</td>\n",
       "      <td>teachntech new ipad apps communication showcas...</td>\n",
       "      <td>1</td>\n",
       "    </tr>\n",
       "    <tr>\n",
       "      <th>7</th>\n",
       "      <td>#SXSW is just starting, #CTIA is around the co...</td>\n",
       "      <td>Android</td>\n",
       "      <td>Positive</td>\n",
       "      <td>Google</td>\n",
       "      <td>28</td>\n",
       "      <td>138</td>\n",
       "      <td>28</td>\n",
       "      <td>1</td>\n",
       "      <td>is just starting is around the corner and is o...</td>\n",
       "      <td>[starting, around, corner, hop, skip, jump, go...</td>\n",
       "      <td>[starting, around, corner, hop, skip, jump, go...</td>\n",
       "      <td>starting around corner hop skip jump good time...</td>\n",
       "      <td>2</td>\n",
       "    </tr>\n",
       "    <tr>\n",
       "      <th>8</th>\n",
       "      <td>Beautifully smart and simple idea RT @madebyma...</td>\n",
       "      <td>iPad or iPhone App</td>\n",
       "      <td>Positive</td>\n",
       "      <td>Apple</td>\n",
       "      <td>17</td>\n",
       "      <td>129</td>\n",
       "      <td>17</td>\n",
       "      <td>2</td>\n",
       "      <td>beautifully smart and simple idea rt madebyman...</td>\n",
       "      <td>[beautifully, smart, simple, idea, rt, madebym...</td>\n",
       "      <td>[beautifully, smart, simple, idea, rt, madebym...</td>\n",
       "      <td>beautifully smart simple idea rt madebymany th...</td>\n",
       "      <td>2</td>\n",
       "    </tr>\n",
       "    <tr>\n",
       "      <th>9</th>\n",
       "      <td>Counting down the days to #sxsw plus strong Ca...</td>\n",
       "      <td>Apple</td>\n",
       "      <td>Positive</td>\n",
       "      <td>Apple</td>\n",
       "      <td>16</td>\n",
       "      <td>88</td>\n",
       "      <td>16</td>\n",
       "      <td>1</td>\n",
       "      <td>counting down the days to plus strong canadian...</td>\n",
       "      <td>[counting, days, plus, strong, canadian, dolla...</td>\n",
       "      <td>[counting, day, plus, strong, canadian, dollar...</td>\n",
       "      <td>counting days plus strong canadian dollar mean...</td>\n",
       "      <td>2</td>\n",
       "    </tr>\n",
       "    <tr>\n",
       "      <th>10</th>\n",
       "      <td>Excited to meet the @samsungmobileus at #sxsw ...</td>\n",
       "      <td>Android</td>\n",
       "      <td>Positive</td>\n",
       "      <td>Google</td>\n",
       "      <td>21</td>\n",
       "      <td>118</td>\n",
       "      <td>21</td>\n",
       "      <td>3</td>\n",
       "      <td>excited to meet the samsungmobileus at so i ca...</td>\n",
       "      <td>[excited, meet, samsungmobileus, show, sprint,...</td>\n",
       "      <td>[excited, meet, samsungmobileus, show, sprint,...</td>\n",
       "      <td>excited meet samsungmobileus show sprint galax...</td>\n",
       "      <td>2</td>\n",
       "    </tr>\n",
       "  </tbody>\n",
       "</table>\n",
       "</div>"
      ],
      "text/plain": [
       "                                           tweet_text           recipient  \\\n",
       "0   .@wesley83 I have a 3G iPhone. After 3 hrs twe...              iPhone   \n",
       "1   @jessedee Know about @fludapp ? Awesome iPad/i...  iPad or iPhone App   \n",
       "2   @swonderlin Can not wait for #iPad 2 also. The...                iPad   \n",
       "3   @sxsw I hope this year's festival isn't as cra...  iPad or iPhone App   \n",
       "4   @sxtxstate great stuff on Fri #SXSW: Marissa M...              Google   \n",
       "5   @teachntech00 New iPad Apps For #SpeechTherapy...            No brand   \n",
       "7   #SXSW is just starting, #CTIA is around the co...             Android   \n",
       "8   Beautifully smart and simple idea RT @madebyma...  iPad or iPhone App   \n",
       "9   Counting down the days to #sxsw plus strong Ca...               Apple   \n",
       "10  Excited to meet the @samsungmobileus at #sxsw ...             Android   \n",
       "\n",
       "     emotion   brand  tweet_length  char_count  word_count  sentence_count  \\\n",
       "0   Negative   Apple            23         127          23               5   \n",
       "1   Positive   Apple            22         139          22               2   \n",
       "2   Positive   Apple            15          79          15               3   \n",
       "3   Negative   Apple            15          82          15               2   \n",
       "4   Positive  Google            17         131          17               1   \n",
       "5    Neutral    none            18         140          18               2   \n",
       "7   Positive  Google            28         138          28               1   \n",
       "8   Positive   Apple            17         129          17               2   \n",
       "9   Positive   Apple            16          88          16               1   \n",
       "10  Positive  Google            21         118          21               3   \n",
       "\n",
       "                                         cleaned_text  \\\n",
       "0   wesley i have a g iphone after hrs tweeting at...   \n",
       "1   jessedee know about fludapp awesome ipadiphone...   \n",
       "2   swonderlin can not wait for also they should s...   \n",
       "3   sxsw i hope this years festival isnt as crashy...   \n",
       "4   sxtxstate great stuff on fri marissa mayer goo...   \n",
       "5   teachntech new ipad apps for and communication...   \n",
       "7   is just starting is around the corner and is o...   \n",
       "8   beautifully smart and simple idea rt madebyman...   \n",
       "9   counting down the days to plus strong canadian...   \n",
       "10  excited to meet the samsungmobileus at so i ca...   \n",
       "\n",
       "                                       tokenized_text  \\\n",
       "0   [wesley, g, iphone, hrs, tweeting, dead, need,...   \n",
       "1   [jessedee, know, fludapp, awesome, ipadiphone,...   \n",
       "2                      [swonderlin, wait, also, sale]   \n",
       "3   [sxsw, hope, years, festival, isnt, crashy, ye...   \n",
       "4   [sxtxstate, great, stuff, fri, marissa, mayer,...   \n",
       "5   [teachntech, new, ipad, apps, communication, s...   \n",
       "7   [starting, around, corner, hop, skip, jump, go...   \n",
       "8   [beautifully, smart, simple, idea, rt, madebym...   \n",
       "9   [counting, days, plus, strong, canadian, dolla...   \n",
       "10  [excited, meet, samsungmobileus, show, sprint,...   \n",
       "\n",
       "                                      lemmatized_text  \\\n",
       "0   [wesley, g, iphone, hr, tweeting, dead, need, ...   \n",
       "1   [jessedee, know, fludapp, awesome, ipadiphone,...   \n",
       "2                      [swonderlin, wait, also, sale]   \n",
       "3   [sxsw, hope, year, festival, isnt, crashy, yea...   \n",
       "4   [sxtxstate, great, stuff, fri, marissa, mayer,...   \n",
       "5   [teachntech, new, ipad, apps, communication, s...   \n",
       "7   [starting, around, corner, hop, skip, jump, go...   \n",
       "8   [beautifully, smart, simple, idea, rt, madebym...   \n",
       "9   [counting, day, plus, strong, canadian, dollar...   \n",
       "10  [excited, meet, samsungmobileus, show, sprint,...   \n",
       "\n",
       "                                             document  emotion_code  \n",
       "0   wesley g iphone hrs tweeting dead need upgrade...             0  \n",
       "1   jessedee know fludapp awesome ipadiphone app y...             2  \n",
       "2                           swonderlin wait also sale             2  \n",
       "3   sxsw hope years festival isnt crashy years iph...             0  \n",
       "4   sxtxstate great stuff fri marissa mayer google...             2  \n",
       "5   teachntech new ipad apps communication showcas...             1  \n",
       "7   starting around corner hop skip jump good time...             2  \n",
       "8   beautifully smart simple idea rt madebymany th...             2  \n",
       "9   counting days plus strong canadian dollar mean...             2  \n",
       "10  excited meet samsungmobileus show sprint galax...             2  "
      ]
     },
     "execution_count": 142,
     "metadata": {},
     "output_type": "execute_result"
    }
   ],
   "source": [
    "#Make a copy of the data for binary classification\n",
    "binary_data = data.copy()\n",
    "binary_data.head(10)"
   ]
  },
  {
   "cell_type": "code",
   "execution_count": null,
   "id": "6362c389",
   "metadata": {},
   "outputs": [
    {
     "data": {
      "text/html": [
       "<div>\n",
       "<style scoped>\n",
       "    .dataframe tbody tr th:only-of-type {\n",
       "        vertical-align: middle;\n",
       "    }\n",
       "\n",
       "    .dataframe tbody tr th {\n",
       "        vertical-align: top;\n",
       "    }\n",
       "\n",
       "    .dataframe thead th {\n",
       "        text-align: right;\n",
       "    }\n",
       "</style>\n",
       "<table border=\"1\" class=\"dataframe\">\n",
       "  <thead>\n",
       "    <tr style=\"text-align: right;\">\n",
       "      <th></th>\n",
       "      <th>tweet_text</th>\n",
       "      <th>recipient</th>\n",
       "      <th>emotion</th>\n",
       "      <th>brand</th>\n",
       "      <th>tweet_length</th>\n",
       "      <th>char_count</th>\n",
       "      <th>word_count</th>\n",
       "      <th>sentence_count</th>\n",
       "      <th>cleaned_text</th>\n",
       "      <th>tokenized_text</th>\n",
       "      <th>lemmatized_text</th>\n",
       "      <th>document</th>\n",
       "      <th>emotion_code</th>\n",
       "    </tr>\n",
       "  </thead>\n",
       "  <tbody>\n",
       "    <tr>\n",
       "      <th>0</th>\n",
       "      <td>.@wesley83 I have a 3G iPhone. After 3 hrs twe...</td>\n",
       "      <td>iPhone</td>\n",
       "      <td>Negative</td>\n",
       "      <td>Apple</td>\n",
       "      <td>23</td>\n",
       "      <td>127</td>\n",
       "      <td>23</td>\n",
       "      <td>5</td>\n",
       "      <td>wesley i have a g iphone after hrs tweeting at...</td>\n",
       "      <td>[wesley, g, iphone, hrs, tweeting, dead, need,...</td>\n",
       "      <td>[wesley, g, iphone, hr, tweeting, dead, need, ...</td>\n",
       "      <td>wesley g iphone hrs tweeting dead need upgrade...</td>\n",
       "      <td>0</td>\n",
       "    </tr>\n",
       "    <tr>\n",
       "      <th>1</th>\n",
       "      <td>@jessedee Know about @fludapp ? Awesome iPad/i...</td>\n",
       "      <td>iPad or iPhone App</td>\n",
       "      <td>Positive</td>\n",
       "      <td>Apple</td>\n",
       "      <td>22</td>\n",
       "      <td>139</td>\n",
       "      <td>22</td>\n",
       "      <td>2</td>\n",
       "      <td>jessedee know about fludapp awesome ipadiphone...</td>\n",
       "      <td>[jessedee, know, fludapp, awesome, ipadiphone,...</td>\n",
       "      <td>[jessedee, know, fludapp, awesome, ipadiphone,...</td>\n",
       "      <td>jessedee know fludapp awesome ipadiphone app y...</td>\n",
       "      <td>2</td>\n",
       "    </tr>\n",
       "    <tr>\n",
       "      <th>2</th>\n",
       "      <td>@swonderlin Can not wait for #iPad 2 also. The...</td>\n",
       "      <td>iPad</td>\n",
       "      <td>Positive</td>\n",
       "      <td>Apple</td>\n",
       "      <td>15</td>\n",
       "      <td>79</td>\n",
       "      <td>15</td>\n",
       "      <td>3</td>\n",
       "      <td>swonderlin can not wait for also they should s...</td>\n",
       "      <td>[swonderlin, wait, also, sale]</td>\n",
       "      <td>[swonderlin, wait, also, sale]</td>\n",
       "      <td>swonderlin wait also sale</td>\n",
       "      <td>2</td>\n",
       "    </tr>\n",
       "    <tr>\n",
       "      <th>3</th>\n",
       "      <td>@sxsw I hope this year's festival isn't as cra...</td>\n",
       "      <td>iPad or iPhone App</td>\n",
       "      <td>Negative</td>\n",
       "      <td>Apple</td>\n",
       "      <td>15</td>\n",
       "      <td>82</td>\n",
       "      <td>15</td>\n",
       "      <td>2</td>\n",
       "      <td>sxsw i hope this years festival isnt as crashy...</td>\n",
       "      <td>[sxsw, hope, years, festival, isnt, crashy, ye...</td>\n",
       "      <td>[sxsw, hope, year, festival, isnt, crashy, yea...</td>\n",
       "      <td>sxsw hope years festival isnt crashy years iph...</td>\n",
       "      <td>0</td>\n",
       "    </tr>\n",
       "    <tr>\n",
       "      <th>4</th>\n",
       "      <td>@sxtxstate great stuff on Fri #SXSW: Marissa M...</td>\n",
       "      <td>Google</td>\n",
       "      <td>Positive</td>\n",
       "      <td>Google</td>\n",
       "      <td>17</td>\n",
       "      <td>131</td>\n",
       "      <td>17</td>\n",
       "      <td>1</td>\n",
       "      <td>sxtxstate great stuff on fri marissa mayer goo...</td>\n",
       "      <td>[sxtxstate, great, stuff, fri, marissa, mayer,...</td>\n",
       "      <td>[sxtxstate, great, stuff, fri, marissa, mayer,...</td>\n",
       "      <td>sxtxstate great stuff fri marissa mayer google...</td>\n",
       "      <td>2</td>\n",
       "    </tr>\n",
       "    <tr>\n",
       "      <th>7</th>\n",
       "      <td>#SXSW is just starting, #CTIA is around the co...</td>\n",
       "      <td>Android</td>\n",
       "      <td>Positive</td>\n",
       "      <td>Google</td>\n",
       "      <td>28</td>\n",
       "      <td>138</td>\n",
       "      <td>28</td>\n",
       "      <td>1</td>\n",
       "      <td>is just starting is around the corner and is o...</td>\n",
       "      <td>[starting, around, corner, hop, skip, jump, go...</td>\n",
       "      <td>[starting, around, corner, hop, skip, jump, go...</td>\n",
       "      <td>starting around corner hop skip jump good time...</td>\n",
       "      <td>2</td>\n",
       "    </tr>\n",
       "    <tr>\n",
       "      <th>8</th>\n",
       "      <td>Beautifully smart and simple idea RT @madebyma...</td>\n",
       "      <td>iPad or iPhone App</td>\n",
       "      <td>Positive</td>\n",
       "      <td>Apple</td>\n",
       "      <td>17</td>\n",
       "      <td>129</td>\n",
       "      <td>17</td>\n",
       "      <td>2</td>\n",
       "      <td>beautifully smart and simple idea rt madebyman...</td>\n",
       "      <td>[beautifully, smart, simple, idea, rt, madebym...</td>\n",
       "      <td>[beautifully, smart, simple, idea, rt, madebym...</td>\n",
       "      <td>beautifully smart simple idea rt madebymany th...</td>\n",
       "      <td>2</td>\n",
       "    </tr>\n",
       "    <tr>\n",
       "      <th>9</th>\n",
       "      <td>Counting down the days to #sxsw plus strong Ca...</td>\n",
       "      <td>Apple</td>\n",
       "      <td>Positive</td>\n",
       "      <td>Apple</td>\n",
       "      <td>16</td>\n",
       "      <td>88</td>\n",
       "      <td>16</td>\n",
       "      <td>1</td>\n",
       "      <td>counting down the days to plus strong canadian...</td>\n",
       "      <td>[counting, days, plus, strong, canadian, dolla...</td>\n",
       "      <td>[counting, day, plus, strong, canadian, dollar...</td>\n",
       "      <td>counting days plus strong canadian dollar mean...</td>\n",
       "      <td>2</td>\n",
       "    </tr>\n",
       "    <tr>\n",
       "      <th>10</th>\n",
       "      <td>Excited to meet the @samsungmobileus at #sxsw ...</td>\n",
       "      <td>Android</td>\n",
       "      <td>Positive</td>\n",
       "      <td>Google</td>\n",
       "      <td>21</td>\n",
       "      <td>118</td>\n",
       "      <td>21</td>\n",
       "      <td>3</td>\n",
       "      <td>excited to meet the samsungmobileus at so i ca...</td>\n",
       "      <td>[excited, meet, samsungmobileus, show, sprint,...</td>\n",
       "      <td>[excited, meet, samsungmobileus, show, sprint,...</td>\n",
       "      <td>excited meet samsungmobileus show sprint galax...</td>\n",
       "      <td>2</td>\n",
       "    </tr>\n",
       "    <tr>\n",
       "      <th>11</th>\n",
       "      <td>Find &amp;amp; Start Impromptu Parties at #SXSW Wi...</td>\n",
       "      <td>Android App</td>\n",
       "      <td>Positive</td>\n",
       "      <td>Google</td>\n",
       "      <td>19</td>\n",
       "      <td>129</td>\n",
       "      <td>19</td>\n",
       "      <td>3</td>\n",
       "      <td>find amp start impromptu parties at with hurri...</td>\n",
       "      <td>[find, amp, start, impromptu, parties, hurrica...</td>\n",
       "      <td>[find, amp, start, impromptu, party, hurricane...</td>\n",
       "      <td>find amp start impromptu parties hurricanepart...</td>\n",
       "      <td>2</td>\n",
       "    </tr>\n",
       "  </tbody>\n",
       "</table>\n",
       "</div>"
      ],
      "text/plain": [
       "                                           tweet_text           recipient  \\\n",
       "0   .@wesley83 I have a 3G iPhone. After 3 hrs twe...              iPhone   \n",
       "1   @jessedee Know about @fludapp ? Awesome iPad/i...  iPad or iPhone App   \n",
       "2   @swonderlin Can not wait for #iPad 2 also. The...                iPad   \n",
       "3   @sxsw I hope this year's festival isn't as cra...  iPad or iPhone App   \n",
       "4   @sxtxstate great stuff on Fri #SXSW: Marissa M...              Google   \n",
       "7   #SXSW is just starting, #CTIA is around the co...             Android   \n",
       "8   Beautifully smart and simple idea RT @madebyma...  iPad or iPhone App   \n",
       "9   Counting down the days to #sxsw plus strong Ca...               Apple   \n",
       "10  Excited to meet the @samsungmobileus at #sxsw ...             Android   \n",
       "11  Find &amp; Start Impromptu Parties at #SXSW Wi...         Android App   \n",
       "\n",
       "     emotion   brand  tweet_length  char_count  word_count  sentence_count  \\\n",
       "0   Negative   Apple            23         127          23               5   \n",
       "1   Positive   Apple            22         139          22               2   \n",
       "2   Positive   Apple            15          79          15               3   \n",
       "3   Negative   Apple            15          82          15               2   \n",
       "4   Positive  Google            17         131          17               1   \n",
       "7   Positive  Google            28         138          28               1   \n",
       "8   Positive   Apple            17         129          17               2   \n",
       "9   Positive   Apple            16          88          16               1   \n",
       "10  Positive  Google            21         118          21               3   \n",
       "11  Positive  Google            19         129          19               3   \n",
       "\n",
       "                                         cleaned_text  \\\n",
       "0   wesley i have a g iphone after hrs tweeting at...   \n",
       "1   jessedee know about fludapp awesome ipadiphone...   \n",
       "2   swonderlin can not wait for also they should s...   \n",
       "3   sxsw i hope this years festival isnt as crashy...   \n",
       "4   sxtxstate great stuff on fri marissa mayer goo...   \n",
       "7   is just starting is around the corner and is o...   \n",
       "8   beautifully smart and simple idea rt madebyman...   \n",
       "9   counting down the days to plus strong canadian...   \n",
       "10  excited to meet the samsungmobileus at so i ca...   \n",
       "11  find amp start impromptu parties at with hurri...   \n",
       "\n",
       "                                       tokenized_text  \\\n",
       "0   [wesley, g, iphone, hrs, tweeting, dead, need,...   \n",
       "1   [jessedee, know, fludapp, awesome, ipadiphone,...   \n",
       "2                      [swonderlin, wait, also, sale]   \n",
       "3   [sxsw, hope, years, festival, isnt, crashy, ye...   \n",
       "4   [sxtxstate, great, stuff, fri, marissa, mayer,...   \n",
       "7   [starting, around, corner, hop, skip, jump, go...   \n",
       "8   [beautifully, smart, simple, idea, rt, madebym...   \n",
       "9   [counting, days, plus, strong, canadian, dolla...   \n",
       "10  [excited, meet, samsungmobileus, show, sprint,...   \n",
       "11  [find, amp, start, impromptu, parties, hurrica...   \n",
       "\n",
       "                                      lemmatized_text  \\\n",
       "0   [wesley, g, iphone, hr, tweeting, dead, need, ...   \n",
       "1   [jessedee, know, fludapp, awesome, ipadiphone,...   \n",
       "2                      [swonderlin, wait, also, sale]   \n",
       "3   [sxsw, hope, year, festival, isnt, crashy, yea...   \n",
       "4   [sxtxstate, great, stuff, fri, marissa, mayer,...   \n",
       "7   [starting, around, corner, hop, skip, jump, go...   \n",
       "8   [beautifully, smart, simple, idea, rt, madebym...   \n",
       "9   [counting, day, plus, strong, canadian, dollar...   \n",
       "10  [excited, meet, samsungmobileus, show, sprint,...   \n",
       "11  [find, amp, start, impromptu, party, hurricane...   \n",
       "\n",
       "                                             document  emotion_code  \n",
       "0   wesley g iphone hrs tweeting dead need upgrade...             0  \n",
       "1   jessedee know fludapp awesome ipadiphone app y...             2  \n",
       "2                           swonderlin wait also sale             2  \n",
       "3   sxsw hope years festival isnt crashy years iph...             0  \n",
       "4   sxtxstate great stuff fri marissa mayer google...             2  \n",
       "7   starting around corner hop skip jump good time...             2  \n",
       "8   beautifully smart simple idea rt madebymany th...             2  \n",
       "9   counting days plus strong canadian dollar mean...             2  \n",
       "10  excited meet samsungmobileus show sprint galax...             2  \n",
       "11  find amp start impromptu parties hurricanepart...             2  "
      ]
     },
     "execution_count": 143,
     "metadata": {},
     "output_type": "execute_result"
    }
   ],
   "source": [
    "#Dropping the records with 'emotion_code' == 1 (which corresponds to 'Neutral emotion')\n",
    "binary_data.drop(binary_data[binary_data['emotion_code'] == 1].index, inplace=True)\n",
    "binary_data.head()"
   ]
  },
  {
   "cell_type": "code",
   "execution_count": 144,
   "id": "a79bd903",
   "metadata": {},
   "outputs": [
    {
     "data": {
      "text/plain": [
       "emotion_code\n",
       "2    2978\n",
       "0     570\n",
       "Name: count, dtype: int64"
      ]
     },
     "execution_count": 144,
     "metadata": {},
     "output_type": "execute_result"
    }
   ],
   "source": [
    "binary_data['emotion_code'].value_counts()"
   ]
  },
  {
   "cell_type": "code",
   "execution_count": 145,
   "id": "e2fe22d3",
   "metadata": {},
   "outputs": [],
   "source": [
    "# split data to train and test sets\n",
    "\n",
    "X = binary_data['document']\n",
    "y = binary_data['emotion_code']\n",
    "\n",
    "X_train, X_test, y_train, y_test = train_test_split(X, y, random_state=42)"
   ]
  },
  {
   "cell_type": "code",
   "execution_count": 146,
   "id": "5df0f7ef",
   "metadata": {},
   "outputs": [],
   "source": [
    "# vectorize\n",
    "\n",
    "vectorizer = CountVectorizer()\n",
    "X_train_vec = vectorizer.fit_transform(X_train)\n",
    "X_test_vec = vectorizer.transform(X_test)"
   ]
  },
  {
   "cell_type": "markdown",
   "id": "d1a905ee",
   "metadata": {},
   "source": [
    "We will use the logistic regression as our baseline model"
   ]
  },
  {
   "cell_type": "code",
   "execution_count": 147,
   "id": "9e6eb9a0",
   "metadata": {},
   "outputs": [
    {
     "data": {
      "text/plain": [
       "LogisticRegression()"
      ]
     },
     "execution_count": 147,
     "metadata": {},
     "output_type": "execute_result"
    }
   ],
   "source": [
    "logreg = LogisticRegression()\n",
    "\n",
    "logreg.fit(X_train_vec, y_train)"
   ]
  },
  {
   "cell_type": "code",
   "execution_count": 148,
   "id": "db8f6ddf",
   "metadata": {},
   "outputs": [
    {
     "name": "stdout",
     "output_type": "stream",
     "text": [
      "Train accuracy: 0.971815107102593\n",
      "Test accuracy: 0.8804960541149943\n"
     ]
    }
   ],
   "source": [
    "y_pred = logreg.predict(X_test_vec)\n",
    "y_train_pred = logreg.predict(X_train_vec)\n",
    "\n",
    "print(\"Train accuracy:\", accuracy_score(y_train, y_train_pred))\n",
    "print(\"Test accuracy:\", accuracy_score(y_test, y_pred))"
   ]
  },
  {
   "cell_type": "code",
   "execution_count": 149,
   "id": "41ea4410",
   "metadata": {},
   "outputs": [
    {
     "name": "stdout",
     "output_type": "stream",
     "text": [
      "\n",
      "Classification Report:\n",
      "               precision    recall  f1-score   support\n",
      "\n",
      "           0       0.74      0.35      0.48       137\n",
      "           2       0.89      0.98      0.93       750\n",
      "\n",
      "    accuracy                           0.88       887\n",
      "   macro avg       0.82      0.66      0.70       887\n",
      "weighted avg       0.87      0.88      0.86       887\n",
      "\n"
     ]
    }
   ],
   "source": [
    "print(\"\\nClassification Report:\\n\", classification_report(y_test, y_pred))"
   ]
  },
  {
   "cell_type": "code",
   "execution_count": 150,
   "id": "c7a07407",
   "metadata": {},
   "outputs": [
    {
     "data": {
      "image/png": "[encoded data removed]",
      "text/plain": [
       "<Figure size 640x480 with 2 Axes>"
      ]
     },
     "metadata": {},
     "output_type": "display_data"
    }
   ],
   "source": [
    "#plot a confusion matrix\n",
    "log_matrix = confusion_matrix(y_test, y_pred)\n",
    "\n",
    "cm_display = metrics.ConfusionMatrixDisplay(confusion_matrix = log_matrix)\n",
    "cm_display.plot()\n",
    "plt.show()"
   ]
  },
  {
   "cell_type": "markdown",
   "id": "a6fdd417",
   "metadata": {},
   "source": [
    "True Negatives (48): Model correctly predicted 0 when the true label was 0.\n",
    "\n",
    "False Positives (89): Model incorrectly predicted 1 when the true label was 0.\n",
    "\n",
    "False Negatives (17): Model incorrectly predicted 0 when the true label was 1.\n",
    "\n",
    "True Positives (733): Model correctly predicted 1 when the true label was 1.\n",
    "\n",
    "Summary:\n",
    "The model performs very well on class 1 (positive/majority class) with high true positives and low false negatives. However, it struggles with class 0 (negative/minority class), misclassifying nearly 65% (89 out of 137) of them. This indicates class imbalance We'll try fitting a decision tree while accounting for the class imbalance to see if there will be better performance."
   ]
  },
  {
   "cell_type": "code",
   "execution_count": 151,
   "id": "8bb9566c",
   "metadata": {},
   "outputs": [
    {
     "name": "stdout",
     "output_type": "stream",
     "text": [
      "Train Accuracy: 1.0\n",
      "Test Accuracy: 0.7970687711386697\n",
      "\n",
      " Classification Report:\n",
      "              precision    recall  f1-score   support\n",
      "\n",
      "           0       0.39      0.53      0.45       137\n",
      "           2       0.91      0.85      0.88       750\n",
      "\n",
      "    accuracy                           0.80       887\n",
      "   macro avg       0.65      0.69      0.66       887\n",
      "weighted avg       0.83      0.80      0.81       887\n",
      "\n"
     ]
    }
   ],
   "source": [
    "weighted_tree = DecisionTreeClassifier(class_weight='balanced', random_state=42)\n",
    "weighted_tree.fit(X_train_vec, y_train)\n",
    "\n",
    "\n",
    "y_train_pred = weighted_tree.predict(X_train_vec)\n",
    "y_pred = weighted_tree.predict(X_test_vec)\n",
    "\n",
    "print(f\"Train Accuracy: {accuracy_score(y_train, y_train_pred)}\")\n",
    "print(f\"Test Accuracy: {accuracy_score(y_test, y_pred)}\")\n",
    "\n",
    "print(\"\\n Classification Report:\")\n",
    "print(classification_report(y_test, y_pred))"
   ]
  },
  {
   "cell_type": "markdown",
   "id": "50b01027",
   "metadata": {},
   "source": [
    "The tree performs worse than the logistic regression model. Let's try fitting again without accounting for the imbalance"
   ]
  },
  {
   "cell_type": "code",
   "execution_count": 152,
   "id": "a846a59f",
   "metadata": {},
   "outputs": [
    {
     "data": {
      "text/plain": [
       "DecisionTreeClassifier(random_state=42)"
      ]
     },
     "execution_count": 152,
     "metadata": {},
     "output_type": "execute_result"
    }
   ],
   "source": [
    "tree = DecisionTreeClassifier(random_state=42)\n",
    "tree.fit(X_train_vec, y_train)"
   ]
  },
  {
   "cell_type": "code",
   "execution_count": 153,
   "id": "9dfba1db",
   "metadata": {},
   "outputs": [
    {
     "name": "stdout",
     "output_type": "stream",
     "text": [
      "Train Accuracy: 1.0\n",
      "Test Accuracy: 0.8680947012401353\n",
      "\n",
      " Classification Report:\n",
      "              precision    recall  f1-score   support\n",
      "\n",
      "           0       0.62      0.36      0.46       137\n",
      "           2       0.89      0.96      0.92       750\n",
      "\n",
      "    accuracy                           0.87       887\n",
      "   macro avg       0.76      0.66      0.69       887\n",
      "weighted avg       0.85      0.87      0.85       887\n",
      "\n"
     ]
    }
   ],
   "source": [
    "# Evaluation \n",
    "y_train_pred = tree.predict(X_train_vec)\n",
    "y_pred = tree.predict(X_test_vec)\n",
    "\n",
    "print(f\"Train Accuracy: {accuracy_score(y_train, y_train_pred)}\")\n",
    "print(f\"Test Accuracy: {accuracy_score(y_test, y_pred)}\")\n",
    "\n",
    "print(\"\\n Classification Report:\")\n",
    "print(classification_report(y_test, y_pred))"
   ]
  },
  {
   "cell_type": "markdown",
   "id": "84522748",
   "metadata": {},
   "source": [
    "The tree performs a bit better without accounting for class imbalance.However the accuracies are not satisfactory so we'll try tuning to reduce overfitting by tuning the model."
   ]
  },
  {
   "cell_type": "code",
   "execution_count": 154,
   "id": "00abdc2f",
   "metadata": {},
   "outputs": [
    {
     "name": "stdout",
     "output_type": "stream",
     "text": [
      "Best Parameters: {'criterion': 'gini', 'max_depth': 10, 'min_samples_leaf': 1, 'min_samples_split': 10}\n",
      "\n",
      " Train Accuracy: 0.8726042841037204\n",
      "\n",
      " Test Accuracy: 0.8635851183765502\n"
     ]
    },
    {
     "name": "stderr",
     "output_type": "stream",
     "text": [
      "c:\\Users\\Lyster\\Documents\\anaconda3\\envs\\learn-env\\lib\\site-packages\\sklearn\\model_selection\\_search.py:922: UserWarning: One or more of the test scores are non-finite: [0.84329515 0.84404985 0.84066287 0.8079688  0.80609051 0.81999605\n",
      " 0.84366968 0.84366968 0.84366968 0.84366968 0.84366968 0.84366968\n",
      " 0.84705243 0.84705243 0.84742767 0.84705243 0.84705243 0.84742767\n",
      " 0.85118354 0.85118354 0.85118425 0.84968049 0.84930455 0.85005643\n",
      " 0.83540324 0.8342733  0.83615018 0.80909379 0.80759356 0.81510813\n",
      " 0.8429178  0.8429178  0.8429178  0.8429178  0.8429178  0.8429178\n",
      " 0.84667649 0.84667649 0.84705173 0.84667649 0.84667649 0.84705173\n",
      " 0.84592179 0.84629773 0.84592179 0.84629844 0.84705032 0.84592179\n",
      "        nan        nan        nan        nan        nan        nan\n",
      "        nan        nan        nan        nan        nan        nan\n",
      "        nan        nan        nan        nan        nan        nan\n",
      "        nan        nan        nan        nan        nan        nan]\n",
      "  warnings.warn(\n"
     ]
    }
   ],
   "source": [
    "param_grid = {\n",
    "    'max_depth': [None, 3, 5, 10],\n",
    "    'min_samples_split': [2, 5, 10],\n",
    "    'min_samples_leaf': [1, 2],\n",
    "    'criterion': ['gini', 'entropy', 'log_loss']  \n",
    "}\n",
    "\n",
    "\n",
    "grid_search = GridSearchCV(\n",
    "    estimator=tree,\n",
    "    param_grid=param_grid,\n",
    "    cv=5,\n",
    "    n_jobs=-1,\n",
    "    scoring='accuracy'\n",
    ")\n",
    "\n",
    "\n",
    "grid_search.fit(X_train_vec, y_train)\n",
    "\n",
    "\n",
    "print(\"Best Parameters:\", grid_search.best_params_)\n",
    "\n",
    "best_tree = grid_search.best_estimator_\n",
    "\n",
    "y_train_pred = best_tree.predict(X_train_vec)\n",
    "y_pred = best_tree.predict(X_test_vec)\n",
    "\n",
    "print(f\"\\n Train Accuracy: {accuracy_score(y_train, y_train_pred)}\")\n",
    "print(f\"\\n Test Accuracy: {accuracy_score(y_test, y_pred)}\")"
   ]
  },
  {
   "cell_type": "markdown",
   "id": "a5463227",
   "metadata": {},
   "source": [
    "These are reasonable accuracies.So far this tuned tree and logistic regression are the best models"
   ]
  },
  {
   "cell_type": "code",
   "execution_count": 155,
   "id": "994fb86c",
   "metadata": {},
   "outputs": [
    {
     "data": {
      "image/png": "[encoded data removed]",
      "text/plain": [
       "<Figure size 640x480 with 2 Axes>"
      ]
     },
     "metadata": {},
     "output_type": "display_data"
    }
   ],
   "source": [
    "tree_matrix = confusion_matrix(y_test, y_pred)\n",
    "\n",
    "cm_display = metrics.ConfusionMatrixDisplay(confusion_matrix = tree_matrix, display_labels = [False, True])\n",
    "cm_display.plot()\n",
    "plt.show()"
   ]
  },
  {
   "cell_type": "markdown",
   "id": "886fecea",
   "metadata": {},
   "source": [
    "Tuning reduces overfitting. However there are many false positives\n",
    "\n",
    "Let's try another model"
   ]
  },
  {
   "cell_type": "code",
   "execution_count": 156,
   "id": "5482ecb3",
   "metadata": {},
   "outputs": [
    {
     "data": {
      "text/plain": [
       "RandomForestClassifier(random_state=42)"
      ]
     },
     "execution_count": 156,
     "metadata": {},
     "output_type": "execute_result"
    }
   ],
   "source": [
    "forest = RandomForestClassifier(random_state=42)\n",
    "\n",
    "forest.fit(X_train_vec, y_train)"
   ]
  },
  {
   "cell_type": "code",
   "execution_count": 157,
   "id": "e3a810b2",
   "metadata": {},
   "outputs": [
    {
     "name": "stdout",
     "output_type": "stream",
     "text": [
      "Train Accuracy: 1.0\n",
      "Test Accuracy: 0.8804960541149943\n"
     ]
    }
   ],
   "source": [
    "y_train_pred = forest.predict(X_train_vec)\n",
    "y_pred = forest.predict(X_test_vec)\n",
    "\n",
    "print(f\"Train Accuracy: {accuracy_score(y_train, y_train_pred)}\")\n",
    "print(f\"Test Accuracy: {accuracy_score(y_test, y_pred)}\")"
   ]
  },
  {
   "cell_type": "markdown",
   "id": "f9befdaf",
   "metadata": {},
   "source": [
    "The random forest is overfitting the data \n",
    "\n",
    "Let's try tuning it"
   ]
  },
  {
   "cell_type": "code",
   "execution_count": 158,
   "id": "8edbd9e4",
   "metadata": {},
   "outputs": [
    {
     "name": "stderr",
     "output_type": "stream",
     "text": [
      "c:\\Users\\Lyster\\Documents\\anaconda3\\envs\\learn-env\\lib\\site-packages\\sklearn\\model_selection\\_search.py:922: UserWarning: One or more of the test scores are non-finite: [0.86583991 0.86696731 0.86433672 0.86396092 0.85043217 0.85118377\n",
      " 0.85043217 0.85193536 0.86471251 0.86433672 0.86057873 0.85907554\n",
      " 0.83727922 0.83727922 0.83727922 0.83727922 0.83727922 0.83727922\n",
      " 0.83727922 0.83727922 0.83727922 0.83727922 0.83727922 0.83727922\n",
      " 0.83727922 0.83727922 0.83727922 0.83727922 0.83727922 0.83727922\n",
      " 0.83727922 0.83727922 0.83803082 0.83727922 0.83803082 0.83727922\n",
      " 0.83803082 0.83727922 0.83803082 0.83727922 0.83727922 0.83727922\n",
      " 0.83727922 0.83727922 0.83727922 0.83727922 0.83727922 0.83727922\n",
      " 0.86659151 0.86546411 0.86396092 0.86283352 0.85155956 0.85268696\n",
      " 0.85118377 0.85268696 0.86508831 0.86396092 0.86358512 0.86170613\n",
      " 0.83727922 0.83727922 0.83727922 0.83727922 0.83727922 0.83727922\n",
      " 0.83727922 0.83727922 0.83727922 0.83727922 0.83727922 0.83727922\n",
      " 0.83727922 0.83727922 0.83727922 0.83727922 0.83727922 0.83727922\n",
      " 0.83727922 0.83727922 0.83727922 0.83727922 0.83803082 0.83727922\n",
      " 0.83803082 0.83727922 0.83803082 0.83727922 0.83727922 0.83727922\n",
      " 0.83727922 0.83727922 0.83727922 0.83727922 0.83727922 0.83727922\n",
      "        nan        nan        nan        nan        nan        nan\n",
      "        nan        nan        nan        nan        nan        nan\n",
      "        nan        nan        nan        nan        nan        nan\n",
      "        nan        nan        nan        nan        nan        nan\n",
      "        nan        nan        nan        nan        nan        nan\n",
      "        nan        nan        nan        nan        nan        nan\n",
      "        nan        nan        nan        nan        nan        nan\n",
      "        nan        nan        nan        nan        nan        nan]\n",
      "  warnings.warn(\n"
     ]
    },
    {
     "name": "stdout",
     "output_type": "stream",
     "text": [
      "Best Parameters: {'criterion': 'gini', 'max_depth': None, 'max_features': 'sqrt', 'min_samples_leaf': 1, 'min_samples_split': 2, 'n_estimators': 100}\n",
      "\n",
      " Train Accuracy: 1.0\n",
      "Test Accuracy: 0.8804960541149943\n"
     ]
    }
   ],
   "source": [
    "param_grid = {\n",
    "    'n_estimators': [50, 100],         # Number of trees\n",
    "    'max_depth': [None, 5, 10],            # Depth of each tree\n",
    "    'min_samples_split': [2, 5],        # Min samples to split a node\n",
    "    'min_samples_leaf': [1, 2],          # Min samples at a leaf node\n",
    "    'criterion': ['gini', 'entropy', 'log_loss'],        # Splitting criteria\n",
    "    'max_features': ['sqrt', 'log2']\n",
    "}\n",
    "\n",
    "grid = GridSearchCV(\n",
    "    estimator=forest,\n",
    "    param_grid=param_grid,\n",
    "    cv=3,\n",
    "    n_jobs=-1,\n",
    "    scoring='accuracy'\n",
    ")\n",
    "\n",
    "grid.fit(X_train_vec, y_train)\n",
    "\n",
    "print(\"Best Parameters:\", grid.best_params_)\n",
    "\n",
    "best_rf = grid.best_estimator_\n",
    "\n",
    "y_train_pred = best_rf.predict(X_train_vec)\n",
    "y_pred = best_rf.predict(X_test_vec)\n",
    "\n",
    "print(f\"\\n Train Accuracy: {accuracy_score(y_train, y_train_pred)}\")\n",
    "print(f\"Test Accuracy: {accuracy_score(y_test, y_pred)}\")"
   ]
  },
  {
   "cell_type": "code",
   "execution_count": 159,
   "id": "912df410",
   "metadata": {},
   "outputs": [
    {
     "data": {
      "image/png": "[encoded data removed]",
      "text/plain": [
       "<Figure size 1000x600 with 1 Axes>"
      ]
     },
     "metadata": {},
     "output_type": "display_data"
    }
   ],
   "source": [
    "# Sample performance data\n",
    "models = ['Logistic Regression', 'Weighted Tree', 'Tuned Tree', 'Random Forest']\n",
    "train_accuracy = [0.97, 1.00, 0.87, 1.00]\n",
    "test_accuracy = [0.88, 0.79, 0.86, 0.88]\n",
    "\n",
    "# Create a DataFrame\n",
    "df = pd.DataFrame({\n",
    "    'Model': models,\n",
    "    'Train Accuracy': train_accuracy,\n",
    "    'Test Accuracy': test_accuracy\n",
    "})\n",
    "\n",
    "# Melt the DataFrame for seaborn\n",
    "df_melted = df.melt(id_vars='Model', var_name='Dataset', value_name='Accuracy')\n",
    "\n",
    "# Plot\n",
    "plt.figure(figsize=(10, 6))\n",
    "sns.barplot(data=df_melted, x='Model', y='Accuracy', hue='Dataset')\n",
    "plt.title('Model Performance Comparison')\n",
    "plt.ylim(0.75, 1.05)\n",
    "plt.xticks(rotation=15)\n",
    "plt.tight_layout()\n",
    "plt.show()"
   ]
  },
  {
   "cell_type": "code",
   "execution_count": 160,
   "id": "f01fff0b",
   "metadata": {},
   "outputs": [
    {
     "name": "stdout",
     "output_type": "stream",
     "text": [
      "Resampled class distribution: emotion_code\n",
      "2    2228\n",
      "0    2228\n",
      "Name: count, dtype: int64\n"
     ]
    }
   ],
   "source": [
    "from imblearn.over_sampling import SMOTE\n",
    "\n",
    "smote = SMOTE(random_state=42)\n",
    "\n",
    "X_train_resampled, y_train_resampled = smote.fit_resample(X_train_vec, y_train)\n",
    "\n",
    "print(\"Resampled class distribution:\", pd.Series(y_train_resampled).value_counts())"
   ]
  },
  {
   "cell_type": "code",
   "execution_count": 161,
   "id": "b6d52918",
   "metadata": {},
   "outputs": [
    {
     "name": "stdout",
     "output_type": "stream",
     "text": [
      "Train accuracy: 0.973967684021544\n",
      "Test accuracy: 0.8072153325817362\n"
     ]
    }
   ],
   "source": [
    "logreg.fit(X_train_resampled, y_train_resampled)\n",
    "\n",
    "y_pred = logreg.predict(X_test_vec)\n",
    "y_train_pred = logreg.predict(X_train_resampled)\n",
    "\n",
    "print(\"Train accuracy:\", accuracy_score(y_train_resampled, y_train_pred))\n",
    "print(\"Test accuracy:\", accuracy_score(y_test, y_pred))\n"
   ]
  },
  {
   "cell_type": "code",
   "execution_count": 162,
   "id": "9fedd9f7",
   "metadata": {},
   "outputs": [
    {
     "name": "stdout",
     "output_type": "stream",
     "text": [
      "\n",
      "Classification Report:\n",
      "               precision    recall  f1-score   support\n",
      "\n",
      "           0       0.42      0.64      0.50       137\n",
      "           2       0.93      0.84      0.88       750\n",
      "\n",
      "    accuracy                           0.81       887\n",
      "   macro avg       0.67      0.74      0.69       887\n",
      "weighted avg       0.85      0.81      0.82       887\n",
      "\n"
     ]
    }
   ],
   "source": [
    "print(\"\\nClassification Report:\\n\", classification_report(y_test, y_pred))"
   ]
  },
  {
   "cell_type": "markdown",
   "id": "f1f6a87a",
   "metadata": {},
   "source": [
    "After resampling the data, the logistic regression performs a bit better for the minority class\n",
    "\n",
    "The accuracies are however worse than the first logistic regression model\n",
    "\n",
    "Let's try our tuned tree on the resampled data"
   ]
  },
  {
   "cell_type": "code",
   "execution_count": 163,
   "id": "46f3c84f",
   "metadata": {},
   "outputs": [
    {
     "name": "stdout",
     "output_type": "stream",
     "text": [
      "Best Parameters: {'criterion': 'entropy', 'max_depth': None, 'min_samples_leaf': 1, 'min_samples_split': 10}\n",
      "\n",
      " Train Accuracy: 0.9755385996409336\n",
      "\n",
      " Test Accuracy: 0.7406989853438557\n",
      "\n",
      "Classification Report:\n",
      "              precision    recall  f1-score   support\n",
      "\n",
      "           0       0.30      0.51      0.38       137\n",
      "           2       0.90      0.78      0.84       750\n",
      "\n",
      "    accuracy                           0.74       887\n",
      "   macro avg       0.60      0.65      0.61       887\n",
      "weighted avg       0.81      0.74      0.77       887\n",
      "\n"
     ]
    },
    {
     "name": "stderr",
     "output_type": "stream",
     "text": [
      "c:\\Users\\Lyster\\Documents\\anaconda3\\envs\\learn-env\\lib\\site-packages\\sklearn\\model_selection\\_search.py:922: UserWarning: One or more of the test scores are non-finite: [0.82162557 0.8285848  0.82925795 0.81489081 0.81354401 0.81983084\n",
      " 0.65194244 0.65194244 0.65194244 0.65194244 0.65194244 0.65194244\n",
      " 0.69503304 0.69503304 0.69503304 0.69480857 0.69480857 0.69480857\n",
      " 0.73879553 0.73902125 0.73789892 0.73632715 0.73632715 0.73610419\n",
      " 0.81915644 0.8218513  0.82993135 0.80703724 0.80950512 0.81579321\n",
      " 0.64251483 0.64251483 0.64251483 0.64229037 0.64229037 0.64229037\n",
      " 0.68336026 0.68336026 0.68336026 0.68358473 0.68358473 0.68358473\n",
      " 0.7349806  0.73475689 0.73408298 0.73273593 0.7329604  0.73385927\n",
      "        nan        nan        nan        nan        nan        nan\n",
      "        nan        nan        nan        nan        nan        nan\n",
      "        nan        nan        nan        nan        nan        nan\n",
      "        nan        nan        nan        nan        nan        nan]\n",
      "  warnings.warn(\n"
     ]
    }
   ],
   "source": [
    "param_grid = {\n",
    "    'max_depth': [None, 3, 5, 10],\n",
    "    'min_samples_split': [2, 5, 10],\n",
    "    'min_samples_leaf': [1, 2],\n",
    "    'criterion': ['gini', 'entropy', 'log_loss']  \n",
    "}\n",
    "\n",
    "\n",
    "grid_search = GridSearchCV(\n",
    "    estimator=tree,\n",
    "    param_grid=param_grid,\n",
    "    cv=5,\n",
    "    n_jobs=-1,\n",
    "    scoring='accuracy'\n",
    ")\n",
    "\n",
    "\n",
    "grid_search.fit(X_train_resampled, y_train_resampled)\n",
    "\n",
    "\n",
    "print(\"Best Parameters:\", grid_search.best_params_)\n",
    "\n",
    "best_tree = grid_search.best_estimator_\n",
    "\n",
    "y_train_pred = best_tree.predict(X_train_resampled)\n",
    "y_pred = best_tree.predict(X_test_vec)\n",
    "\n",
    "print(f\"\\n Train Accuracy: {accuracy_score(y_train_resampled, y_train_pred)}\")\n",
    "print(f\"\\n Test Accuracy: {accuracy_score(y_test, y_pred)}\")\n",
    "\n",
    "print(\"\\nClassification Report:\")\n",
    "print(classification_report(y_test, y_pred))"
   ]
  },
  {
   "cell_type": "markdown",
   "id": "228499ed",
   "metadata": {},
   "source": [
    "### Multiclass classification"
   ]
  },
  {
   "cell_type": "markdown",
   "id": "995d4f0f",
   "metadata": {},
   "source": [
    "In this section, we will focus on multiclass classification. The dataset contains multiple classes, and we will explore how to handle this scenario effectively.We will use the Logistic regression model as our base model for multiclass classification. "
   ]
  },
  {
   "cell_type": "code",
   "execution_count": null,
   "id": "734203cd",
   "metadata": {},
   "outputs": [
    {
     "data": {
      "text/plain": [
       "Index(['tweet_text', 'recipient', 'emotion', 'brand', 'tweet_length',\n",
       "       'char_count', 'word_count', 'sentence_count', 'cleaned_text',\n",
       "       'tokenized_text', 'lemmatized_text', 'document', 'emotion_code'],\n",
       "      dtype='object')"
      ]
     },
     "execution_count": 164,
     "metadata": {},
     "output_type": "execute_result"
    }
   ],
   "source": [
    "#View the columns of the data\n",
    "data.columns"
   ]
  },
  {
   "cell_type": "code",
   "execution_count": null,
   "id": "419768a5",
   "metadata": {},
   "outputs": [
    {
     "data": {
      "text/plain": [
       "emotion_code\n",
       "1    5544\n",
       "2    2978\n",
       "0     570\n",
       "Name: count, dtype: int64"
      ]
     },
     "execution_count": 165,
     "metadata": {},
     "output_type": "execute_result"
    }
   ],
   "source": [
    "#View the value counts of the 'emotion_code' column in the data dataframe\n",
    "y = data['emotion_code']\n",
    "y.value_counts()"
   ]
  },
  {
   "cell_type": "markdown",
   "id": "b49b8096",
   "metadata": {},
   "source": [
    "We now assign the 'emotion_code' column to the variable `y` and X will be the rest of the columns in the data dataframe then vectorize it using the countvectorizer. "
   ]
  },
  {
   "cell_type": "code",
   "execution_count": 166,
   "id": "3540d8d1",
   "metadata": {},
   "outputs": [],
   "source": [
    "# Assigning X and y for the model\n",
    "X = data['document']  # Features\n",
    "y = data['emotion_code']  # Target variable\n",
    "# Vectorizing the document column\n",
    "vectorizer = CountVectorizer()\n",
    "X_vectorized = vectorizer.fit_transform(X)"
   ]
  },
  {
   "cell_type": "code",
   "execution_count": 167,
   "id": "313c84a0",
   "metadata": {},
   "outputs": [],
   "source": [
    "# Train-test split\n",
    "X_train, X_test, y_train, y_test = train_test_split(X_vectorized, y, test_size=0.2, random_state=42)\n"
   ]
  },
  {
   "cell_type": "code",
   "execution_count": 180,
   "id": "6638ed29",
   "metadata": {},
   "outputs": [
    {
     "name": "stdout",
     "output_type": "stream",
     "text": [
      "Train Accuracy: 0.9078784545579541\n",
      "Test Accuracy: 0.6816932380428807\n"
     ]
    },
    {
     "name": "stderr",
     "output_type": "stream",
     "text": [
      "c:\\Users\\Lyster\\Documents\\anaconda3\\envs\\learn-env\\lib\\site-packages\\sklearn\\linear_model\\_logistic.py:763: ConvergenceWarning: lbfgs failed to converge (status=1):\n",
      "STOP: TOTAL NO. of ITERATIONS REACHED LIMIT.\n",
      "\n",
      "Increase the number of iterations (max_iter) or scale the data as shown in:\n",
      "    https://scikit-learn.org/stable/modules/preprocessing.html\n",
      "Please also refer to the documentation for alternative solver options:\n",
      "    https://scikit-learn.org/stable/modules/linear_model.html#logistic-regression\n",
      "  n_iter_i = _check_optimize_result(\n"
     ]
    }
   ],
   "source": [
    "from sklearn.linear_model import LogisticRegression\n",
    "\n",
    "# Initialize the Logistic Regression model\n",
    "logistic_model = LogisticRegression()\n",
    "# Fit the model on the training data\n",
    "logistic_model.fit(X_train, y_train)\n",
    "# Make predictions on the testing data\n",
    "y_pred_log = logistic_model.predict(X_test)\n",
    "# Evaluate the model\n",
    "print(\"Train Accuracy:\", accuracy_score(y_train, logistic_model.predict(X_train)))\n",
    "\n",
    "print(\"Test Accuracy:\", accuracy_score(y_test, y_pred_log))"
   ]
  },
  {
   "cell_type": "markdown",
   "id": "5542f52e",
   "metadata": {},
   "source": [
    "We will now use a Multinomial Naive Bayes model for multiclass classification. This model is suitable for text classification tasks and can handle multiple classes effectively.This model is suitable for text classification tasks and can handle multiple classes effectively."
   ]
  },
  {
   "cell_type": "code",
   "execution_count": 168,
   "id": "ae306027",
   "metadata": {},
   "outputs": [
    {
     "name": "stdout",
     "output_type": "stream",
     "text": [
      "Naive Bayes Results\n",
      "              precision    recall  f1-score   support\n",
      "\n",
      "           0       0.81      0.44      0.57       449\n",
      "           1       0.83      0.93      0.88      4452\n",
      "           2       0.82      0.72      0.77      2372\n",
      "\n",
      "    accuracy                           0.83      7273\n",
      "   macro avg       0.82      0.70      0.74      7273\n",
      "weighted avg       0.83      0.83      0.82      7273\n",
      "\n",
      "Accuracy: 0.8290939089784133\n",
      "Accuracy: 0.6564046179219352\n"
     ]
    }
   ],
   "source": [
    "from sklearn.pipeline import Pipeline\n",
    "from sklearn.naive_bayes import MultinomialNB\n",
    "nb_model = MultinomialNB()\n",
    "\n",
    "\n",
    "nb_model.fit(X_train, y_train)\n",
    "y_test_pred_nb = nb_model.predict(X_test)\n",
    "y_train_pred_nb = nb_model.predict(X_train)\n",
    "\n",
    "print(\"Naive Bayes Results\")\n",
    "print(classification_report(y_train, y_train_pred_nb))\n",
    "print(\"Accuracy:\", accuracy_score(y_train, y_train_pred_nb))\n",
    "print(\"Accuracy:\", accuracy_score(y_test, y_test_pred_nb))\n"
   ]
  },
  {
   "cell_type": "markdown",
   "id": "cc385ac8",
   "metadata": {},
   "source": [
    "The model performs well for the training data but poorly on the test data. This is likely due to overfitting. Let's try tuning the model to see if we can improve performance."
   ]
  },
  {
   "cell_type": "markdown",
   "id": "9020d367",
   "metadata": {},
   "source": [
    "### Tuning using GridSearchCV"
   ]
  },
  {
   "cell_type": "code",
   "execution_count": 171,
   "id": "54ee74ed",
   "metadata": {},
   "outputs": [],
   "source": [
    "from sklearn.naive_bayes import MultinomialNB\n",
    "from sklearn.model_selection import GridSearchCV\n",
    "\n",
    "param_grid = {\n",
    "    'alpha': [0.1, 1.0, 10.0]  # no prefix needed\n",
    "}\n",
    "\n",
    "grid_nb = GridSearchCV(\n",
    "    estimator=MultinomialNB(),\n",
    "    param_grid=param_grid,\n",
    "    cv=5,\n",
    "    scoring='accuracy',\n",
    "    n_jobs=-1\n",
    ")\n",
    "\n",
    "grid_nb.fit(X_train, y_train)  \n",
    "best_nb_model = grid_nb.best_estimator_\n",
    "y_train_pred_gridnb = best_nb_model.predict(X_train)\n",
    "y_test_pred_gridnb = best_nb_model.predict(X_test)\n"
   ]
  },
  {
   "cell_type": "code",
   "execution_count": 170,
   "id": "4187ceb2",
   "metadata": {},
   "outputs": [
    {
     "name": "stdout",
     "output_type": "stream",
     "text": [
      "Train Accuracy : 0.8290939089784133\n",
      "Test Accuracy : 0.6564046179219352\n",
      "classification_report :               precision    recall  f1-score   support\n",
      "\n",
      "           0       0.38      0.21      0.27       121\n",
      "           1       0.72      0.78      0.75      1092\n",
      "           2       0.56      0.53      0.55       606\n",
      "\n",
      "    accuracy                           0.66      1819\n",
      "   macro avg       0.55      0.50      0.52      1819\n",
      "weighted avg       0.64      0.66      0.65      1819\n",
      "\n"
     ]
    }
   ],
   "source": [
    "#Accuracies\n",
    "print('Train Accuracy :', accuracy_score(y_train, y_train_pred_gridnb))\n",
    "print('Test Accuracy :', accuracy_score(y_test, y_test_pred_gridnb))\n",
    "print('classification_report :', classification_report(y_test, y_test_pred_gridnb))"
   ]
  },
  {
   "cell_type": "markdown",
   "id": "03b92a52",
   "metadata": {},
   "source": [
    "From the classification report the model still does not perform well on the test data. This is likely due to the class imbalance in the dataset. We can try using a model that can handle class imbalance better, such as r an XGBoost classifier."
   ]
  },
  {
   "cell_type": "code",
   "execution_count": 175,
   "id": "0b67ad7d",
   "metadata": {},
   "outputs": [
    {
     "data": {
      "text/plain": [
       "XGBClassifier(base_score=None, booster=None, callbacks=None,\n",
       "              colsample_bylevel=None, colsample_bynode=None,\n",
       "              colsample_bytree=None, device=None, early_stopping_rounds=None,\n",
       "              enable_categorical=False, eval_metric=None, feature_types=None,\n",
       "              gamma=None, grow_policy=None, importance_type=None,\n",
       "              interaction_constraints=None, learning_rate=None, max_bin=None,\n",
       "              max_cat_threshold=None, max_cat_to_onehot=None,\n",
       "              max_delta_step=None, max_depth=None, max_leaves=None,\n",
       "              min_child_weight=None, missing=nan, monotone_constraints=None,\n",
       "              multi_strategy=None, n_estimators=None, n_jobs=None,\n",
       "              num_parallel_tree=None, objective='multi:softprob', ...)"
      ]
     },
     "execution_count": 175,
     "metadata": {},
     "output_type": "execute_result"
    }
   ],
   "source": [
    "from xgboost import XGBClassifier\n",
    "#Initialize the XGBoost classifier\n",
    "xgb_classifier = XGBClassifier()\n",
    "\n",
    "# Fit the model on the training data-\n",
    "xgb_classifier.fit(X_train, y_train)"
   ]
  },
  {
   "cell_type": "code",
   "execution_count": 176,
   "id": "66c5e801",
   "metadata": {},
   "outputs": [
    {
     "name": "stdout",
     "output_type": "stream",
     "text": [
      "Train Accuracy: 0.7945827031486319\n",
      "Test Accuracy: 0.6783947223749313\n",
      "              precision    recall  f1-score   support\n",
      "\n",
      "           0       0.58      0.12      0.20       121\n",
      "           1       0.68      0.90      0.78      1092\n",
      "           2       0.66      0.38      0.49       606\n",
      "\n",
      "    accuracy                           0.68      1819\n",
      "   macro avg       0.64      0.47      0.49      1819\n",
      "weighted avg       0.67      0.68      0.64      1819\n",
      "\n"
     ]
    }
   ],
   "source": [
    "# Make predictions on the testing data and the training data\n",
    "\n",
    "y_pred_xgb =  xgb_classifier.predict(X_test)\n",
    "y_train_pred_xgb =  xgb_classifier.predict(X_train)\n",
    "\n",
    "print('Train Accuracy:', accuracy_score(y_train, y_train_pred_xgb))\n",
    "print('Test Accuracy:', accuracy_score(y_test, y_pred_xgb))\n",
    "# Print classification report\n",
    "print(classification_report(y_test, y_pred_xgb))"
   ]
  },
  {
   "cell_type": "markdown",
   "id": "d50511af",
   "metadata": {},
   "source": [
    "From the results we can see the model performs well on the training data but poorly on the test data. This is likely due to overfitting. Let's try tuning the model to see if we can improve performance."
   ]
  },
  {
   "cell_type": "code",
   "execution_count": 189,
   "id": "44c8fd97",
   "metadata": {},
   "outputs": [
    {
     "name": "stdout",
     "output_type": "stream",
     "text": [
      "Fitting 3 folds for each of 192 candidates, totalling 576 fits\n"
     ]
    },
    {
     "name": "stderr",
     "output_type": "stream",
     "text": [
      "c:\\Users\\Lyster\\Documents\\anaconda3\\envs\\learn-env\\lib\\site-packages\\xgboost\\core.py:158: UserWarning: [13:19:25] WARNING: D:\\bld\\xgboost-split_1724807710452\\work\\src\\learner.cc:740: \n",
      "Parameters: { \"use_label_encoder\" } are not used.\n",
      "\n",
      "  warnings.warn(smsg, UserWarning)\n"
     ]
    },
    {
     "name": "stdout",
     "output_type": "stream",
     "text": [
      "Best Parameters: {'colsample_bytree': 0.8, 'learning_rate': 0.3, 'max_depth': 6, 'n_estimators': 200, 'subsample': 1}\n",
      "Train Accuracy: 0.8356936614876942\n",
      "Test Accuracy: 0.679494227597581\n",
      "\n",
      "Classification Report:\n",
      "               precision    recall  f1-score   support\n",
      "\n",
      "           0       0.50      0.15      0.23       121\n",
      "           1       0.69      0.88      0.78      1092\n",
      "           2       0.65      0.42      0.51       606\n",
      "\n",
      "    accuracy                           0.68      1819\n",
      "   macro avg       0.61      0.48      0.51      1819\n",
      "weighted avg       0.67      0.68      0.65      1819\n",
      "\n"
     ]
    }
   ],
   "source": [
    "# Define the parameter grid\n",
    "param_grid = {\n",
    "    'n_estimators': [100, 200],\n",
    "    'max_depth': range(3, 11),  # Example: 3, 5, 7, 9\n",
    "    'learning_rate': [0.01, 0.1, 0.3],\n",
    "    'subsample': [0.8, 1],\n",
    "    'colsample_bytree': [0.8, 1],\n",
    "}\n",
    "\n",
    "# Initialize XGBoost classifier\n",
    "xgb_classifier = XGBClassifier(\n",
    "    objective='multi:softprob',\n",
    "    num_class=3,\n",
    "    eval_metric='mlogloss',\n",
    "    use_label_encoder=False,\n",
    "    random_state=42\n",
    ")\n",
    "\n",
    "# Initialize GridSearchCV\n",
    "grid_search = GridSearchCV(\n",
    "    estimator=xgb_classifier,\n",
    "    param_grid=param_grid,\n",
    "    cv=3,\n",
    "    scoring='accuracy',\n",
    "    verbose=2,\n",
    "    n_jobs=-1\n",
    ")\n",
    "\n",
    "# Fit the model\n",
    "grid_search.fit(X_train, y_train)\n",
    "\n",
    "# Get the best model\n",
    "best_xgb = grid_search.best_estimator_\n",
    "\n",
    "# Evaluate\n",
    "from sklearn.metrics import accuracy_score, classification_report\n",
    "\n",
    "y_pred = best_xgb.predict(X_test)\n",
    "train_accuracy = best_xgb.score(X_train, y_train)\n",
    "test_accuracy = accuracy_score(y_test, y_pred)\n",
    "\n",
    "print(\"Best Parameters:\", grid_search.best_params_)\n",
    "print(\"Train Accuracy:\", train_accuracy)\n",
    "print(\"Test Accuracy:\", test_accuracy)\n",
    "print(\"\\nClassification Report:\\n\", classification_report(y_test, y_pred))"
   ]
  },
  {
   "cell_type": "markdown",
   "id": "961bab89",
   "metadata": {},
   "source": [
    "The tuned XGBoost classifier performs well on the training data but poorly on the test data even after tuning. We now use a Random Forest classifier to see if we can improve performance."
   ]
  },
  {
   "cell_type": "code",
   "execution_count": 183,
   "id": "a347f5f3",
   "metadata": {},
   "outputs": [
    {
     "name": "stdout",
     "output_type": "stream",
     "text": [
      "Train Accuracy: 0.9918878042073422\n",
      "Test Accuracy: 0.6745464540956569\n",
      "              precision    recall  f1-score   support\n",
      "\n",
      "           0       0.61      0.17      0.26       121\n",
      "           1       0.69      0.86      0.77      1092\n",
      "           2       0.63      0.44      0.52       606\n",
      "\n",
      "    accuracy                           0.67      1819\n",
      "   macro avg       0.64      0.49      0.51      1819\n",
      "weighted avg       0.66      0.67      0.65      1819\n",
      "\n"
     ]
    }
   ],
   "source": [
    "#Instantiate the Random Forest classifier\n",
    "rf_classifier = RandomForestClassifier(random_state=42)\n",
    "# Fit the model on the training data\n",
    "rf_classifier.fit(X_train, y_train)\n",
    "# Make predictions on the testing data and the training data\n",
    "y_pred_rf = rf_classifier.predict(X_test)\n",
    "y_train_pred_rf = rf_classifier.predict(X_train)\n",
    "print('Train Accuracy:', accuracy_score(y_train, y_train_pred_rf))\n",
    "print('Test Accuracy:', accuracy_score(y_test, y_pred_rf))\n",
    "# Print classification report\n",
    "print(classification_report(y_test, y_pred_rf))\n"
   ]
  },
  {
   "cell_type": "markdown",
   "id": "92a84144",
   "metadata": {},
   "source": [
    "The models we have implemented so far are performing well on the training data but poorly on the test data. This is likely due to overfitting. Let's try oversampling the minority class to see if we can improve performance."
   ]
  },
  {
   "cell_type": "code",
   "execution_count": 184,
   "id": "989d4c9a",
   "metadata": {},
   "outputs": [
    {
     "name": "stdout",
     "output_type": "stream",
     "text": [
      "Original class distribution: {1: 4452, 2: 2372, 0: 449}\n",
      "Balanced class distribution: {2: 4452, 1: 4452, 0: 4452}\n"
     ]
    }
   ],
   "source": [
    "# Apply Random Oversampling\n",
    "ros = RandomOverSampler(random_state=42)\n",
    "X_train_balanced, y_train_balanced = ros.fit_resample(X_train, y_train)\n",
    "\n",
    "print(\"Original class distribution:\", y_train.value_counts().to_dict())\n",
    "print(\"Balanced class distribution:\", dict(pd.Series(y_train_balanced).value_counts()))"
   ]
  },
  {
   "cell_type": "markdown",
   "id": "c4a8e960",
   "metadata": {},
   "source": [
    "**XGBoost model with the balanced dataset:**"
   ]
  },
  {
   "cell_type": "code",
   "execution_count": 193,
   "id": "8eb2a88a",
   "metadata": {},
   "outputs": [
    {
     "name": "stdout",
     "output_type": "stream",
     "text": [
      "Test Accuracy: 0.6338647608576141\n",
      "              precision    recall  f1-score   support\n",
      "\n",
      "           0       0.28      0.42      0.34       121\n",
      "           1       0.75      0.68      0.71      1092\n",
      "           2       0.55      0.59      0.57       606\n",
      "\n",
      "    accuracy                           0.63      1819\n",
      "   macro avg       0.53      0.56      0.54      1819\n",
      "weighted avg       0.65      0.63      0.64      1819\n",
      "\n"
     ]
    }
   ],
   "source": [
    "xgb_balanced = XGBClassifier(\n",
    "    objective='multi:softprob',\n",
    "    num_class=3,\n",
    "    n_estimators=125,\n",
    "    max_depth=7,\n",
    "    learning_rate=0.3,\n",
    "    subsample=1,\n",
    "    colsample_bytree=1,\n",
    "    random_state=42\n",
    ")\n",
    "\n",
    "xgb_balanced.fit(X_train_balanced, y_train_balanced)\n",
    "\n",
    "y_pred = xgb_balanced.predict(X_test)\n",
    "\n",
    "# Evaluation\n",
    "print(\"Test Accuracy:\", accuracy_score(y_test, y_pred))\n",
    "print(classification_report(y_test, y_pred))\n"
   ]
  },
  {
   "cell_type": "markdown",
   "id": "a2976e1c",
   "metadata": {},
   "source": [
    "## Using SMOTE with XGBoost"
   ]
  },
  {
   "cell_type": "code",
   "execution_count": 187,
   "id": "bc3fac0d",
   "metadata": {},
   "outputs": [],
   "source": [
    "smote = SMOTE(random_state=42)\n",
    "X_train_smote, y_train_smote = smote.fit_resample(X_train, y_train)\n"
   ]
  },
  {
   "cell_type": "code",
   "execution_count": 188,
   "id": "1859fe09",
   "metadata": {},
   "outputs": [
    {
     "name": "stdout",
     "output_type": "stream",
     "text": [
      "Train Accuracy: 0.8565438754118\n",
      "Test Accuracy: 0.6663001649257834\n",
      "              precision    recall  f1-score   support\n",
      "\n",
      "           0       0.28      0.42      0.34       121\n",
      "           1       0.75      0.68      0.71      1092\n",
      "           2       0.55      0.59      0.57       606\n",
      "\n",
      "    accuracy                           0.63      1819\n",
      "   macro avg       0.53      0.56      0.54      1819\n",
      "weighted avg       0.65      0.63      0.64      1819\n",
      "\n"
     ]
    }
   ],
   "source": [
    "# Initialize XGBoost\n",
    "xgb_smote = XGBClassifier(\n",
    "    objective='multi:softprob',  # Or 'multi:softmax' if you want class labels directly\n",
    "    num_class=3,\n",
    "    learning_rate=0.1,\n",
    "    n_estimators=200,\n",
    "    max_depth=7,\n",
    "    random_state=42\n",
    ")\n",
    "\n",
    "# Fit the model\n",
    "xgb_smote.fit(X_train_smote, y_train_smote)\n",
    "\n",
    "# Predict\n",
    "y_test_pred_smote = xgb_smote.predict(X_test)\n",
    "y_train_pred_smote = xgb_smote.predict(X_train_smote)\n",
    "\n",
    "# Evaluate\n",
    "print(\"Train Accuracy:\", accuracy_score(y_train_smote, y_train_pred_smote))\n",
    "print(\"Test Accuracy:\", accuracy_score(y_test, y_test_pred_smote))\n",
    "print(classification_report(y_test, y_pred))"
   ]
  },
  {
   "cell_type": "markdown",
   "id": "4e7a965a",
   "metadata": {},
   "source": [
    "## Limitations \n",
    "The models implemented so far have not performed well on the test data. This is likely due to  class imbalance in the dataset. \n",
    "SMOTE is a technique that can help address this issue by generating synthetic samples for the minority class but the real-world performance of the model may still be limited by the quality of the data and the complexity of the problem.\n",
    "\n",
    "The dataset is relatively small, which may limit the model's ability to generalize to unseen data."
   ]
  },
  {
   "cell_type": "markdown",
   "id": "6ef05150",
   "metadata": {},
   "source": []
  }
 ],
 "metadata": {
  "kernelspec": {
   "display_name": "learn-env",
   "language": "python",
   "name": "python3"
  },
  "language_info": {
   "codemirror_mode": {
    "name": "ipython",
    "version": 3
   },
   "file_extension": ".py",
   "mimetype": "text/x-python",
   "name": "python",
   "nbconvert_exporter": "python",
   "pygments_lexer": "ipython3",
   "version": "3.8.5"
  }
 },
 "nbformat": 4,
 "nbformat_minor": 5
}
