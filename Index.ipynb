{
 "cells": [
  {
   "cell_type": "markdown",
   "id": "72554038",
   "metadata": {},
   "source": [
    "# Data loading and inspection "
   ]
  },
  {
   "cell_type": "code",
   "execution_count": 326,
   "id": "f0e0d1c9",
   "metadata": {},
   "outputs": [
    {
     "name": "stderr",
     "output_type": "stream",
     "text": [
      "[nltk_data] Downloading package punkt to\n",
      "[nltk_data]     C:\\Users\\Davey\\AppData\\Roaming\\nltk_data...\n",
      "[nltk_data]   Package punkt is already up-to-date!\n",
      "[nltk_data] Downloading package stopwords to\n",
      "[nltk_data]     C:\\Users\\Davey\\AppData\\Roaming\\nltk_data...\n",
      "[nltk_data]   Package stopwords is already up-to-date!\n",
      "[nltk_data] Downloading package wordnet to\n",
      "[nltk_data]     C:\\Users\\Davey\\AppData\\Roaming\\nltk_data...\n",
      "[nltk_data]   Package wordnet is already up-to-date!\n"
     ]
    }
   ],
   "source": [
    "#Importing the necessary libraries\n",
    "import re\n",
    "import pandas as pd\n",
    "import numpy as np\n",
    "import seaborn as sns\n",
    "import matplotlib.pyplot as plt\n",
    "%matplotlib inline\n",
    "import string\n",
    "import warnings\n",
    "warnings.filterwarnings(action='ignore', category=FutureWarning)\n",
    "\n",
    "import nltk\n",
    "nltk.download('punkt')\n",
    "nltk.download('stopwords')\n",
    "nltk.download('wordnet')\n",
    "from nltk.stem import WordNetLemmatizer\n",
    "from sklearn.preprocessing import LabelEncoder\n",
    "from nltk.tokenize import word_tokenize, sent_tokenize\n",
    "from nltk.corpus import stopwords\n",
    "from sklearn.feature_extraction.text import CountVectorizer, TfidfVectorizer\n",
    "from nltk import FreqDist\n",
    "\n",
    "#modelling libraries\n",
    "from sklearn.pipeline import Pipeline\n",
    "from sklearn.model_selection import GridSearchCV\n",
    "from sklearn.model_selection import train_test_split\n",
    "from sklearn.linear_model import LogisticRegression\n",
    "from sklearn.metrics import accuracy_score, classification_report, confusion_matrix\n",
    "from sklearn import metrics\n",
    "from sklearn.tree import DecisionTreeClassifier\n",
    "from sklearn.ensemble import RandomForestClassifier\n",
    "from sklearn.naive_bayes import MultinomialNB\n",
    "from xgboost import XGBClassifier\n",
    "\n",
    "#imbalance libraries \n",
    "from imblearn.over_sampling import RandomOverSampler\n",
    "from imblearn.under_sampling import RandomUnderSampler\n",
    "from sklearn.metrics import accuracy_score\n",
    "\n"
   ]
  },
  {
   "cell_type": "code",
   "execution_count": 327,
   "id": "4f47afa6",
   "metadata": {},
   "outputs": [],
   "source": [
    "\n",
    "# Import necessary classes from the init module\n",
    "from __init__ import Explore, Clean"
   ]
  },
  {
   "cell_type": "code",
   "execution_count": 328,
   "id": "1cc1fdf9",
   "metadata": {},
   "outputs": [
    {
     "data": {
      "text/html": [
       "<div>\n",
       "<style scoped>\n",
       "    .dataframe tbody tr th:only-of-type {\n",
       "        vertical-align: middle;\n",
       "    }\n",
       "\n",
       "    .dataframe tbody tr th {\n",
       "        vertical-align: top;\n",
       "    }\n",
       "\n",
       "    .dataframe thead th {\n",
       "        text-align: right;\n",
       "    }\n",
       "</style>\n",
       "<table border=\"1\" class=\"dataframe\">\n",
       "  <thead>\n",
       "    <tr style=\"text-align: right;\">\n",
       "      <th></th>\n",
       "      <th>tweet_text</th>\n",
       "      <th>emotion_in_tweet_is_directed_at</th>\n",
       "      <th>is_there_an_emotion_directed_at_a_brand_or_product</th>\n",
       "    </tr>\n",
       "  </thead>\n",
       "  <tbody>\n",
       "    <tr>\n",
       "      <th>0</th>\n",
       "      <td>.@wesley83 I have a 3G iPhone. After 3 hrs twe...</td>\n",
       "      <td>iPhone</td>\n",
       "      <td>Negative emotion</td>\n",
       "    </tr>\n",
       "    <tr>\n",
       "      <th>1</th>\n",
       "      <td>@jessedee Know about @fludapp ? Awesome iPad/i...</td>\n",
       "      <td>iPad or iPhone App</td>\n",
       "      <td>Positive emotion</td>\n",
       "    </tr>\n",
       "    <tr>\n",
       "      <th>2</th>\n",
       "      <td>@swonderlin Can not wait for #iPad 2 also. The...</td>\n",
       "      <td>iPad</td>\n",
       "      <td>Positive emotion</td>\n",
       "    </tr>\n",
       "    <tr>\n",
       "      <th>3</th>\n",
       "      <td>@sxsw I hope this year's festival isn't as cra...</td>\n",
       "      <td>iPad or iPhone App</td>\n",
       "      <td>Negative emotion</td>\n",
       "    </tr>\n",
       "    <tr>\n",
       "      <th>4</th>\n",
       "      <td>@sxtxstate great stuff on Fri #SXSW: Marissa M...</td>\n",
       "      <td>Google</td>\n",
       "      <td>Positive emotion</td>\n",
       "    </tr>\n",
       "  </tbody>\n",
       "</table>\n",
       "</div>"
      ],
      "text/plain": [
       "                                          tweet_text  \\\n",
       "0  .@wesley83 I have a 3G iPhone. After 3 hrs twe...   \n",
       "1  @jessedee Know about @fludapp ? Awesome iPad/i...   \n",
       "2  @swonderlin Can not wait for #iPad 2 also. The...   \n",
       "3  @sxsw I hope this year's festival isn't as cra...   \n",
       "4  @sxtxstate great stuff on Fri #SXSW: Marissa M...   \n",
       "\n",
       "  emotion_in_tweet_is_directed_at  \\\n",
       "0                          iPhone   \n",
       "1              iPad or iPhone App   \n",
       "2                            iPad   \n",
       "3              iPad or iPhone App   \n",
       "4                          Google   \n",
       "\n",
       "  is_there_an_emotion_directed_at_a_brand_or_product  \n",
       "0                                   Negative emotion  \n",
       "1                                   Positive emotion  \n",
       "2                                   Positive emotion  \n",
       "3                                   Negative emotion  \n",
       "4                                   Positive emotion  "
      ]
     },
     "execution_count": 328,
     "metadata": {},
     "output_type": "execute_result"
    }
   ],
   "source": [
    "#load the data and print first five rows to ensure it loaded correctly\n",
    "data = pd.read_csv('data.csv', encoding='ISO-8859-1')\n",
    "data.head()"
   ]
  },
  {
   "cell_type": "code",
   "execution_count": 329,
   "id": "c93c5963",
   "metadata": {},
   "outputs": [],
   "source": [
    "#create instance of explore class\n",
    "explore_df = Explore(data)"
   ]
  },
  {
   "cell_type": "code",
   "execution_count": 330,
   "id": "0dfd314b",
   "metadata": {},
   "outputs": [
    {
     "name": "stdout",
     "output_type": "stream",
     "text": [
      "----------------Shape of the Dataset---------------- \n",
      "\n",
      "(9093, 3)\n"
     ]
    }
   ],
   "source": [
    "# Check the shape of the data\n",
    "explore_df.shape()"
   ]
  },
  {
   "cell_type": "code",
   "execution_count": 331,
   "id": "bdc14320",
   "metadata": {},
   "outputs": [
    {
     "name": "stdout",
     "output_type": "stream",
     "text": [
      "----------------Features in the Dataset---------------- \n",
      "\n",
      "Index(['tweet_text', 'emotion_in_tweet_is_directed_at',\n",
      "       'is_there_an_emotion_directed_at_a_brand_or_product'],\n",
      "      dtype='object')\n"
     ]
    }
   ],
   "source": [
    "#Check the columns of the data\n",
    "explore_df.features()"
   ]
  },
  {
   "cell_type": "code",
   "execution_count": 332,
   "id": "bb6af041",
   "metadata": {},
   "outputs": [
    {
     "name": "stdout",
     "output_type": "stream",
     "text": [
      "----------------Summary Statistics of the Features---------------- \n",
      "\n",
      "                                               tweet_text  \\\n",
      "count                                                9092   \n",
      "unique                                               9065   \n",
      "top     RT @mention Marissa Mayer: Google Will Connect...   \n",
      "freq                                                    5   \n",
      "\n",
      "       emotion_in_tweet_is_directed_at  \\\n",
      "count                             3291   \n",
      "unique                               9   \n",
      "top                               iPad   \n",
      "freq                               946   \n",
      "\n",
      "       is_there_an_emotion_directed_at_a_brand_or_product  \n",
      "count                                                9093  \n",
      "unique                                                  4  \n",
      "top                    No emotion toward brand or product  \n",
      "freq                                                 5389  \n"
     ]
    }
   ],
   "source": [
    "#Check the summary statistics of the data\n",
    "explore_df.stats()"
   ]
  },
  {
   "cell_type": "code",
   "execution_count": 333,
   "id": "9b0fef2c",
   "metadata": {},
   "outputs": [
    {
     "name": "stdout",
     "output_type": "stream",
     "text": [
      "----------------Dataset Overall Information---------------- \n",
      "\n",
      "<class 'pandas.core.frame.DataFrame'>\n",
      "RangeIndex: 9093 entries, 0 to 9092\n",
      "Data columns (total 3 columns):\n",
      " #   Column                                              Non-Null Count  Dtype \n",
      "---  ------                                              --------------  ----- \n",
      " 0   tweet_text                                          9092 non-null   object\n",
      " 1   emotion_in_tweet_is_directed_at                     3291 non-null   object\n",
      " 2   is_there_an_emotion_directed_at_a_brand_or_product  9093 non-null   object\n",
      "dtypes: object(3)\n",
      "memory usage: 213.2+ KB\n",
      "None\n"
     ]
    }
   ],
   "source": [
    "#Check the basic information of the data\n",
    "explore_df.info()"
   ]
  },
  {
   "cell_type": "code",
   "execution_count": 334,
   "id": "edff9264",
   "metadata": {},
   "outputs": [
    {
     "data": {
      "text/html": [
       "<div>\n",
       "<style scoped>\n",
       "    .dataframe tbody tr th:only-of-type {\n",
       "        vertical-align: middle;\n",
       "    }\n",
       "\n",
       "    .dataframe tbody tr th {\n",
       "        vertical-align: top;\n",
       "    }\n",
       "\n",
       "    .dataframe thead th {\n",
       "        text-align: right;\n",
       "    }\n",
       "</style>\n",
       "<table border=\"1\" class=\"dataframe\">\n",
       "  <thead>\n",
       "    <tr style=\"text-align: right;\">\n",
       "      <th></th>\n",
       "      <th>tweet_text</th>\n",
       "      <th>recipient</th>\n",
       "      <th>emotion</th>\n",
       "    </tr>\n",
       "  </thead>\n",
       "  <tbody>\n",
       "    <tr>\n",
       "      <th>0</th>\n",
       "      <td>.@wesley83 I have a 3G iPhone. After 3 hrs twe...</td>\n",
       "      <td>iPhone</td>\n",
       "      <td>Negative emotion</td>\n",
       "    </tr>\n",
       "    <tr>\n",
       "      <th>1</th>\n",
       "      <td>@jessedee Know about @fludapp ? Awesome iPad/i...</td>\n",
       "      <td>iPad or iPhone App</td>\n",
       "      <td>Positive emotion</td>\n",
       "    </tr>\n",
       "    <tr>\n",
       "      <th>2</th>\n",
       "      <td>@swonderlin Can not wait for #iPad 2 also. The...</td>\n",
       "      <td>iPad</td>\n",
       "      <td>Positive emotion</td>\n",
       "    </tr>\n",
       "    <tr>\n",
       "      <th>3</th>\n",
       "      <td>@sxsw I hope this year's festival isn't as cra...</td>\n",
       "      <td>iPad or iPhone App</td>\n",
       "      <td>Negative emotion</td>\n",
       "    </tr>\n",
       "    <tr>\n",
       "      <th>4</th>\n",
       "      <td>@sxtxstate great stuff on Fri #SXSW: Marissa M...</td>\n",
       "      <td>Google</td>\n",
       "      <td>Positive emotion</td>\n",
       "    </tr>\n",
       "  </tbody>\n",
       "</table>\n",
       "</div>"
      ],
      "text/plain": [
       "                                          tweet_text           recipient  \\\n",
       "0  .@wesley83 I have a 3G iPhone. After 3 hrs twe...              iPhone   \n",
       "1  @jessedee Know about @fludapp ? Awesome iPad/i...  iPad or iPhone App   \n",
       "2  @swonderlin Can not wait for #iPad 2 also. The...                iPad   \n",
       "3  @sxsw I hope this year's festival isn't as cra...  iPad or iPhone App   \n",
       "4  @sxtxstate great stuff on Fri #SXSW: Marissa M...              Google   \n",
       "\n",
       "            emotion  \n",
       "0  Negative emotion  \n",
       "1  Positive emotion  \n",
       "2  Positive emotion  \n",
       "3  Negative emotion  \n",
       "4  Positive emotion  "
      ]
     },
     "execution_count": 334,
     "metadata": {},
     "output_type": "execute_result"
    }
   ],
   "source": [
    "#Renaming the columns\n",
    "def rename_columns(df):\n",
    "    df.columns=['tweet_text',  'recipient', 'emotion']\n",
    "    return df\n",
    "data = rename_columns(data)\n",
    "data.head()"
   ]
  },
  {
   "cell_type": "code",
   "execution_count": 335,
   "id": "3edb7fd9",
   "metadata": {},
   "outputs": [
    {
     "name": "stdout",
     "output_type": "stream",
     "text": [
      "\n",
      " Duplicated Rows:\n",
      "\n",
      "- Total duplicated rows: 22 \n",
      " \n",
      "\n"
     ]
    },
    {
     "data": {
      "text/html": [
       "<div>\n",
       "<style scoped>\n",
       "    .dataframe tbody tr th:only-of-type {\n",
       "        vertical-align: middle;\n",
       "    }\n",
       "\n",
       "    .dataframe tbody tr th {\n",
       "        vertical-align: top;\n",
       "    }\n",
       "\n",
       "    .dataframe thead th {\n",
       "        text-align: right;\n",
       "    }\n",
       "</style>\n",
       "<table border=\"1\" class=\"dataframe\">\n",
       "  <thead>\n",
       "    <tr style=\"text-align: right;\">\n",
       "      <th></th>\n",
       "      <th>Missing Values</th>\n",
       "      <th>Percentage(%)</th>\n",
       "    </tr>\n",
       "  </thead>\n",
       "  <tbody>\n",
       "    <tr>\n",
       "      <th>recipient</th>\n",
       "      <td>5802</td>\n",
       "      <td>63.807324</td>\n",
       "    </tr>\n",
       "    <tr>\n",
       "      <th>tweet_text</th>\n",
       "      <td>1</td>\n",
       "      <td>0.010997</td>\n",
       "    </tr>\n",
       "    <tr>\n",
       "      <th>emotion</th>\n",
       "      <td>0</td>\n",
       "      <td>0.000000</td>\n",
       "    </tr>\n",
       "  </tbody>\n",
       "</table>\n",
       "</div>"
      ],
      "text/plain": [
       "            Missing Values  Percentage(%)\n",
       "recipient             5802      63.807324\n",
       "tweet_text               1       0.010997\n",
       "emotion                  0       0.000000"
      ]
     },
     "execution_count": 335,
     "metadata": {},
     "output_type": "execute_result"
    }
   ],
   "source": [
    "# Initialize the cleaning class and call the method for displaying missing values\n",
    "clean_df = Clean(data)\n",
    "clean_df.missing_duplicated()\n"
   ]
  },
  {
   "cell_type": "code",
   "execution_count": 336,
   "id": "d4f742c8",
   "metadata": {},
   "outputs": [
    {
     "data": {
      "text/plain": [
       "tweet_text       0\n",
       "recipient     5801\n",
       "emotion          0\n",
       "dtype: int64"
      ]
     },
     "execution_count": 336,
     "metadata": {},
     "output_type": "execute_result"
    }
   ],
   "source": [
    "# Drop the missing record in the tweet_text column\n",
    "data = data.dropna(subset=['tweet_text'])\n",
    "#Check to ensure the missing record is dropped\n",
    "data.isnull().sum()"
   ]
  },
  {
   "cell_type": "code",
   "execution_count": 337,
   "id": "d1d85a6f",
   "metadata": {},
   "outputs": [
    {
     "name": "stderr",
     "output_type": "stream",
     "text": [
      "c:\\Users\\Davey\\anaconda3\\envs\\learn-env\\lib\\site-packages\\pandas\\core\\series.py:4517: SettingWithCopyWarning: \n",
      "A value is trying to be set on a copy of a slice from a DataFrame\n",
      "\n",
      "See the caveats in the documentation: https://pandas.pydata.org/pandas-docs/stable/user_guide/indexing.html#returning-a-view-versus-a-copy\n",
      "  return super().fillna(\n"
     ]
    }
   ],
   "source": [
    "# Fill missing values in the 'recipient' column with 'No brand'\n",
    "data['recipient'].fillna('No brand', inplace=True)"
   ]
  },
  {
   "cell_type": "code",
   "execution_count": 338,
   "id": "d359c18c",
   "metadata": {},
   "outputs": [
    {
     "data": {
      "text/plain": [
       "'The dataset now has 0 duplicate rows'"
      ]
     },
     "execution_count": 338,
     "metadata": {},
     "output_type": "execute_result"
    }
   ],
   "source": [
    "#Drop the duplicate rows\n",
    "clean_df.remove_duplicated_rows()"
   ]
  },
  {
   "cell_type": "markdown",
   "id": "5c84d888",
   "metadata": {},
   "source": [
    "We'll also focus on cleaning the emotion column by simplifying the emotion labels by converting them:\n",
    "\n",
    "'Positive Emotion'->'Positive'\n",
    "\n",
    "'Negative Emotion'->'Negative'\n",
    "\n",
    "'No emotion toward brand or product' and 'I can't tell'->'Neutral\n",
    "\n",
    "This standardization will make sentiment classification easier and more consistent for analysis and modeling."
   ]
  },
  {
   "cell_type": "code",
   "execution_count": 339,
   "id": "132a78b0",
   "metadata": {},
   "outputs": [
    {
     "name": "stderr",
     "output_type": "stream",
     "text": [
      "c:\\Users\\Davey\\anaconda3\\envs\\learn-env\\lib\\site-packages\\pandas\\core\\indexing.py:670: SettingWithCopyWarning: \n",
      "A value is trying to be set on a copy of a slice from a DataFrame\n",
      "\n",
      "See the caveats in the documentation: https://pandas.pydata.org/pandas-docs/stable/user_guide/indexing.html#returning-a-view-versus-a-copy\n",
      "  iloc._setitem_with_indexer(indexer, value)\n",
      "<ipython-input-339-aa62197acfba>:2: SettingWithCopyWarning: \n",
      "A value is trying to be set on a copy of a slice from a DataFrame\n",
      "\n",
      "See the caveats in the documentation: https://pandas.pydata.org/pandas-docs/stable/user_guide/indexing.html#returning-a-view-versus-a-copy\n",
      "  data.loc[data['emotion'] == 'No emotion toward brand or product', 'emotion'] = 'Neutral'\n",
      "<ipython-input-339-aa62197acfba>:3: SettingWithCopyWarning: \n",
      "A value is trying to be set on a copy of a slice from a DataFrame\n",
      "\n",
      "See the caveats in the documentation: https://pandas.pydata.org/pandas-docs/stable/user_guide/indexing.html#returning-a-view-versus-a-copy\n",
      "  data.loc[data['emotion'] == 'Positive emotion', 'emotion'] = 'Positive'\n",
      "<ipython-input-339-aa62197acfba>:4: SettingWithCopyWarning: \n",
      "A value is trying to be set on a copy of a slice from a DataFrame\n",
      "\n",
      "See the caveats in the documentation: https://pandas.pydata.org/pandas-docs/stable/user_guide/indexing.html#returning-a-view-versus-a-copy\n",
      "  data.loc[data['emotion'] == 'Negative emotion', 'emotion'] = 'Negative'\n",
      "<ipython-input-339-aa62197acfba>:5: SettingWithCopyWarning: \n",
      "A value is trying to be set on a copy of a slice from a DataFrame\n",
      "\n",
      "See the caveats in the documentation: https://pandas.pydata.org/pandas-docs/stable/user_guide/indexing.html#returning-a-view-versus-a-copy\n",
      "  data.loc[data['emotion'] == \"I can't tell\", 'emotion'] = 'Neutral'\n"
     ]
    },
    {
     "data": {
      "text/html": [
       "<div>\n",
       "<style scoped>\n",
       "    .dataframe tbody tr th:only-of-type {\n",
       "        vertical-align: middle;\n",
       "    }\n",
       "\n",
       "    .dataframe tbody tr th {\n",
       "        vertical-align: top;\n",
       "    }\n",
       "\n",
       "    .dataframe thead th {\n",
       "        text-align: right;\n",
       "    }\n",
       "</style>\n",
       "<table border=\"1\" class=\"dataframe\">\n",
       "  <thead>\n",
       "    <tr style=\"text-align: right;\">\n",
       "      <th></th>\n",
       "      <th>tweet_text</th>\n",
       "      <th>recipient</th>\n",
       "      <th>emotion</th>\n",
       "    </tr>\n",
       "  </thead>\n",
       "  <tbody>\n",
       "    <tr>\n",
       "      <th>0</th>\n",
       "      <td>.@wesley83 I have a 3G iPhone. After 3 hrs twe...</td>\n",
       "      <td>iPhone</td>\n",
       "      <td>Negative</td>\n",
       "    </tr>\n",
       "    <tr>\n",
       "      <th>1</th>\n",
       "      <td>@jessedee Know about @fludapp ? Awesome iPad/i...</td>\n",
       "      <td>iPad or iPhone App</td>\n",
       "      <td>Positive</td>\n",
       "    </tr>\n",
       "    <tr>\n",
       "      <th>2</th>\n",
       "      <td>@swonderlin Can not wait for #iPad 2 also. The...</td>\n",
       "      <td>iPad</td>\n",
       "      <td>Positive</td>\n",
       "    </tr>\n",
       "    <tr>\n",
       "      <th>3</th>\n",
       "      <td>@sxsw I hope this year's festival isn't as cra...</td>\n",
       "      <td>iPad or iPhone App</td>\n",
       "      <td>Negative</td>\n",
       "    </tr>\n",
       "    <tr>\n",
       "      <th>4</th>\n",
       "      <td>@sxtxstate great stuff on Fri #SXSW: Marissa M...</td>\n",
       "      <td>Google</td>\n",
       "      <td>Positive</td>\n",
       "    </tr>\n",
       "  </tbody>\n",
       "</table>\n",
       "</div>"
      ],
      "text/plain": [
       "                                          tweet_text           recipient  \\\n",
       "0  .@wesley83 I have a 3G iPhone. After 3 hrs twe...              iPhone   \n",
       "1  @jessedee Know about @fludapp ? Awesome iPad/i...  iPad or iPhone App   \n",
       "2  @swonderlin Can not wait for #iPad 2 also. The...                iPad   \n",
       "3  @sxsw I hope this year's festival isn't as cra...  iPad or iPhone App   \n",
       "4  @sxtxstate great stuff on Fri #SXSW: Marissa M...              Google   \n",
       "\n",
       "    emotion  \n",
       "0  Negative  \n",
       "1  Positive  \n",
       "2  Positive  \n",
       "3  Negative  \n",
       "4  Positive  "
      ]
     },
     "execution_count": 339,
     "metadata": {},
     "output_type": "execute_result"
    }
   ],
   "source": [
    "\n",
    "# Change emotions to 'Positive', 'Negative', and 'Neutral'\n",
    "data.loc[data['emotion'] == 'No emotion toward brand or product', 'emotion'] = 'Neutral'\n",
    "data.loc[data['emotion'] == 'Positive emotion', 'emotion'] = 'Positive'\n",
    "data.loc[data['emotion'] == 'Negative emotion', 'emotion'] = 'Negative'\n",
    "data.loc[data['emotion'] == \"I can't tell\", 'emotion'] = 'Neutral'\n",
    "\n",
    "data.head()"
   ]
  },
  {
   "cell_type": "markdown",
   "id": "29b891d1",
   "metadata": {},
   "source": [
    "### Feature engineering "
   ]
  },
  {
   "cell_type": "code",
   "execution_count": 340,
   "id": "b000e1db",
   "metadata": {},
   "outputs": [
    {
     "name": "stderr",
     "output_type": "stream",
     "text": [
      "<ipython-input-340-bd7854d1d439>:1: SettingWithCopyWarning: \n",
      "A value is trying to be set on a copy of a slice from a DataFrame.\n",
      "Try using .loc[row_indexer,col_indexer] = value instead\n",
      "\n",
      "See the caveats in the documentation: https://pandas.pydata.org/pandas-docs/stable/user_guide/indexing.html#returning-a-view-versus-a-copy\n",
      "  data['brand'] = data['recipient'].map({'Other Apple product or service': 'Apple',\n"
     ]
    },
    {
     "data": {
      "text/plain": [
       "none      5801\n",
       "Apple     2409\n",
       "Google     589\n",
       "Name: brand, dtype: int64"
      ]
     },
     "execution_count": 340,
     "metadata": {},
     "output_type": "execute_result"
    }
   ],
   "source": [
    "data['brand'] = data['recipient'].map({'Other Apple product or service': 'Apple', \n",
    "                                           'Android': 'Google',\n",
    "                                           'Android App': 'Google',\n",
    "                                           'Other Google product or service ': 'Google',\n",
    "                                           'iPhone': 'Apple', \n",
    "                                           'Google':'Google',\n",
    "                                           'iPad or iPhone App': 'Apple',\n",
    "                                           'Apple':'Apple',\n",
    "                                           'iPad':'Apple',\n",
    "                                           'No brand': 'none'})\n",
    "\n",
    "data['brand'].value_counts()"
   ]
  },
  {
   "cell_type": "markdown",
   "id": "42cd8d2c",
   "metadata": {},
   "source": [
    "# Exploratory data analysis (EDA)\n",
    "\n",
    "#### Univariate analysis"
   ]
  },
  {
   "cell_type": "code",
   "execution_count": 341,
   "id": "66bd57d3",
   "metadata": {},
   "outputs": [
    {
     "name": "stdout",
     "output_type": "stream",
     "text": [
      "Neutral     60.976683\n",
      "Positive    32.754070\n",
      "Negative     6.269248\n",
      "Name: emotion, dtype: float64\n"
     ]
    },
    {
     "data": {
      "image/png": "[encoded data removed]",
      "text/plain": [
       "<Figure size 864x504 with 1 Axes>"
      ]
     },
     "metadata": {
      "needs_background": "light"
     },
     "output_type": "display_data"
    }
   ],
   "source": [
    "#checking the distribution of sentiments\n",
    "percentage = data['emotion'].value_counts(normalize=True)\n",
    "print(percentage * 100)\n",
    "\n",
    "#Count plot of the 'emotion' column\n",
    "plt.figure(figsize=(12, 7))\n",
    "sns.countplot(x='emotion', data=data, palette='colorblind')\n",
    "plt.title('Sentiment Distribution Count', fontsize=16)\n",
    "plt.xlabel('emotion', fontsize=12)\n",
    "plt.ylabel('Count', fontsize=12)\n",
    "plt.xticks(rotation=45)  # Rotate x-axis labels if they’re long\n",
    "plt.tight_layout()\n",
    "plt.show()"
   ]
  },
  {
   "cell_type": "markdown",
   "id": "0b4b4d85",
   "metadata": {},
   "source": []
  },
  {
   "cell_type": "code",
   "execution_count": 342,
   "id": "8f179361",
   "metadata": {},
   "outputs": [
    {
     "name": "stdout",
     "output_type": "stream",
     "text": [
      "none      65.927946\n",
      "Apple     27.378111\n",
      "Google     6.693942\n",
      "Name: brand, dtype: float64\n"
     ]
    },
    {
     "data": {
      "image/png": "[encoded data removed]",
      "text/plain": [
       "<Figure size 720x432 with 1 Axes>"
      ]
     },
     "metadata": {},
     "output_type": "display_data"
    }
   ],
   "source": [
    "#pie chart to visualize Tweet share by brand\n",
    "brand_share = data['brand'].value_counts(normalize=True)\n",
    "print(brand_share * 100)\n",
    "\n",
    "#Visualizing using pie chart\n",
    "plt.figure(figsize=(10, 6))\n",
    "plt.pie(brand_share.values, autopct='%1.1f%%', pctdistance=1.1, startangle=90, colors=sns.color_palette('muted'), wedgeprops={'width': 0.6})\n",
    "plt.title('Tweet share by brand')\n",
    "plt.axis('equal')\n",
    "plt.legend(labels=brand_share.index, loc='upper left', bbox_to_anchor=(1, 1))\n",
    "plt.show()\n"
   ]
  },
  {
   "cell_type": "code",
   "execution_count": 343,
   "id": "682f548e",
   "metadata": {},
   "outputs": [
    {
     "name": "stderr",
     "output_type": "stream",
     "text": [
      "<ipython-input-343-cbf37f68eade>:2: SettingWithCopyWarning: \n",
      "A value is trying to be set on a copy of a slice from a DataFrame.\n",
      "Try using .loc[row_indexer,col_indexer] = value instead\n",
      "\n",
      "See the caveats in the documentation: https://pandas.pydata.org/pandas-docs/stable/user_guide/indexing.html#returning-a-view-versus-a-copy\n",
      "  data['tweet_length'] = data['tweet_text'].apply(lambda x: len(str(x).split()))\n"
     ]
    },
    {
     "data": {
      "image/png": "[encoded data removed]",
      "text/plain": [
       "<Figure size 720x432 with 1 Axes>"
      ]
     },
     "metadata": {
      "needs_background": "light"
     },
     "output_type": "display_data"
    }
   ],
   "source": [
    "# Count number of words in each tweet (not characters)\n",
    "data['tweet_length'] = data['tweet_text'].apply(lambda x: len(str(x).split()))\n",
    "plt.figure(figsize=(10, 6))\n",
    "sns.histplot(data['tweet_length'], bins=20, kde=True)\n",
    "plt.title('Tweet Length Distribution (Words)')\n",
    "plt.xlabel('Number of Words')\n",
    "plt.ylabel('Number of Tweets')\n",
    "plt.show()"
   ]
  },
  {
   "cell_type": "markdown",
   "id": "cfbea7f4",
   "metadata": {},
   "source": [
    "### Bivariate analysis"
   ]
  },
  {
   "cell_type": "code",
   "execution_count": 344,
   "id": "1a3b056a",
   "metadata": {},
   "outputs": [
    {
     "data": {
      "image/png": "[encoded data removed]",
      "text/plain": [
       "<Figure size 432x288 with 1 Axes>"
      ]
     },
     "metadata": {
      "needs_background": "light"
     },
     "output_type": "display_data"
    }
   ],
   "source": [
    "plt.figure(figsize=(6,4))\n",
    "sns.boxplot(data=data, x='emotion', y='tweet_length', palette='colorblind')\n",
    "plt.title('Tweet Length by Emotion Type')\n",
    "plt.xlabel('Emotion')\n",
    "plt.ylabel('Tweet Length (Words)')\n",
    "plt.show()\n"
   ]
  },
  {
   "cell_type": "code",
   "execution_count": 345,
   "id": "9cfa1a21",
   "metadata": {},
   "outputs": [
    {
     "data": {
      "image/png": "[encoded data removed]",
      "text/plain": [
       "<Figure size 1512x504 with 1 Axes>"
      ]
     },
     "metadata": {
      "needs_background": "light"
     },
     "output_type": "display_data"
    }
   ],
   "source": [
    "\n",
    "#Which brand is getting more positive or negative tweets?\n",
    "brands = data.groupby(['brand','emotion']).size().reset_index(name='count')\n",
    "\n",
    "#Calculate the ascending order of brands based on tweet count\n",
    "ascending_order = brands.groupby('brand')['count'].sum().sort_values().index\n",
    "\n",
    "plt.figure(figsize=(21,7))\n",
    "sns.barplot(x='brand', y='count', hue='emotion', data=brands, palette='pastel', order=ascending_order)\n",
    "plt.xlabel('brand')\n",
    "plt.ylabel('Count')\n",
    "plt.title('Tweet Emotion Distribution by Brand')\n",
    "plt.show()"
   ]
  },
  {
   "cell_type": "code",
   "execution_count": 346,
   "id": "b3fdf6ae",
   "metadata": {},
   "outputs": [],
   "source": [
    "import re\n",
    "from nltk.corpus import stopwords\n",
    "from nltk.tokenize import word_tokenize\n",
    "from nltk.stem import WordNetLemmatizer\n",
    "\n",
    "class TextPreprocessor:\n",
    "    def __init__(self):\n",
    "        self.stop_words = set(stopwords.words('english'))\n",
    "        self.lemmatizer = WordNetLemmatizer()\n",
    "\n",
    "    def generate_text_features(self, df, text_column):\n",
    "        \"\"\"\n",
    "        Adds character count, word count, and sentence count columns.\n",
    "        \"\"\"\n",
    "        df.loc[:, 'char_count'] = df[text_column].astype(str).apply(len)\n",
    "        df.loc[:, 'word_count'] = df[text_column].astype(str).apply(lambda x: len(x.split()))\n",
    "        df.loc[:, 'sentence_count'] = df[text_column].astype(str).apply(lambda x: x.count('.') + 1)\n",
    "        return df\n",
    "\n",
    "    def clean_text(self, text):\n",
    "        \"\"\"\n",
    "        Cleans text: lowercase, remove URLs, hashtags, emojis, punctuation, numbers, and extra spaces.\n",
    "        \"\"\"\n",
    "        text = text.lower()\n",
    "        text = re.sub(r\"http\\S+|www\\S+|https\\S+\", '', text)\n",
    "        text = re.sub(r\"#\\w+\", '', text)\n",
    "\n",
    "        # Remove emojis\n",
    "        emoji_pattern = re.compile(\n",
    "            \"[\"\n",
    "            u\"\\U0001F600-\\U0001F64F\"  # emoticons\n",
    "            u\"\\U0001F300-\\U0001F5FF\"  # symbols & pictographs\n",
    "            u\"\\U0001F680-\\U0001F6FF\"  # transport & map symbols\n",
    "            u\"\\U0001F1E0-\\U0001F1FF\"  # flags\n",
    "            u\"\\U00002700-\\U000027BF\"  # Dingbats\n",
    "            u\"\\U000024C2-\\U0001F251\"\n",
    "            \"]+\", flags=re.UNICODE\n",
    "        )\n",
    "        text = emoji_pattern.sub(r'', text)\n",
    "\n",
    "        text = re.sub(r'\\d+', '', text)\n",
    "        text = re.sub(r'[^\\w\\s]', '', text)\n",
    "        text = re.sub(r'\\s+', ' ', text).strip()\n",
    "        return text\n",
    "\n",
    "    def tokenize(self, text):\n",
    "        \"\"\"\n",
    "        Tokenizes and removes stopwords.\n",
    "        \"\"\"\n",
    "        tokens = word_tokenize(text)\n",
    "        return [t for t in tokens if t not in self.stop_words]\n",
    "\n",
    "    def lemmatize(self, tokens):\n",
    "        \"\"\"\n",
    "        Lemmatizes a list of tokens.\n",
    "        \"\"\"\n",
    "        return [self.lemmatizer.lemmatize(t) for t in tokens]\n",
    "\n",
    "    def preprocess(self, df, text_column):\n",
    "        \"\"\"\n",
    "        Full preprocessing:\n",
    "        - Feature engineering\n",
    "        - Text cleaning\n",
    "        - Tokenization\n",
    "        - Lemmatization\n",
    "        - Save cleaned text, tokens, lemmatized tokens, and document string (from tokens)\n",
    "        \"\"\"\n",
    "        df = df.copy()  # Avoid SettingWithCopyWarning\n",
    "\n",
    "        df = self.generate_text_features(df, text_column)\n",
    "        df.loc[:, 'cleaned_text'] = df[text_column].astype(str).apply(self.clean_text)\n",
    "        df.loc[:, 'tokenized_text'] = df['cleaned_text'].apply(self.tokenize)\n",
    "        df.loc[:, 'lemmatized_text'] = df['tokenized_text'].apply(self.lemmatize)\n",
    "        df.loc[:, 'document'] = df['tokenized_text'].apply(lambda x: ' '.join(x))\n",
    "\n",
    "        return df"
   ]
  },
  {
   "cell_type": "code",
   "execution_count": 347,
   "id": "c5610a61",
   "metadata": {},
   "outputs": [],
   "source": [
    "preprocessor = TextPreprocessor()\n",
    "data = preprocessor.preprocess(data, 'tweet_text')"
   ]
  },
  {
   "cell_type": "code",
   "execution_count": 348,
   "id": "4b651d33",
   "metadata": {},
   "outputs": [
    {
     "data": {
      "text/html": [
       "<div>\n",
       "<style scoped>\n",
       "    .dataframe tbody tr th:only-of-type {\n",
       "        vertical-align: middle;\n",
       "    }\n",
       "\n",
       "    .dataframe tbody tr th {\n",
       "        vertical-align: top;\n",
       "    }\n",
       "\n",
       "    .dataframe thead th {\n",
       "        text-align: right;\n",
       "    }\n",
       "</style>\n",
       "<table border=\"1\" class=\"dataframe\">\n",
       "  <thead>\n",
       "    <tr style=\"text-align: right;\">\n",
       "      <th></th>\n",
       "      <th>tweet_text</th>\n",
       "      <th>recipient</th>\n",
       "      <th>emotion</th>\n",
       "      <th>brand</th>\n",
       "      <th>tweet_length</th>\n",
       "      <th>char_count</th>\n",
       "      <th>word_count</th>\n",
       "      <th>sentence_count</th>\n",
       "      <th>cleaned_text</th>\n",
       "      <th>tokenized_text</th>\n",
       "      <th>lemmatized_text</th>\n",
       "      <th>document</th>\n",
       "    </tr>\n",
       "  </thead>\n",
       "  <tbody>\n",
       "    <tr>\n",
       "      <th>0</th>\n",
       "      <td>.@wesley83 I have a 3G iPhone. After 3 hrs twe...</td>\n",
       "      <td>iPhone</td>\n",
       "      <td>Negative</td>\n",
       "      <td>Apple</td>\n",
       "      <td>23</td>\n",
       "      <td>127</td>\n",
       "      <td>23</td>\n",
       "      <td>5</td>\n",
       "      <td>wesley i have a g iphone after hrs tweeting at...</td>\n",
       "      <td>[wesley, g, iphone, hrs, tweeting, dead, need,...</td>\n",
       "      <td>[wesley, g, iphone, hr, tweeting, dead, need, ...</td>\n",
       "      <td>wesley g iphone hrs tweeting dead need upgrade...</td>\n",
       "    </tr>\n",
       "    <tr>\n",
       "      <th>1</th>\n",
       "      <td>@jessedee Know about @fludapp ? Awesome iPad/i...</td>\n",
       "      <td>iPad or iPhone App</td>\n",
       "      <td>Positive</td>\n",
       "      <td>Apple</td>\n",
       "      <td>22</td>\n",
       "      <td>139</td>\n",
       "      <td>22</td>\n",
       "      <td>2</td>\n",
       "      <td>jessedee know about fludapp awesome ipadiphone...</td>\n",
       "      <td>[jessedee, know, fludapp, awesome, ipadiphone,...</td>\n",
       "      <td>[jessedee, know, fludapp, awesome, ipadiphone,...</td>\n",
       "      <td>jessedee know fludapp awesome ipadiphone app y...</td>\n",
       "    </tr>\n",
       "    <tr>\n",
       "      <th>2</th>\n",
       "      <td>@swonderlin Can not wait for #iPad 2 also. The...</td>\n",
       "      <td>iPad</td>\n",
       "      <td>Positive</td>\n",
       "      <td>Apple</td>\n",
       "      <td>15</td>\n",
       "      <td>79</td>\n",
       "      <td>15</td>\n",
       "      <td>3</td>\n",
       "      <td>swonderlin can not wait for also they should s...</td>\n",
       "      <td>[swonderlin, wait, also, sale]</td>\n",
       "      <td>[swonderlin, wait, also, sale]</td>\n",
       "      <td>swonderlin wait also sale</td>\n",
       "    </tr>\n",
       "  </tbody>\n",
       "</table>\n",
       "</div>"
      ],
      "text/plain": [
       "                                          tweet_text           recipient  \\\n",
       "0  .@wesley83 I have a 3G iPhone. After 3 hrs twe...              iPhone   \n",
       "1  @jessedee Know about @fludapp ? Awesome iPad/i...  iPad or iPhone App   \n",
       "2  @swonderlin Can not wait for #iPad 2 also. The...                iPad   \n",
       "\n",
       "    emotion  brand  tweet_length  char_count  word_count  sentence_count  \\\n",
       "0  Negative  Apple            23         127          23               5   \n",
       "1  Positive  Apple            22         139          22               2   \n",
       "2  Positive  Apple            15          79          15               3   \n",
       "\n",
       "                                        cleaned_text  \\\n",
       "0  wesley i have a g iphone after hrs tweeting at...   \n",
       "1  jessedee know about fludapp awesome ipadiphone...   \n",
       "2  swonderlin can not wait for also they should s...   \n",
       "\n",
       "                                      tokenized_text  \\\n",
       "0  [wesley, g, iphone, hrs, tweeting, dead, need,...   \n",
       "1  [jessedee, know, fludapp, awesome, ipadiphone,...   \n",
       "2                     [swonderlin, wait, also, sale]   \n",
       "\n",
       "                                     lemmatized_text  \\\n",
       "0  [wesley, g, iphone, hr, tweeting, dead, need, ...   \n",
       "1  [jessedee, know, fludapp, awesome, ipadiphone,...   \n",
       "2                     [swonderlin, wait, also, sale]   \n",
       "\n",
       "                                            document  \n",
       "0  wesley g iphone hrs tweeting dead need upgrade...  \n",
       "1  jessedee know fludapp awesome ipadiphone app y...  \n",
       "2                          swonderlin wait also sale  "
      ]
     },
     "execution_count": 348,
     "metadata": {},
     "output_type": "execute_result"
    }
   ],
   "source": [
    "data.head(3)"
   ]
  },
  {
   "cell_type": "code",
   "execution_count": 349,
   "id": "c6bcb959",
   "metadata": {},
   "outputs": [],
   "source": [
    "le = LabelEncoder()\n",
    "\n",
    "data['emotion_code'] = le.fit_transform(data['emotion'])"
   ]
  },
  {
   "cell_type": "code",
   "execution_count": 350,
   "id": "c7d3f1d3",
   "metadata": {},
   "outputs": [
    {
     "data": {
      "text/html": [
       "<div>\n",
       "<style scoped>\n",
       "    .dataframe tbody tr th:only-of-type {\n",
       "        vertical-align: middle;\n",
       "    }\n",
       "\n",
       "    .dataframe tbody tr th {\n",
       "        vertical-align: top;\n",
       "    }\n",
       "\n",
       "    .dataframe thead th {\n",
       "        text-align: right;\n",
       "    }\n",
       "</style>\n",
       "<table border=\"1\" class=\"dataframe\">\n",
       "  <thead>\n",
       "    <tr style=\"text-align: right;\">\n",
       "      <th></th>\n",
       "      <th>emotion</th>\n",
       "      <th>emotion_code</th>\n",
       "    </tr>\n",
       "  </thead>\n",
       "  <tbody>\n",
       "    <tr>\n",
       "      <th>0</th>\n",
       "      <td>Negative</td>\n",
       "      <td>0</td>\n",
       "    </tr>\n",
       "    <tr>\n",
       "      <th>1</th>\n",
       "      <td>Positive</td>\n",
       "      <td>2</td>\n",
       "    </tr>\n",
       "    <tr>\n",
       "      <th>2</th>\n",
       "      <td>Positive</td>\n",
       "      <td>2</td>\n",
       "    </tr>\n",
       "    <tr>\n",
       "      <th>3</th>\n",
       "      <td>Negative</td>\n",
       "      <td>0</td>\n",
       "    </tr>\n",
       "    <tr>\n",
       "      <th>4</th>\n",
       "      <td>Positive</td>\n",
       "      <td>2</td>\n",
       "    </tr>\n",
       "    <tr>\n",
       "      <th>...</th>\n",
       "      <td>...</td>\n",
       "      <td>...</td>\n",
       "    </tr>\n",
       "    <tr>\n",
       "      <th>9088</th>\n",
       "      <td>Positive</td>\n",
       "      <td>2</td>\n",
       "    </tr>\n",
       "    <tr>\n",
       "      <th>9089</th>\n",
       "      <td>Neutral</td>\n",
       "      <td>1</td>\n",
       "    </tr>\n",
       "    <tr>\n",
       "      <th>9090</th>\n",
       "      <td>Neutral</td>\n",
       "      <td>1</td>\n",
       "    </tr>\n",
       "    <tr>\n",
       "      <th>9091</th>\n",
       "      <td>Neutral</td>\n",
       "      <td>1</td>\n",
       "    </tr>\n",
       "    <tr>\n",
       "      <th>9092</th>\n",
       "      <td>Neutral</td>\n",
       "      <td>1</td>\n",
       "    </tr>\n",
       "  </tbody>\n",
       "</table>\n",
       "<p>9092 rows × 2 columns</p>\n",
       "</div>"
      ],
      "text/plain": [
       "       emotion  emotion_code\n",
       "0     Negative             0\n",
       "1     Positive             2\n",
       "2     Positive             2\n",
       "3     Negative             0\n",
       "4     Positive             2\n",
       "...        ...           ...\n",
       "9088  Positive             2\n",
       "9089   Neutral             1\n",
       "9090   Neutral             1\n",
       "9091   Neutral             1\n",
       "9092   Neutral             1\n",
       "\n",
       "[9092 rows x 2 columns]"
      ]
     },
     "execution_count": 350,
     "metadata": {},
     "output_type": "execute_result"
    }
   ],
   "source": [
    "data[['emotion', 'emotion_code']]"
   ]
  },
  {
   "cell_type": "code",
   "execution_count": 351,
   "id": "605c9cdb",
   "metadata": {},
   "outputs": [
    {
     "data": {
      "text/html": [
       "<div>\n",
       "<style scoped>\n",
       "    .dataframe tbody tr th:only-of-type {\n",
       "        vertical-align: middle;\n",
       "    }\n",
       "\n",
       "    .dataframe tbody tr th {\n",
       "        vertical-align: top;\n",
       "    }\n",
       "\n",
       "    .dataframe thead th {\n",
       "        text-align: right;\n",
       "    }\n",
       "</style>\n",
       "<table border=\"1\" class=\"dataframe\">\n",
       "  <thead>\n",
       "    <tr style=\"text-align: right;\">\n",
       "      <th></th>\n",
       "      <th>tweet_text</th>\n",
       "      <th>recipient</th>\n",
       "      <th>emotion</th>\n",
       "      <th>brand</th>\n",
       "      <th>tweet_length</th>\n",
       "      <th>char_count</th>\n",
       "      <th>word_count</th>\n",
       "      <th>sentence_count</th>\n",
       "      <th>cleaned_text</th>\n",
       "      <th>tokenized_text</th>\n",
       "      <th>lemmatized_text</th>\n",
       "      <th>document</th>\n",
       "      <th>emotion_code</th>\n",
       "    </tr>\n",
       "  </thead>\n",
       "  <tbody>\n",
       "    <tr>\n",
       "      <th>0</th>\n",
       "      <td>.@wesley83 I have a 3G iPhone. After 3 hrs twe...</td>\n",
       "      <td>iPhone</td>\n",
       "      <td>Negative</td>\n",
       "      <td>Apple</td>\n",
       "      <td>23</td>\n",
       "      <td>127</td>\n",
       "      <td>23</td>\n",
       "      <td>5</td>\n",
       "      <td>wesley i have a g iphone after hrs tweeting at...</td>\n",
       "      <td>[wesley, g, iphone, hrs, tweeting, dead, need,...</td>\n",
       "      <td>[wesley, g, iphone, hr, tweeting, dead, need, ...</td>\n",
       "      <td>wesley g iphone hrs tweeting dead need upgrade...</td>\n",
       "      <td>0</td>\n",
       "    </tr>\n",
       "    <tr>\n",
       "      <th>1</th>\n",
       "      <td>@jessedee Know about @fludapp ? Awesome iPad/i...</td>\n",
       "      <td>iPad or iPhone App</td>\n",
       "      <td>Positive</td>\n",
       "      <td>Apple</td>\n",
       "      <td>22</td>\n",
       "      <td>139</td>\n",
       "      <td>22</td>\n",
       "      <td>2</td>\n",
       "      <td>jessedee know about fludapp awesome ipadiphone...</td>\n",
       "      <td>[jessedee, know, fludapp, awesome, ipadiphone,...</td>\n",
       "      <td>[jessedee, know, fludapp, awesome, ipadiphone,...</td>\n",
       "      <td>jessedee know fludapp awesome ipadiphone app y...</td>\n",
       "      <td>2</td>\n",
       "    </tr>\n",
       "    <tr>\n",
       "      <th>2</th>\n",
       "      <td>@swonderlin Can not wait for #iPad 2 also. The...</td>\n",
       "      <td>iPad</td>\n",
       "      <td>Positive</td>\n",
       "      <td>Apple</td>\n",
       "      <td>15</td>\n",
       "      <td>79</td>\n",
       "      <td>15</td>\n",
       "      <td>3</td>\n",
       "      <td>swonderlin can not wait for also they should s...</td>\n",
       "      <td>[swonderlin, wait, also, sale]</td>\n",
       "      <td>[swonderlin, wait, also, sale]</td>\n",
       "      <td>swonderlin wait also sale</td>\n",
       "      <td>2</td>\n",
       "    </tr>\n",
       "    <tr>\n",
       "      <th>3</th>\n",
       "      <td>@sxsw I hope this year's festival isn't as cra...</td>\n",
       "      <td>iPad or iPhone App</td>\n",
       "      <td>Negative</td>\n",
       "      <td>Apple</td>\n",
       "      <td>15</td>\n",
       "      <td>82</td>\n",
       "      <td>15</td>\n",
       "      <td>2</td>\n",
       "      <td>sxsw i hope this years festival isnt as crashy...</td>\n",
       "      <td>[sxsw, hope, years, festival, isnt, crashy, ye...</td>\n",
       "      <td>[sxsw, hope, year, festival, isnt, crashy, yea...</td>\n",
       "      <td>sxsw hope years festival isnt crashy years iph...</td>\n",
       "      <td>0</td>\n",
       "    </tr>\n",
       "    <tr>\n",
       "      <th>4</th>\n",
       "      <td>@sxtxstate great stuff on Fri #SXSW: Marissa M...</td>\n",
       "      <td>Google</td>\n",
       "      <td>Positive</td>\n",
       "      <td>Google</td>\n",
       "      <td>17</td>\n",
       "      <td>131</td>\n",
       "      <td>17</td>\n",
       "      <td>1</td>\n",
       "      <td>sxtxstate great stuff on fri marissa mayer goo...</td>\n",
       "      <td>[sxtxstate, great, stuff, fri, marissa, mayer,...</td>\n",
       "      <td>[sxtxstate, great, stuff, fri, marissa, mayer,...</td>\n",
       "      <td>sxtxstate great stuff fri marissa mayer google...</td>\n",
       "      <td>2</td>\n",
       "    </tr>\n",
       "    <tr>\n",
       "      <th>5</th>\n",
       "      <td>@teachntech00 New iPad Apps For #SpeechTherapy...</td>\n",
       "      <td>No brand</td>\n",
       "      <td>Neutral</td>\n",
       "      <td>none</td>\n",
       "      <td>18</td>\n",
       "      <td>140</td>\n",
       "      <td>18</td>\n",
       "      <td>2</td>\n",
       "      <td>teachntech new ipad apps for and communication...</td>\n",
       "      <td>[teachntech, new, ipad, apps, communication, s...</td>\n",
       "      <td>[teachntech, new, ipad, apps, communication, s...</td>\n",
       "      <td>teachntech new ipad apps communication showcas...</td>\n",
       "      <td>1</td>\n",
       "    </tr>\n",
       "    <tr>\n",
       "      <th>7</th>\n",
       "      <td>#SXSW is just starting, #CTIA is around the co...</td>\n",
       "      <td>Android</td>\n",
       "      <td>Positive</td>\n",
       "      <td>Google</td>\n",
       "      <td>28</td>\n",
       "      <td>138</td>\n",
       "      <td>28</td>\n",
       "      <td>1</td>\n",
       "      <td>is just starting is around the corner and is o...</td>\n",
       "      <td>[starting, around, corner, hop, skip, jump, go...</td>\n",
       "      <td>[starting, around, corner, hop, skip, jump, go...</td>\n",
       "      <td>starting around corner hop skip jump good time...</td>\n",
       "      <td>2</td>\n",
       "    </tr>\n",
       "    <tr>\n",
       "      <th>8</th>\n",
       "      <td>Beautifully smart and simple idea RT @madebyma...</td>\n",
       "      <td>iPad or iPhone App</td>\n",
       "      <td>Positive</td>\n",
       "      <td>Apple</td>\n",
       "      <td>17</td>\n",
       "      <td>129</td>\n",
       "      <td>17</td>\n",
       "      <td>2</td>\n",
       "      <td>beautifully smart and simple idea rt madebyman...</td>\n",
       "      <td>[beautifully, smart, simple, idea, rt, madebym...</td>\n",
       "      <td>[beautifully, smart, simple, idea, rt, madebym...</td>\n",
       "      <td>beautifully smart simple idea rt madebymany th...</td>\n",
       "      <td>2</td>\n",
       "    </tr>\n",
       "    <tr>\n",
       "      <th>9</th>\n",
       "      <td>Counting down the days to #sxsw plus strong Ca...</td>\n",
       "      <td>Apple</td>\n",
       "      <td>Positive</td>\n",
       "      <td>Apple</td>\n",
       "      <td>16</td>\n",
       "      <td>88</td>\n",
       "      <td>16</td>\n",
       "      <td>1</td>\n",
       "      <td>counting down the days to plus strong canadian...</td>\n",
       "      <td>[counting, days, plus, strong, canadian, dolla...</td>\n",
       "      <td>[counting, day, plus, strong, canadian, dollar...</td>\n",
       "      <td>counting days plus strong canadian dollar mean...</td>\n",
       "      <td>2</td>\n",
       "    </tr>\n",
       "    <tr>\n",
       "      <th>10</th>\n",
       "      <td>Excited to meet the @samsungmobileus at #sxsw ...</td>\n",
       "      <td>Android</td>\n",
       "      <td>Positive</td>\n",
       "      <td>Google</td>\n",
       "      <td>21</td>\n",
       "      <td>118</td>\n",
       "      <td>21</td>\n",
       "      <td>3</td>\n",
       "      <td>excited to meet the samsungmobileus at so i ca...</td>\n",
       "      <td>[excited, meet, samsungmobileus, show, sprint,...</td>\n",
       "      <td>[excited, meet, samsungmobileus, show, sprint,...</td>\n",
       "      <td>excited meet samsungmobileus show sprint galax...</td>\n",
       "      <td>2</td>\n",
       "    </tr>\n",
       "  </tbody>\n",
       "</table>\n",
       "</div>"
      ],
      "text/plain": [
       "                                           tweet_text           recipient  \\\n",
       "0   .@wesley83 I have a 3G iPhone. After 3 hrs twe...              iPhone   \n",
       "1   @jessedee Know about @fludapp ? Awesome iPad/i...  iPad or iPhone App   \n",
       "2   @swonderlin Can not wait for #iPad 2 also. The...                iPad   \n",
       "3   @sxsw I hope this year's festival isn't as cra...  iPad or iPhone App   \n",
       "4   @sxtxstate great stuff on Fri #SXSW: Marissa M...              Google   \n",
       "5   @teachntech00 New iPad Apps For #SpeechTherapy...            No brand   \n",
       "7   #SXSW is just starting, #CTIA is around the co...             Android   \n",
       "8   Beautifully smart and simple idea RT @madebyma...  iPad or iPhone App   \n",
       "9   Counting down the days to #sxsw plus strong Ca...               Apple   \n",
       "10  Excited to meet the @samsungmobileus at #sxsw ...             Android   \n",
       "\n",
       "     emotion   brand  tweet_length  char_count  word_count  sentence_count  \\\n",
       "0   Negative   Apple            23         127          23               5   \n",
       "1   Positive   Apple            22         139          22               2   \n",
       "2   Positive   Apple            15          79          15               3   \n",
       "3   Negative   Apple            15          82          15               2   \n",
       "4   Positive  Google            17         131          17               1   \n",
       "5    Neutral    none            18         140          18               2   \n",
       "7   Positive  Google            28         138          28               1   \n",
       "8   Positive   Apple            17         129          17               2   \n",
       "9   Positive   Apple            16          88          16               1   \n",
       "10  Positive  Google            21         118          21               3   \n",
       "\n",
       "                                         cleaned_text  \\\n",
       "0   wesley i have a g iphone after hrs tweeting at...   \n",
       "1   jessedee know about fludapp awesome ipadiphone...   \n",
       "2   swonderlin can not wait for also they should s...   \n",
       "3   sxsw i hope this years festival isnt as crashy...   \n",
       "4   sxtxstate great stuff on fri marissa mayer goo...   \n",
       "5   teachntech new ipad apps for and communication...   \n",
       "7   is just starting is around the corner and is o...   \n",
       "8   beautifully smart and simple idea rt madebyman...   \n",
       "9   counting down the days to plus strong canadian...   \n",
       "10  excited to meet the samsungmobileus at so i ca...   \n",
       "\n",
       "                                       tokenized_text  \\\n",
       "0   [wesley, g, iphone, hrs, tweeting, dead, need,...   \n",
       "1   [jessedee, know, fludapp, awesome, ipadiphone,...   \n",
       "2                      [swonderlin, wait, also, sale]   \n",
       "3   [sxsw, hope, years, festival, isnt, crashy, ye...   \n",
       "4   [sxtxstate, great, stuff, fri, marissa, mayer,...   \n",
       "5   [teachntech, new, ipad, apps, communication, s...   \n",
       "7   [starting, around, corner, hop, skip, jump, go...   \n",
       "8   [beautifully, smart, simple, idea, rt, madebym...   \n",
       "9   [counting, days, plus, strong, canadian, dolla...   \n",
       "10  [excited, meet, samsungmobileus, show, sprint,...   \n",
       "\n",
       "                                      lemmatized_text  \\\n",
       "0   [wesley, g, iphone, hr, tweeting, dead, need, ...   \n",
       "1   [jessedee, know, fludapp, awesome, ipadiphone,...   \n",
       "2                      [swonderlin, wait, also, sale]   \n",
       "3   [sxsw, hope, year, festival, isnt, crashy, yea...   \n",
       "4   [sxtxstate, great, stuff, fri, marissa, mayer,...   \n",
       "5   [teachntech, new, ipad, apps, communication, s...   \n",
       "7   [starting, around, corner, hop, skip, jump, go...   \n",
       "8   [beautifully, smart, simple, idea, rt, madebym...   \n",
       "9   [counting, day, plus, strong, canadian, dollar...   \n",
       "10  [excited, meet, samsungmobileus, show, sprint,...   \n",
       "\n",
       "                                             document  emotion_code  \n",
       "0   wesley g iphone hrs tweeting dead need upgrade...             0  \n",
       "1   jessedee know fludapp awesome ipadiphone app y...             2  \n",
       "2                           swonderlin wait also sale             2  \n",
       "3   sxsw hope years festival isnt crashy years iph...             0  \n",
       "4   sxtxstate great stuff fri marissa mayer google...             2  \n",
       "5   teachntech new ipad apps communication showcas...             1  \n",
       "7   starting around corner hop skip jump good time...             2  \n",
       "8   beautifully smart simple idea rt madebymany th...             2  \n",
       "9   counting days plus strong canadian dollar mean...             2  \n",
       "10  excited meet samsungmobileus show sprint galax...             2  "
      ]
     },
     "execution_count": 351,
     "metadata": {},
     "output_type": "execute_result"
    }
   ],
   "source": [
    "binary_data = data.copy()\n",
    "binary_data.head(10)"
   ]
  },
  {
   "cell_type": "code",
   "execution_count": 352,
   "id": "6362c389",
   "metadata": {},
   "outputs": [
    {
     "data": {
      "text/html": [
       "<div>\n",
       "<style scoped>\n",
       "    .dataframe tbody tr th:only-of-type {\n",
       "        vertical-align: middle;\n",
       "    }\n",
       "\n",
       "    .dataframe tbody tr th {\n",
       "        vertical-align: top;\n",
       "    }\n",
       "\n",
       "    .dataframe thead th {\n",
       "        text-align: right;\n",
       "    }\n",
       "</style>\n",
       "<table border=\"1\" class=\"dataframe\">\n",
       "  <thead>\n",
       "    <tr style=\"text-align: right;\">\n",
       "      <th></th>\n",
       "      <th>tweet_text</th>\n",
       "      <th>recipient</th>\n",
       "      <th>emotion</th>\n",
       "      <th>brand</th>\n",
       "      <th>tweet_length</th>\n",
       "      <th>char_count</th>\n",
       "      <th>word_count</th>\n",
       "      <th>sentence_count</th>\n",
       "      <th>cleaned_text</th>\n",
       "      <th>tokenized_text</th>\n",
       "      <th>lemmatized_text</th>\n",
       "      <th>document</th>\n",
       "      <th>emotion_code</th>\n",
       "    </tr>\n",
       "  </thead>\n",
       "  <tbody>\n",
       "    <tr>\n",
       "      <th>0</th>\n",
       "      <td>.@wesley83 I have a 3G iPhone. After 3 hrs twe...</td>\n",
       "      <td>iPhone</td>\n",
       "      <td>Negative</td>\n",
       "      <td>Apple</td>\n",
       "      <td>23</td>\n",
       "      <td>127</td>\n",
       "      <td>23</td>\n",
       "      <td>5</td>\n",
       "      <td>wesley i have a g iphone after hrs tweeting at...</td>\n",
       "      <td>[wesley, g, iphone, hrs, tweeting, dead, need,...</td>\n",
       "      <td>[wesley, g, iphone, hr, tweeting, dead, need, ...</td>\n",
       "      <td>wesley g iphone hrs tweeting dead need upgrade...</td>\n",
       "      <td>0</td>\n",
       "    </tr>\n",
       "    <tr>\n",
       "      <th>1</th>\n",
       "      <td>@jessedee Know about @fludapp ? Awesome iPad/i...</td>\n",
       "      <td>iPad or iPhone App</td>\n",
       "      <td>Positive</td>\n",
       "      <td>Apple</td>\n",
       "      <td>22</td>\n",
       "      <td>139</td>\n",
       "      <td>22</td>\n",
       "      <td>2</td>\n",
       "      <td>jessedee know about fludapp awesome ipadiphone...</td>\n",
       "      <td>[jessedee, know, fludapp, awesome, ipadiphone,...</td>\n",
       "      <td>[jessedee, know, fludapp, awesome, ipadiphone,...</td>\n",
       "      <td>jessedee know fludapp awesome ipadiphone app y...</td>\n",
       "      <td>2</td>\n",
       "    </tr>\n",
       "    <tr>\n",
       "      <th>2</th>\n",
       "      <td>@swonderlin Can not wait for #iPad 2 also. The...</td>\n",
       "      <td>iPad</td>\n",
       "      <td>Positive</td>\n",
       "      <td>Apple</td>\n",
       "      <td>15</td>\n",
       "      <td>79</td>\n",
       "      <td>15</td>\n",
       "      <td>3</td>\n",
       "      <td>swonderlin can not wait for also they should s...</td>\n",
       "      <td>[swonderlin, wait, also, sale]</td>\n",
       "      <td>[swonderlin, wait, also, sale]</td>\n",
       "      <td>swonderlin wait also sale</td>\n",
       "      <td>2</td>\n",
       "    </tr>\n",
       "    <tr>\n",
       "      <th>3</th>\n",
       "      <td>@sxsw I hope this year's festival isn't as cra...</td>\n",
       "      <td>iPad or iPhone App</td>\n",
       "      <td>Negative</td>\n",
       "      <td>Apple</td>\n",
       "      <td>15</td>\n",
       "      <td>82</td>\n",
       "      <td>15</td>\n",
       "      <td>2</td>\n",
       "      <td>sxsw i hope this years festival isnt as crashy...</td>\n",
       "      <td>[sxsw, hope, years, festival, isnt, crashy, ye...</td>\n",
       "      <td>[sxsw, hope, year, festival, isnt, crashy, yea...</td>\n",
       "      <td>sxsw hope years festival isnt crashy years iph...</td>\n",
       "      <td>0</td>\n",
       "    </tr>\n",
       "    <tr>\n",
       "      <th>4</th>\n",
       "      <td>@sxtxstate great stuff on Fri #SXSW: Marissa M...</td>\n",
       "      <td>Google</td>\n",
       "      <td>Positive</td>\n",
       "      <td>Google</td>\n",
       "      <td>17</td>\n",
       "      <td>131</td>\n",
       "      <td>17</td>\n",
       "      <td>1</td>\n",
       "      <td>sxtxstate great stuff on fri marissa mayer goo...</td>\n",
       "      <td>[sxtxstate, great, stuff, fri, marissa, mayer,...</td>\n",
       "      <td>[sxtxstate, great, stuff, fri, marissa, mayer,...</td>\n",
       "      <td>sxtxstate great stuff fri marissa mayer google...</td>\n",
       "      <td>2</td>\n",
       "    </tr>\n",
       "    <tr>\n",
       "      <th>7</th>\n",
       "      <td>#SXSW is just starting, #CTIA is around the co...</td>\n",
       "      <td>Android</td>\n",
       "      <td>Positive</td>\n",
       "      <td>Google</td>\n",
       "      <td>28</td>\n",
       "      <td>138</td>\n",
       "      <td>28</td>\n",
       "      <td>1</td>\n",
       "      <td>is just starting is around the corner and is o...</td>\n",
       "      <td>[starting, around, corner, hop, skip, jump, go...</td>\n",
       "      <td>[starting, around, corner, hop, skip, jump, go...</td>\n",
       "      <td>starting around corner hop skip jump good time...</td>\n",
       "      <td>2</td>\n",
       "    </tr>\n",
       "    <tr>\n",
       "      <th>8</th>\n",
       "      <td>Beautifully smart and simple idea RT @madebyma...</td>\n",
       "      <td>iPad or iPhone App</td>\n",
       "      <td>Positive</td>\n",
       "      <td>Apple</td>\n",
       "      <td>17</td>\n",
       "      <td>129</td>\n",
       "      <td>17</td>\n",
       "      <td>2</td>\n",
       "      <td>beautifully smart and simple idea rt madebyman...</td>\n",
       "      <td>[beautifully, smart, simple, idea, rt, madebym...</td>\n",
       "      <td>[beautifully, smart, simple, idea, rt, madebym...</td>\n",
       "      <td>beautifully smart simple idea rt madebymany th...</td>\n",
       "      <td>2</td>\n",
       "    </tr>\n",
       "    <tr>\n",
       "      <th>9</th>\n",
       "      <td>Counting down the days to #sxsw plus strong Ca...</td>\n",
       "      <td>Apple</td>\n",
       "      <td>Positive</td>\n",
       "      <td>Apple</td>\n",
       "      <td>16</td>\n",
       "      <td>88</td>\n",
       "      <td>16</td>\n",
       "      <td>1</td>\n",
       "      <td>counting down the days to plus strong canadian...</td>\n",
       "      <td>[counting, days, plus, strong, canadian, dolla...</td>\n",
       "      <td>[counting, day, plus, strong, canadian, dollar...</td>\n",
       "      <td>counting days plus strong canadian dollar mean...</td>\n",
       "      <td>2</td>\n",
       "    </tr>\n",
       "    <tr>\n",
       "      <th>10</th>\n",
       "      <td>Excited to meet the @samsungmobileus at #sxsw ...</td>\n",
       "      <td>Android</td>\n",
       "      <td>Positive</td>\n",
       "      <td>Google</td>\n",
       "      <td>21</td>\n",
       "      <td>118</td>\n",
       "      <td>21</td>\n",
       "      <td>3</td>\n",
       "      <td>excited to meet the samsungmobileus at so i ca...</td>\n",
       "      <td>[excited, meet, samsungmobileus, show, sprint,...</td>\n",
       "      <td>[excited, meet, samsungmobileus, show, sprint,...</td>\n",
       "      <td>excited meet samsungmobileus show sprint galax...</td>\n",
       "      <td>2</td>\n",
       "    </tr>\n",
       "    <tr>\n",
       "      <th>11</th>\n",
       "      <td>Find &amp;amp; Start Impromptu Parties at #SXSW Wi...</td>\n",
       "      <td>Android App</td>\n",
       "      <td>Positive</td>\n",
       "      <td>Google</td>\n",
       "      <td>19</td>\n",
       "      <td>129</td>\n",
       "      <td>19</td>\n",
       "      <td>3</td>\n",
       "      <td>find amp start impromptu parties at with hurri...</td>\n",
       "      <td>[find, amp, start, impromptu, parties, hurrica...</td>\n",
       "      <td>[find, amp, start, impromptu, party, hurricane...</td>\n",
       "      <td>find amp start impromptu parties hurricanepart...</td>\n",
       "      <td>2</td>\n",
       "    </tr>\n",
       "  </tbody>\n",
       "</table>\n",
       "</div>"
      ],
      "text/plain": [
       "                                           tweet_text           recipient  \\\n",
       "0   .@wesley83 I have a 3G iPhone. After 3 hrs twe...              iPhone   \n",
       "1   @jessedee Know about @fludapp ? Awesome iPad/i...  iPad or iPhone App   \n",
       "2   @swonderlin Can not wait for #iPad 2 also. The...                iPad   \n",
       "3   @sxsw I hope this year's festival isn't as cra...  iPad or iPhone App   \n",
       "4   @sxtxstate great stuff on Fri #SXSW: Marissa M...              Google   \n",
       "7   #SXSW is just starting, #CTIA is around the co...             Android   \n",
       "8   Beautifully smart and simple idea RT @madebyma...  iPad or iPhone App   \n",
       "9   Counting down the days to #sxsw plus strong Ca...               Apple   \n",
       "10  Excited to meet the @samsungmobileus at #sxsw ...             Android   \n",
       "11  Find &amp; Start Impromptu Parties at #SXSW Wi...         Android App   \n",
       "\n",
       "     emotion   brand  tweet_length  char_count  word_count  sentence_count  \\\n",
       "0   Negative   Apple            23         127          23               5   \n",
       "1   Positive   Apple            22         139          22               2   \n",
       "2   Positive   Apple            15          79          15               3   \n",
       "3   Negative   Apple            15          82          15               2   \n",
       "4   Positive  Google            17         131          17               1   \n",
       "7   Positive  Google            28         138          28               1   \n",
       "8   Positive   Apple            17         129          17               2   \n",
       "9   Positive   Apple            16          88          16               1   \n",
       "10  Positive  Google            21         118          21               3   \n",
       "11  Positive  Google            19         129          19               3   \n",
       "\n",
       "                                         cleaned_text  \\\n",
       "0   wesley i have a g iphone after hrs tweeting at...   \n",
       "1   jessedee know about fludapp awesome ipadiphone...   \n",
       "2   swonderlin can not wait for also they should s...   \n",
       "3   sxsw i hope this years festival isnt as crashy...   \n",
       "4   sxtxstate great stuff on fri marissa mayer goo...   \n",
       "7   is just starting is around the corner and is o...   \n",
       "8   beautifully smart and simple idea rt madebyman...   \n",
       "9   counting down the days to plus strong canadian...   \n",
       "10  excited to meet the samsungmobileus at so i ca...   \n",
       "11  find amp start impromptu parties at with hurri...   \n",
       "\n",
       "                                       tokenized_text  \\\n",
       "0   [wesley, g, iphone, hrs, tweeting, dead, need,...   \n",
       "1   [jessedee, know, fludapp, awesome, ipadiphone,...   \n",
       "2                      [swonderlin, wait, also, sale]   \n",
       "3   [sxsw, hope, years, festival, isnt, crashy, ye...   \n",
       "4   [sxtxstate, great, stuff, fri, marissa, mayer,...   \n",
       "7   [starting, around, corner, hop, skip, jump, go...   \n",
       "8   [beautifully, smart, simple, idea, rt, madebym...   \n",
       "9   [counting, days, plus, strong, canadian, dolla...   \n",
       "10  [excited, meet, samsungmobileus, show, sprint,...   \n",
       "11  [find, amp, start, impromptu, parties, hurrica...   \n",
       "\n",
       "                                      lemmatized_text  \\\n",
       "0   [wesley, g, iphone, hr, tweeting, dead, need, ...   \n",
       "1   [jessedee, know, fludapp, awesome, ipadiphone,...   \n",
       "2                      [swonderlin, wait, also, sale]   \n",
       "3   [sxsw, hope, year, festival, isnt, crashy, yea...   \n",
       "4   [sxtxstate, great, stuff, fri, marissa, mayer,...   \n",
       "7   [starting, around, corner, hop, skip, jump, go...   \n",
       "8   [beautifully, smart, simple, idea, rt, madebym...   \n",
       "9   [counting, day, plus, strong, canadian, dollar...   \n",
       "10  [excited, meet, samsungmobileus, show, sprint,...   \n",
       "11  [find, amp, start, impromptu, party, hurricane...   \n",
       "\n",
       "                                             document  emotion_code  \n",
       "0   wesley g iphone hrs tweeting dead need upgrade...             0  \n",
       "1   jessedee know fludapp awesome ipadiphone app y...             2  \n",
       "2                           swonderlin wait also sale             2  \n",
       "3   sxsw hope years festival isnt crashy years iph...             0  \n",
       "4   sxtxstate great stuff fri marissa mayer google...             2  \n",
       "7   starting around corner hop skip jump good time...             2  \n",
       "8   beautifully smart simple idea rt madebymany th...             2  \n",
       "9   counting days plus strong canadian dollar mean...             2  \n",
       "10  excited meet samsungmobileus show sprint galax...             2  \n",
       "11  find amp start impromptu parties hurricanepart...             2  "
      ]
     },
     "execution_count": 352,
     "metadata": {},
     "output_type": "execute_result"
    }
   ],
   "source": [
    "binary_data.drop(binary_data[binary_data['emotion_code'] == 1].index, inplace=True)\n",
    "binary_data.head(10)"
   ]
  },
  {
   "cell_type": "code",
   "execution_count": 353,
   "id": "a79bd903",
   "metadata": {},
   "outputs": [
    {
     "data": {
      "text/plain": [
       "2    2978\n",
       "0     570\n",
       "Name: emotion_code, dtype: int64"
      ]
     },
     "execution_count": 353,
     "metadata": {},
     "output_type": "execute_result"
    }
   ],
   "source": [
    "binary_data['emotion_code'].value_counts()"
   ]
  },
  {
   "cell_type": "code",
   "execution_count": 354,
   "id": "e2fe22d3",
   "metadata": {},
   "outputs": [],
   "source": [
    "# split data to train and test sets\n",
    "\n",
    "X = binary_data['document']\n",
    "y = binary_data['emotion_code']\n",
    "\n",
    "X_train, X_test, y_train, y_test = train_test_split(X, y, random_state=42)"
   ]
  },
  {
   "cell_type": "code",
   "execution_count": 355,
   "id": "5df0f7ef",
   "metadata": {},
   "outputs": [],
   "source": [
    "# vectorize\n",
    "\n",
    "vectorizer = CountVectorizer()\n",
    "X_train_vec = vectorizer.fit_transform(X_train)\n",
    "X_test_vec = vectorizer.transform(X_test)"
   ]
  },
  {
   "cell_type": "code",
   "execution_count": 356,
   "id": "9e6eb9a0",
   "metadata": {},
   "outputs": [
    {
     "data": {
      "text/html": [
       "<style>#sk-container-id-22 {color: black;background-color: white;}#sk-container-id-22 pre{padding: 0;}#sk-container-id-22 div.sk-toggleable {background-color: white;}#sk-container-id-22 label.sk-toggleable__label {cursor: pointer;display: block;width: 100%;margin-bottom: 0;padding: 0.3em;box-sizing: border-box;text-align: center;}#sk-container-id-22 label.sk-toggleable__label-arrow:before {content: \"▸\";float: left;margin-right: 0.25em;color: #696969;}#sk-container-id-22 label.sk-toggleable__label-arrow:hover:before {color: black;}#sk-container-id-22 div.sk-estimator:hover label.sk-toggleable__label-arrow:before {color: black;}#sk-container-id-22 div.sk-toggleable__content {max-height: 0;max-width: 0;overflow: hidden;text-align: left;background-color: #f0f8ff;}#sk-container-id-22 div.sk-toggleable__content pre {margin: 0.2em;color: black;border-radius: 0.25em;background-color: #f0f8ff;}#sk-container-id-22 input.sk-toggleable__control:checked~div.sk-toggleable__content {max-height: 200px;max-width: 100%;overflow: auto;}#sk-container-id-22 input.sk-toggleable__control:checked~label.sk-toggleable__label-arrow:before {content: \"▾\";}#sk-container-id-22 div.sk-estimator input.sk-toggleable__control:checked~label.sk-toggleable__label {background-color: #d4ebff;}#sk-container-id-22 div.sk-label input.sk-toggleable__control:checked~label.sk-toggleable__label {background-color: #d4ebff;}#sk-container-id-22 input.sk-hidden--visually {border: 0;clip: rect(1px 1px 1px 1px);clip: rect(1px, 1px, 1px, 1px);height: 1px;margin: -1px;overflow: hidden;padding: 0;position: absolute;width: 1px;}#sk-container-id-22 div.sk-estimator {font-family: monospace;background-color: #f0f8ff;border: 1px dotted black;border-radius: 0.25em;box-sizing: border-box;margin-bottom: 0.5em;}#sk-container-id-22 div.sk-estimator:hover {background-color: #d4ebff;}#sk-container-id-22 div.sk-parallel-item::after {content: \"\";width: 100%;border-bottom: 1px solid gray;flex-grow: 1;}#sk-container-id-22 div.sk-label:hover label.sk-toggleable__label {background-color: #d4ebff;}#sk-container-id-22 div.sk-serial::before {content: \"\";position: absolute;border-left: 1px solid gray;box-sizing: border-box;top: 0;bottom: 0;left: 50%;z-index: 0;}#sk-container-id-22 div.sk-serial {display: flex;flex-direction: column;align-items: center;background-color: white;padding-right: 0.2em;padding-left: 0.2em;position: relative;}#sk-container-id-22 div.sk-item {position: relative;z-index: 1;}#sk-container-id-22 div.sk-parallel {display: flex;align-items: stretch;justify-content: center;background-color: white;position: relative;}#sk-container-id-22 div.sk-item::before, #sk-container-id-22 div.sk-parallel-item::before {content: \"\";position: absolute;border-left: 1px solid gray;box-sizing: border-box;top: 0;bottom: 0;left: 50%;z-index: -1;}#sk-container-id-22 div.sk-parallel-item {display: flex;flex-direction: column;z-index: 1;position: relative;background-color: white;}#sk-container-id-22 div.sk-parallel-item:first-child::after {align-self: flex-end;width: 50%;}#sk-container-id-22 div.sk-parallel-item:last-child::after {align-self: flex-start;width: 50%;}#sk-container-id-22 div.sk-parallel-item:only-child::after {width: 0;}#sk-container-id-22 div.sk-dashed-wrapped {border: 1px dashed gray;margin: 0 0.4em 0.5em 0.4em;box-sizing: border-box;padding-bottom: 0.4em;background-color: white;}#sk-container-id-22 div.sk-label label {font-family: monospace;font-weight: bold;display: inline-block;line-height: 1.2em;}#sk-container-id-22 div.sk-label-container {text-align: center;}#sk-container-id-22 div.sk-container {/* jupyter's `normalize.less` sets `[hidden] { display: none; }` but bootstrap.min.css set `[hidden] { display: none !important; }` so we also need the `!important` here to be able to override the default hidden behavior on the sphinx rendered scikit-learn.org. See: https://github.com/scikit-learn/scikit-learn/issues/21755 */display: inline-block !important;position: relative;}#sk-container-id-22 div.sk-text-repr-fallback {display: none;}</style><div id=\"sk-container-id-22\" class=\"sk-top-container\"><div class=\"sk-text-repr-fallback\"><pre>LogisticRegression()</pre><b>In a Jupyter environment, please rerun this cell to show the HTML representation or trust the notebook. <br />On GitHub, the HTML representation is unable to render, please try loading this page with nbviewer.org.</b></div><div class=\"sk-container\" hidden><div class=\"sk-item\"><div class=\"sk-estimator sk-toggleable\"><input class=\"sk-toggleable__control sk-hidden--visually\" id=\"sk-estimator-id-22\" type=\"checkbox\" checked><label for=\"sk-estimator-id-22\" class=\"sk-toggleable__label sk-toggleable__label-arrow\">LogisticRegression</label><div class=\"sk-toggleable__content\"><pre>LogisticRegression()</pre></div></div></div></div></div>"
      ],
      "text/plain": [
       "LogisticRegression()"
      ]
     },
     "execution_count": 356,
     "metadata": {},
     "output_type": "execute_result"
    }
   ],
   "source": [
    "logreg = LogisticRegression()\n",
    "\n",
    "logreg.fit(X_train_vec, y_train)"
   ]
  },
  {
   "cell_type": "code",
   "execution_count": 357,
   "id": "db8f6ddf",
   "metadata": {},
   "outputs": [
    {
     "name": "stdout",
     "output_type": "stream",
     "text": [
      "Train accuracy: 0.971815107102593\n",
      "Test accuracy: 0.8804960541149943\n"
     ]
    }
   ],
   "source": [
    "y_pred = logreg.predict(X_test_vec)\n",
    "y_train_pred = logreg.predict(X_train_vec)\n",
    "\n",
    "print(\"Train accuracy:\", accuracy_score(y_train, y_train_pred))\n",
    "print(\"Test accuracy:\", accuracy_score(y_test, y_pred))"
   ]
  },
  {
   "cell_type": "code",
   "execution_count": 358,
   "id": "41ea4410",
   "metadata": {},
   "outputs": [
    {
     "name": "stdout",
     "output_type": "stream",
     "text": [
      "\n",
      "Classification Report:\n",
      "               precision    recall  f1-score   support\n",
      "\n",
      "           0       0.74      0.35      0.48       137\n",
      "           2       0.89      0.98      0.93       750\n",
      "\n",
      "    accuracy                           0.88       887\n",
      "   macro avg       0.82      0.66      0.70       887\n",
      "weighted avg       0.87      0.88      0.86       887\n",
      "\n"
     ]
    }
   ],
   "source": [
    "print(\"\\nClassification Report:\\n\", classification_report(y_test, y_pred))"
   ]
  },
  {
   "cell_type": "code",
   "execution_count": 359,
   "id": "c7a07407",
   "metadata": {},
   "outputs": [
    {
     "data": {
      "image/png": "[encoded data removed]",
      "text/plain": [
       "<Figure size 432x288 with 2 Axes>"
      ]
     },
     "metadata": {
      "needs_background": "light"
     },
     "output_type": "display_data"
    }
   ],
   "source": [
    "#plot a confusion matrix\n",
    "log_matrix = confusion_matrix(y_test, y_pred)\n",
    "\n",
    "cm_display = metrics.ConfusionMatrixDisplay(confusion_matrix = log_matrix)\n",
    "cm_display.plot()\n",
    "plt.show()"
   ]
  },
  {
   "cell_type": "markdown",
   "id": "b443ebf0",
   "metadata": {},
   "source": [
    "From the classification report, the model performs well for the majority class(positive) but poorly on the other class. This is because of class imbalance.\n",
    "\n",
    "We'll try fitting a decision tree while accounting for the class imbalance to see if there will be better peerformance"
   ]
  },
  {
   "cell_type": "code",
   "execution_count": 360,
   "id": "8bb9566c",
   "metadata": {},
   "outputs": [
    {
     "name": "stdout",
     "output_type": "stream",
     "text": [
      "Train Accuracy: 1.0\n",
      "Test Accuracy: 0.7948139797068771\n",
      "\n",
      " Classification Report:\n",
      "              precision    recall  f1-score   support\n",
      "\n",
      "           0       0.38      0.53      0.45       137\n",
      "           2       0.91      0.84      0.87       750\n",
      "\n",
      "    accuracy                           0.79       887\n",
      "   macro avg       0.65      0.69      0.66       887\n",
      "weighted avg       0.83      0.79      0.81       887\n",
      "\n"
     ]
    }
   ],
   "source": [
    "weighted_tree = DecisionTreeClassifier(class_weight='balanced', random_state=42)\n",
    "weighted_tree.fit(X_train_vec, y_train)\n",
    "\n",
    "\n",
    "y_train_pred = weighted_tree.predict(X_train_vec)\n",
    "y_pred = weighted_tree.predict(X_test_vec)\n",
    "\n",
    "print(f\"Train Accuracy: {accuracy_score(y_train, y_train_pred)}\")\n",
    "print(f\"Test Accuracy: {accuracy_score(y_test, y_pred)}\")\n",
    "\n",
    "print(\"\\n Classification Report:\")\n",
    "print(classification_report(y_test, y_pred))"
   ]
  },
  {
   "cell_type": "markdown",
   "id": "50b01027",
   "metadata": {},
   "source": [
    "The tree performs worse than the logistic regression model. Let's try fitting again without accounting for the imbalance"
   ]
  },
  {
   "cell_type": "code",
   "execution_count": 361,
   "id": "a846a59f",
   "metadata": {},
   "outputs": [
    {
     "data": {
      "text/html": [
       "<style>#sk-container-id-23 {color: black;background-color: white;}#sk-container-id-23 pre{padding: 0;}#sk-container-id-23 div.sk-toggleable {background-color: white;}#sk-container-id-23 label.sk-toggleable__label {cursor: pointer;display: block;width: 100%;margin-bottom: 0;padding: 0.3em;box-sizing: border-box;text-align: center;}#sk-container-id-23 label.sk-toggleable__label-arrow:before {content: \"▸\";float: left;margin-right: 0.25em;color: #696969;}#sk-container-id-23 label.sk-toggleable__label-arrow:hover:before {color: black;}#sk-container-id-23 div.sk-estimator:hover label.sk-toggleable__label-arrow:before {color: black;}#sk-container-id-23 div.sk-toggleable__content {max-height: 0;max-width: 0;overflow: hidden;text-align: left;background-color: #f0f8ff;}#sk-container-id-23 div.sk-toggleable__content pre {margin: 0.2em;color: black;border-radius: 0.25em;background-color: #f0f8ff;}#sk-container-id-23 input.sk-toggleable__control:checked~div.sk-toggleable__content {max-height: 200px;max-width: 100%;overflow: auto;}#sk-container-id-23 input.sk-toggleable__control:checked~label.sk-toggleable__label-arrow:before {content: \"▾\";}#sk-container-id-23 div.sk-estimator input.sk-toggleable__control:checked~label.sk-toggleable__label {background-color: #d4ebff;}#sk-container-id-23 div.sk-label input.sk-toggleable__control:checked~label.sk-toggleable__label {background-color: #d4ebff;}#sk-container-id-23 input.sk-hidden--visually {border: 0;clip: rect(1px 1px 1px 1px);clip: rect(1px, 1px, 1px, 1px);height: 1px;margin: -1px;overflow: hidden;padding: 0;position: absolute;width: 1px;}#sk-container-id-23 div.sk-estimator {font-family: monospace;background-color: #f0f8ff;border: 1px dotted black;border-radius: 0.25em;box-sizing: border-box;margin-bottom: 0.5em;}#sk-container-id-23 div.sk-estimator:hover {background-color: #d4ebff;}#sk-container-id-23 div.sk-parallel-item::after {content: \"\";width: 100%;border-bottom: 1px solid gray;flex-grow: 1;}#sk-container-id-23 div.sk-label:hover label.sk-toggleable__label {background-color: #d4ebff;}#sk-container-id-23 div.sk-serial::before {content: \"\";position: absolute;border-left: 1px solid gray;box-sizing: border-box;top: 0;bottom: 0;left: 50%;z-index: 0;}#sk-container-id-23 div.sk-serial {display: flex;flex-direction: column;align-items: center;background-color: white;padding-right: 0.2em;padding-left: 0.2em;position: relative;}#sk-container-id-23 div.sk-item {position: relative;z-index: 1;}#sk-container-id-23 div.sk-parallel {display: flex;align-items: stretch;justify-content: center;background-color: white;position: relative;}#sk-container-id-23 div.sk-item::before, #sk-container-id-23 div.sk-parallel-item::before {content: \"\";position: absolute;border-left: 1px solid gray;box-sizing: border-box;top: 0;bottom: 0;left: 50%;z-index: -1;}#sk-container-id-23 div.sk-parallel-item {display: flex;flex-direction: column;z-index: 1;position: relative;background-color: white;}#sk-container-id-23 div.sk-parallel-item:first-child::after {align-self: flex-end;width: 50%;}#sk-container-id-23 div.sk-parallel-item:last-child::after {align-self: flex-start;width: 50%;}#sk-container-id-23 div.sk-parallel-item:only-child::after {width: 0;}#sk-container-id-23 div.sk-dashed-wrapped {border: 1px dashed gray;margin: 0 0.4em 0.5em 0.4em;box-sizing: border-box;padding-bottom: 0.4em;background-color: white;}#sk-container-id-23 div.sk-label label {font-family: monospace;font-weight: bold;display: inline-block;line-height: 1.2em;}#sk-container-id-23 div.sk-label-container {text-align: center;}#sk-container-id-23 div.sk-container {/* jupyter's `normalize.less` sets `[hidden] { display: none; }` but bootstrap.min.css set `[hidden] { display: none !important; }` so we also need the `!important` here to be able to override the default hidden behavior on the sphinx rendered scikit-learn.org. See: https://github.com/scikit-learn/scikit-learn/issues/21755 */display: inline-block !important;position: relative;}#sk-container-id-23 div.sk-text-repr-fallback {display: none;}</style><div id=\"sk-container-id-23\" class=\"sk-top-container\"><div class=\"sk-text-repr-fallback\"><pre>DecisionTreeClassifier(random_state=42)</pre><b>In a Jupyter environment, please rerun this cell to show the HTML representation or trust the notebook. <br />On GitHub, the HTML representation is unable to render, please try loading this page with nbviewer.org.</b></div><div class=\"sk-container\" hidden><div class=\"sk-item\"><div class=\"sk-estimator sk-toggleable\"><input class=\"sk-toggleable__control sk-hidden--visually\" id=\"sk-estimator-id-23\" type=\"checkbox\" checked><label for=\"sk-estimator-id-23\" class=\"sk-toggleable__label sk-toggleable__label-arrow\">DecisionTreeClassifier</label><div class=\"sk-toggleable__content\"><pre>DecisionTreeClassifier(random_state=42)</pre></div></div></div></div></div>"
      ],
      "text/plain": [
       "DecisionTreeClassifier(random_state=42)"
      ]
     },
     "execution_count": 361,
     "metadata": {},
     "output_type": "execute_result"
    }
   ],
   "source": [
    "tree = DecisionTreeClassifier(random_state=42)\n",
    "tree.fit(X_train_vec, y_train)"
   ]
  },
  {
   "cell_type": "code",
   "execution_count": 362,
   "id": "9dfba1db",
   "metadata": {},
   "outputs": [
    {
     "name": "stdout",
     "output_type": "stream",
     "text": [
      "Train Accuracy: 1.0\n",
      "Test Accuracy: 0.8680947012401353\n",
      "\n",
      " Classification Report:\n",
      "              precision    recall  f1-score   support\n",
      "\n",
      "           0       0.62      0.36      0.46       137\n",
      "           2       0.89      0.96      0.92       750\n",
      "\n",
      "    accuracy                           0.87       887\n",
      "   macro avg       0.76      0.66      0.69       887\n",
      "weighted avg       0.85      0.87      0.85       887\n",
      "\n"
     ]
    }
   ],
   "source": [
    "# Evaluation \n",
    "y_train_pred = tree.predict(X_train_vec)\n",
    "y_pred = tree.predict(X_test_vec)\n",
    "\n",
    "print(f\"Train Accuracy: {accuracy_score(y_train, y_train_pred)}\")\n",
    "print(f\"Test Accuracy: {accuracy_score(y_test, y_pred)}\")\n",
    "\n",
    "print(\"\\n Classification Report:\")\n",
    "print(classification_report(y_test, y_pred))"
   ]
  },
  {
   "cell_type": "markdown",
   "id": "84522748",
   "metadata": {},
   "source": [
    "The tree performs a bit better without accounting for class imbalance\n",
    "\n",
    "However the accuracies are not satisfactory so we'll try tuning to reduce overfitting"
   ]
  },
  {
   "cell_type": "code",
   "execution_count": 363,
   "id": "00abdc2f",
   "metadata": {},
   "outputs": [
    {
     "name": "stdout",
     "output_type": "stream",
     "text": [
      "Best Parameters: {'criterion': 'gini', 'max_depth': 10, 'min_samples_leaf': 1, 'min_samples_split': 10}\n",
      "\n",
      " Train Accuracy: 0.8726042841037204\n",
      "\n",
      " Test Accuracy: 0.8635851183765502\n"
     ]
    }
   ],
   "source": [
    "param_grid = {\n",
    "    'max_depth': [None, 3, 5, 10],\n",
    "    'min_samples_split': [2, 5, 10],\n",
    "    'min_samples_leaf': [1, 2],\n",
    "    'criterion': ['gini', 'entropy', 'log_loss']  \n",
    "}\n",
    "\n",
    "\n",
    "grid_search = GridSearchCV(\n",
    "    estimator=tree,\n",
    "    param_grid=param_grid,\n",
    "    cv=5,\n",
    "    n_jobs=-1,\n",
    "    scoring='accuracy'\n",
    ")\n",
    "\n",
    "\n",
    "grid_search.fit(X_train_vec, y_train)\n",
    "\n",
    "\n",
    "print(\"Best Parameters:\", grid_search.best_params_)\n",
    "\n",
    "best_tree = grid_search.best_estimator_\n",
    "\n",
    "y_train_pred = best_tree.predict(X_train_vec)\n",
    "y_pred = best_tree.predict(X_test_vec)\n",
    "\n",
    "print(f\"\\n Train Accuracy: {accuracy_score(y_train, y_train_pred)}\")\n",
    "print(f\"\\n Test Accuracy: {accuracy_score(y_test, y_pred)}\")"
   ]
  },
  {
   "cell_type": "markdown",
   "id": "a5463227",
   "metadata": {},
   "source": [
    "These are reasonable accuracies\n",
    "\n",
    "So far this tuned tree and logistic regression are the best models"
   ]
  },
  {
   "cell_type": "code",
   "execution_count": 364,
   "id": "994fb86c",
   "metadata": {},
   "outputs": [
    {
     "data": {
      "image/png": "[encoded data removed]",
      "text/plain": [
       "<Figure size 432x288 with 2 Axes>"
      ]
     },
     "metadata": {
      "needs_background": "light"
     },
     "output_type": "display_data"
    }
   ],
   "source": [
    "tree_matrix = confusion_matrix(y_test, y_pred)\n",
    "\n",
    "cm_display = metrics.ConfusionMatrixDisplay(confusion_matrix = tree_matrix, display_labels = [False, True])\n",
    "cm_display.plot()\n",
    "plt.show()"
   ]
  },
  {
   "cell_type": "markdown",
   "id": "886fecea",
   "metadata": {},
   "source": [
    "Tuning reduces overfitting. However there are many false positives\n",
    "\n",
    "Let's try another model"
   ]
  },
  {
   "cell_type": "code",
   "execution_count": 365,
   "id": "5482ecb3",
   "metadata": {},
   "outputs": [
    {
     "data": {
      "text/html": [
       "<style>#sk-container-id-24 {color: black;background-color: white;}#sk-container-id-24 pre{padding: 0;}#sk-container-id-24 div.sk-toggleable {background-color: white;}#sk-container-id-24 label.sk-toggleable__label {cursor: pointer;display: block;width: 100%;margin-bottom: 0;padding: 0.3em;box-sizing: border-box;text-align: center;}#sk-container-id-24 label.sk-toggleable__label-arrow:before {content: \"▸\";float: left;margin-right: 0.25em;color: #696969;}#sk-container-id-24 label.sk-toggleable__label-arrow:hover:before {color: black;}#sk-container-id-24 div.sk-estimator:hover label.sk-toggleable__label-arrow:before {color: black;}#sk-container-id-24 div.sk-toggleable__content {max-height: 0;max-width: 0;overflow: hidden;text-align: left;background-color: #f0f8ff;}#sk-container-id-24 div.sk-toggleable__content pre {margin: 0.2em;color: black;border-radius: 0.25em;background-color: #f0f8ff;}#sk-container-id-24 input.sk-toggleable__control:checked~div.sk-toggleable__content {max-height: 200px;max-width: 100%;overflow: auto;}#sk-container-id-24 input.sk-toggleable__control:checked~label.sk-toggleable__label-arrow:before {content: \"▾\";}#sk-container-id-24 div.sk-estimator input.sk-toggleable__control:checked~label.sk-toggleable__label {background-color: #d4ebff;}#sk-container-id-24 div.sk-label input.sk-toggleable__control:checked~label.sk-toggleable__label {background-color: #d4ebff;}#sk-container-id-24 input.sk-hidden--visually {border: 0;clip: rect(1px 1px 1px 1px);clip: rect(1px, 1px, 1px, 1px);height: 1px;margin: -1px;overflow: hidden;padding: 0;position: absolute;width: 1px;}#sk-container-id-24 div.sk-estimator {font-family: monospace;background-color: #f0f8ff;border: 1px dotted black;border-radius: 0.25em;box-sizing: border-box;margin-bottom: 0.5em;}#sk-container-id-24 div.sk-estimator:hover {background-color: #d4ebff;}#sk-container-id-24 div.sk-parallel-item::after {content: \"\";width: 100%;border-bottom: 1px solid gray;flex-grow: 1;}#sk-container-id-24 div.sk-label:hover label.sk-toggleable__label {background-color: #d4ebff;}#sk-container-id-24 div.sk-serial::before {content: \"\";position: absolute;border-left: 1px solid gray;box-sizing: border-box;top: 0;bottom: 0;left: 50%;z-index: 0;}#sk-container-id-24 div.sk-serial {display: flex;flex-direction: column;align-items: center;background-color: white;padding-right: 0.2em;padding-left: 0.2em;position: relative;}#sk-container-id-24 div.sk-item {position: relative;z-index: 1;}#sk-container-id-24 div.sk-parallel {display: flex;align-items: stretch;justify-content: center;background-color: white;position: relative;}#sk-container-id-24 div.sk-item::before, #sk-container-id-24 div.sk-parallel-item::before {content: \"\";position: absolute;border-left: 1px solid gray;box-sizing: border-box;top: 0;bottom: 0;left: 50%;z-index: -1;}#sk-container-id-24 div.sk-parallel-item {display: flex;flex-direction: column;z-index: 1;position: relative;background-color: white;}#sk-container-id-24 div.sk-parallel-item:first-child::after {align-self: flex-end;width: 50%;}#sk-container-id-24 div.sk-parallel-item:last-child::after {align-self: flex-start;width: 50%;}#sk-container-id-24 div.sk-parallel-item:only-child::after {width: 0;}#sk-container-id-24 div.sk-dashed-wrapped {border: 1px dashed gray;margin: 0 0.4em 0.5em 0.4em;box-sizing: border-box;padding-bottom: 0.4em;background-color: white;}#sk-container-id-24 div.sk-label label {font-family: monospace;font-weight: bold;display: inline-block;line-height: 1.2em;}#sk-container-id-24 div.sk-label-container {text-align: center;}#sk-container-id-24 div.sk-container {/* jupyter's `normalize.less` sets `[hidden] { display: none; }` but bootstrap.min.css set `[hidden] { display: none !important; }` so we also need the `!important` here to be able to override the default hidden behavior on the sphinx rendered scikit-learn.org. See: https://github.com/scikit-learn/scikit-learn/issues/21755 */display: inline-block !important;position: relative;}#sk-container-id-24 div.sk-text-repr-fallback {display: none;}</style><div id=\"sk-container-id-24\" class=\"sk-top-container\"><div class=\"sk-text-repr-fallback\"><pre>RandomForestClassifier(random_state=42)</pre><b>In a Jupyter environment, please rerun this cell to show the HTML representation or trust the notebook. <br />On GitHub, the HTML representation is unable to render, please try loading this page with nbviewer.org.</b></div><div class=\"sk-container\" hidden><div class=\"sk-item\"><div class=\"sk-estimator sk-toggleable\"><input class=\"sk-toggleable__control sk-hidden--visually\" id=\"sk-estimator-id-24\" type=\"checkbox\" checked><label for=\"sk-estimator-id-24\" class=\"sk-toggleable__label sk-toggleable__label-arrow\">RandomForestClassifier</label><div class=\"sk-toggleable__content\"><pre>RandomForestClassifier(random_state=42)</pre></div></div></div></div></div>"
      ],
      "text/plain": [
       "RandomForestClassifier(random_state=42)"
      ]
     },
     "execution_count": 365,
     "metadata": {},
     "output_type": "execute_result"
    }
   ],
   "source": [
    "forest = RandomForestClassifier(random_state=42)\n",
    "\n",
    "forest.fit(X_train_vec, y_train)"
   ]
  },
  {
   "cell_type": "code",
   "execution_count": 366,
   "id": "e3a810b2",
   "metadata": {},
   "outputs": [
    {
     "name": "stdout",
     "output_type": "stream",
     "text": [
      "Train Accuracy: 1.0\n",
      "Test Accuracy: 0.8804960541149943\n"
     ]
    }
   ],
   "source": [
    "y_train_pred = forest.predict(X_train_vec)\n",
    "y_pred = forest.predict(X_test_vec)\n",
    "\n",
    "print(f\"Train Accuracy: {accuracy_score(y_train, y_train_pred)}\")\n",
    "print(f\"Test Accuracy: {accuracy_score(y_test, y_pred)}\")"
   ]
  },
  {
   "cell_type": "markdown",
   "id": "f9befdaf",
   "metadata": {},
   "source": [
    "The random forest is overfitting the data \n",
    "\n",
    "Let's try tuning it"
   ]
  },
  {
   "cell_type": "code",
   "execution_count": 367,
   "id": "8edbd9e4",
   "metadata": {},
   "outputs": [
    {
     "name": "stdout",
     "output_type": "stream",
     "text": [
      "Best Parameters: {'criterion': 'gini', 'max_depth': None, 'max_features': 'sqrt', 'min_samples_leaf': 1, 'min_samples_split': 2, 'n_estimators': 100}\n",
      "\n",
      " Train Accuracy: 1.0\n",
      "Test Accuracy: 0.8804960541149943\n"
     ]
    }
   ],
   "source": [
    "param_grid = {\n",
    "    'n_estimators': [50, 100],         # Number of trees\n",
    "    'max_depth': [None, 5, 10],            # Depth of each tree\n",
    "    'min_samples_split': [2, 5],        # Min samples to split a node\n",
    "    'min_samples_leaf': [1, 2],          # Min samples at a leaf node\n",
    "    'criterion': ['gini', 'entropy', 'log_loss'],        # Splitting criteria\n",
    "    'max_features': ['sqrt', 'log2']\n",
    "}\n",
    "\n",
    "grid = GridSearchCV(\n",
    "    estimator=forest,\n",
    "    param_grid=param_grid,\n",
    "    cv=3,\n",
    "    n_jobs=-1,\n",
    "    scoring='accuracy'\n",
    ")\n",
    "\n",
    "grid.fit(X_train_vec, y_train)\n",
    "\n",
    "print(\"Best Parameters:\", grid.best_params_)\n",
    "\n",
    "best_rf = grid.best_estimator_\n",
    "\n",
    "y_train_pred = best_rf.predict(X_train_vec)\n",
    "y_pred = best_rf.predict(X_test_vec)\n",
    "\n",
    "print(f\"\\n Train Accuracy: {accuracy_score(y_train, y_train_pred)}\")\n",
    "print(f\"Test Accuracy: {accuracy_score(y_test, y_pred)}\")"
   ]
  },
  {
   "cell_type": "code",
   "execution_count": 368,
   "id": "912df410",
   "metadata": {},
   "outputs": [
    {
     "data": {
      "image/png": "[encoded data removed]",
      "text/plain": [
       "<Figure size 720x432 with 1 Axes>"
      ]
     },
     "metadata": {
      "needs_background": "light"
     },
     "output_type": "display_data"
    }
   ],
   "source": [
    "# Sample performance data\n",
    "models = ['Logistic Regression', 'Weighted Tree', 'Tuned Tree', 'Random Forest']\n",
    "train_accuracy = [0.97, 1.00, 0.87, 1.00]\n",
    "test_accuracy = [0.88, 0.79, 0.86, 0.88]\n",
    "\n",
    "# Create a DataFrame\n",
    "df = pd.DataFrame({\n",
    "    'Model': models,\n",
    "    'Train Accuracy': train_accuracy,\n",
    "    'Test Accuracy': test_accuracy\n",
    "})\n",
    "\n",
    "# Melt the DataFrame for seaborn\n",
    "df_melted = df.melt(id_vars='Model', var_name='Dataset', value_name='Accuracy')\n",
    "\n",
    "# Plot\n",
    "plt.figure(figsize=(10, 6))\n",
    "sns.barplot(data=df_melted, x='Model', y='Accuracy', hue='Dataset')\n",
    "plt.title('Model Performance Comparison')\n",
    "plt.ylim(0.75, 1.05)\n",
    "plt.xticks(rotation=15)\n",
    "plt.tight_layout()\n",
    "plt.show()"
   ]
  },
  {
   "cell_type": "code",
   "execution_count": 369,
   "id": "f01fff0b",
   "metadata": {},
   "outputs": [
    {
     "name": "stdout",
     "output_type": "stream",
     "text": [
      "Resampled class distribution: 2    2228\n",
      "0    2228\n",
      "Name: emotion_code, dtype: int64\n"
     ]
    }
   ],
   "source": [
    "from imblearn.over_sampling import SMOTE\n",
    "\n",
    "smote = SMOTE(random_state=42)\n",
    "\n",
    "X_train_resampled, y_train_resampled = smote.fit_resample(X_train_vec, y_train)\n",
    "\n",
    "print(\"Resampled class distribution:\", pd.Series(y_train_resampled).value_counts())"
   ]
  },
  {
   "cell_type": "code",
   "execution_count": 370,
   "id": "b6d52918",
   "metadata": {},
   "outputs": [
    {
     "name": "stdout",
     "output_type": "stream",
     "text": [
      "Train accuracy: 0.973967684021544\n",
      "Test accuracy: 0.8072153325817362\n"
     ]
    }
   ],
   "source": [
    "logreg.fit(X_train_resampled, y_train_resampled)\n",
    "\n",
    "y_pred = logreg.predict(X_test_vec)\n",
    "y_train_pred = logreg.predict(X_train_resampled)\n",
    "\n",
    "print(\"Train accuracy:\", accuracy_score(y_train_resampled, y_train_pred))\n",
    "print(\"Test accuracy:\", accuracy_score(y_test, y_pred))\n"
   ]
  },
  {
   "cell_type": "code",
   "execution_count": 371,
   "id": "9fedd9f7",
   "metadata": {},
   "outputs": [
    {
     "name": "stdout",
     "output_type": "stream",
     "text": [
      "\n",
      "Classification Report:\n",
      "               precision    recall  f1-score   support\n",
      "\n",
      "           0       0.42      0.64      0.50       137\n",
      "           2       0.93      0.84      0.88       750\n",
      "\n",
      "    accuracy                           0.81       887\n",
      "   macro avg       0.67      0.74      0.69       887\n",
      "weighted avg       0.85      0.81      0.82       887\n",
      "\n"
     ]
    }
   ],
   "source": [
    "print(\"\\nClassification Report:\\n\", classification_report(y_test, y_pred))"
   ]
  },
  {
   "cell_type": "markdown",
   "id": "f1f6a87a",
   "metadata": {},
   "source": [
    "After resampling the data, the logistic regression performs a bit better for the minority class\n",
    "\n",
    "The accuracies are however worse than the first logistic regression model\n",
    "\n",
    "Let's try our tuned tree on the resampled data"
   ]
  },
  {
   "cell_type": "code",
   "execution_count": 372,
   "id": "46f3c84f",
   "metadata": {},
   "outputs": [
    {
     "name": "stdout",
     "output_type": "stream",
     "text": [
      "Best Parameters: {'criterion': 'entropy', 'max_depth': None, 'min_samples_leaf': 1, 'min_samples_split': 10}\n",
      "\n",
      " Train Accuracy: 0.9755385996409336\n",
      "\n",
      " Test Accuracy: 0.7406989853438557\n",
      "\n",
      "Classification Report:\n",
      "              precision    recall  f1-score   support\n",
      "\n",
      "           0       0.30      0.51      0.38       137\n",
      "           2       0.90      0.78      0.84       750\n",
      "\n",
      "    accuracy                           0.74       887\n",
      "   macro avg       0.60      0.65      0.61       887\n",
      "weighted avg       0.81      0.74      0.77       887\n",
      "\n"
     ]
    }
   ],
   "source": [
    "param_grid = {\n",
    "    'max_depth': [None, 3, 5, 10],\n",
    "    'min_samples_split': [2, 5, 10],\n",
    "    'min_samples_leaf': [1, 2],\n",
    "    'criterion': ['gini', 'entropy', 'log_loss']  \n",
    "}\n",
    "\n",
    "\n",
    "grid_search = GridSearchCV(\n",
    "    estimator=tree,\n",
    "    param_grid=param_grid,\n",
    "    cv=5,\n",
    "    n_jobs=-1,\n",
    "    scoring='accuracy'\n",
    ")\n",
    "\n",
    "\n",
    "grid_search.fit(X_train_resampled, y_train_resampled)\n",
    "\n",
    "\n",
    "print(\"Best Parameters:\", grid_search.best_params_)\n",
    "\n",
    "best_tree = grid_search.best_estimator_\n",
    "\n",
    "y_train_pred = best_tree.predict(X_train_resampled)\n",
    "y_pred = best_tree.predict(X_test_vec)\n",
    "\n",
    "print(f\"\\n Train Accuracy: {accuracy_score(y_train_resampled, y_train_pred)}\")\n",
    "print(f\"\\n Test Accuracy: {accuracy_score(y_test, y_pred)}\")\n",
    "\n",
    "print(\"\\nClassification Report:\")\n",
    "print(classification_report(y_test, y_pred))"
   ]
  },
  {
   "cell_type": "markdown",
   "id": "477096da",
   "metadata": {},
   "source": [
    "The tuned tree now overfits the data hence the other tuned tree is better\n",
    "\n",
    "Let's try one final model, one which we haven't tried out so far; an xgboost classifier"
   ]
  },
  {
   "cell_type": "code",
   "execution_count": 373,
   "id": "59799045",
   "metadata": {},
   "outputs": [
    {
     "name": "stdout",
     "output_type": "stream",
     "text": [
      "\n",
      " Train Accuracy: 0.9499551166965888\n",
      "\n",
      " Test Accuracy: 0.8568207440811725\n",
      "\n",
      "Classification Report:\n",
      "              precision    recall  f1-score   support\n",
      "\n",
      "           0       0.60      0.22      0.32       137\n",
      "           2       0.87      0.97      0.92       750\n",
      "\n",
      "    accuracy                           0.86       887\n",
      "   macro avg       0.74      0.60      0.62       887\n",
      "weighted avg       0.83      0.86      0.83       887\n",
      "\n"
     ]
    }
   ],
   "source": [
    "xgb = XGBClassifier(random_state=42)\n",
    "xgb.fit(X_train_resampled, y_train_resampled)\n",
    "\n",
    "y_train_pred = xgb.predict(X_train_resampled)\n",
    "y_pred = xgb.predict(X_test_vec)\n",
    "\n",
    "print(f\"\\n Train Accuracy: {accuracy_score(y_train_resampled, y_train_pred)}\")\n",
    "print(f\"\\n Test Accuracy: {accuracy_score(y_test, y_pred)}\")\n",
    "\n",
    "print(\"\\nClassification Report:\")\n",
    "print(classification_report(y_test, y_pred))"
   ]
  },
  {
   "cell_type": "markdown",
   "id": "1f122437",
   "metadata": {},
   "source": [
    "The accuracies are good but may indicate slight overfitting because of the differences.\n",
    "It also does not perform well on the minority class"
   ]
  },
  {
   "cell_type": "markdown",
   "id": "45020b0b",
   "metadata": {},
   "source": []
  }
 ],
 "metadata": {
  "kernelspec": {
   "display_name": "learn-env",
   "language": "python",
   "name": "python3"
  },
  "language_info": {
   "codemirror_mode": {
    "name": "ipython",
    "version": 3
   },
   "file_extension": ".py",
   "mimetype": "text/x-python",
   "name": "python",
   "nbconvert_exporter": "python",
   "pygments_lexer": "ipython3",
   "version": "3.8.5"
  }
 },
 "nbformat": 4,
 "nbformat_minor": 5
}
