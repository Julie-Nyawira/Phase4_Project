{
 "cells": [
  {
   "cell_type": "markdown",
   "id": "27587f8f",
   "metadata": {},
   "source": [
    "# Twitter Sentiment Analysis\n",
    "\n",
    "## Authors: \n",
    "- David Mburu \n",
    "- Lyster Moogi\n",
    "- Julia Maina\n",
    "- Denzel Tero\n",
    "- Olin Wachira"
   ]
  },
  {
   "cell_type": "markdown",
   "id": "72554038",
   "metadata": {},
   "source": [
    "# Business Overview\n",
    "## Introduction\n",
    "In modern digital technology, Twitter has become a popular platform where users openly express their opinions about tech brands and products. Apple and Google, being two of the world’s most dominant technology companies, are frequently mentioned in tweets that contain praise, complaints, comparisons or neutral commentary. This project aims to build a sentiment analysis model that can automatically analyze tweets related to Apple and Google products, and classify them as positive, negative or neutral. The insights generated from this classification will help businesses better understand public opinion and improve decision making in areas such as marketing and product development.\n"
   ]
  },
  {
   "cell_type": "markdown",
   "id": "c641e1de",
   "metadata": {},
   "source": [
    "## Problem Statement\n",
    "With thousands of daily mentions, Apple and Google receive significant feedback from customers on Twitter. However, analyzing this data manually is both time-consuming and inefficient due to its unstructured nature. Tweets often include informal language, abbreviations, emojis, making them difficult to interpret using traditional rule-based sentiment methods. To solve this, we propose an NLP-driven solution that can automatically and accurately classify sentiments in tweets as positive, negative or neutral. This will empower stakeholders to monitor public perception in real-time, respond proactively to trends and make decisions rooted in customer sentiment.\n"
   ]
  },
  {
   "cell_type": "markdown",
   "id": "56da807e",
   "metadata": {},
   "source": [
    "## Objectives\n",
    "\n",
    "1. **Sentiment Analysis**: To classify tweets related to technology brands (Apple, Google, or none) into sentiment categories (Positive, Negative, Neutral) and understand public perception.\n",
    "\n",
    "2. **Brand Engagement Analysis**: To identify which brands receive more attention and emotional engagement on Twitter, and to compare sentiment distributions across brands.\n",
    "\n",
    "3. **Binary classification modeling** - To build, tune, and evaluate various machine learning models (Logistic Regression, Decision Trees, Random Forest to classify tweets as either positive or negative\n",
    "\n",
    "4. **Multiclass classification modeling** - To group the remaining emotion categories as 'neutral' then train models to further classify tweets as neutral"
   ]
  },
  {
   "cell_type": "markdown",
   "id": "c39f0b62",
   "metadata": {},
   "source": [
    "## Data Understanding\n",
    "This project uses a labeled dataset sourced from CrowdFlower via Data.world, containing 9093 tweets primarily focused on Apple and Google products. Each tweet has been manually annotated by human raters who classified each tweet’s sentiment and identified the brand or product targeted.\n",
    "Key columns in the dataset include:\n",
    "\n",
    "- tweet_text: the content of the Tweet\n",
    "- emotion_in_tweet_is_directed_at: identifies the targeted product or brand\n",
    "- is_there_an_emotion_directed_at_a_brand_or_product: indicating the sentiment toward the brand.\n",
    "\n"
   ]
  },
  {
   "cell_type": "markdown",
   "id": "3d4016d5",
   "metadata": {},
   "source": [
    "## Data Preparation\n",
    "The dataset was cleaned and preprocessed to prepare it for sentiment analysis. Duplicate tweets were removed to avoid redundancy. Missing values in the emotion_in_tweet_is_directed_at column were filled with ‘No Brand’, and the one record missing tweet_text was dropped. Text Preprocessing included:\n",
    "\n",
    "- Converting text to lowercase\n",
    "- Tokenization\n",
    "- Stopword Removal\n",
    "- Removal of URLs, hashtags and emojis\n",
    "- Lemmatization\n",
    "\n",
    "These steps ensured the tweet content was clean and standardized for model training."
   ]
  },
  {
   "cell_type": "markdown",
   "id": "b13f457f",
   "metadata": {},
   "source": [
    "## Modeling\n",
    "We used key Python libraries including NLTK, Pandas and Scikit learn.\n",
    "NLTK for tokenization, stopword removal and lemmatization.\n",
    "Pandas was used for data manipulation and handling missing values.\n",
    "Sklearn provided tools such as  CountVectorizer for text vectorization and was also used for building models and evaluating classification models\n",
    "\n",
    "The modeling process involved:\n",
    "1. **Binary Classification**:\n",
    "   - Logistic Regression\n",
    "   - Decision Trees\n",
    "   - Random Forest\n",
    "    - XGBoost\n",
    "2. **Multiclass Classification**:\n",
    "   - Multinomial Naive Bayes\n",
    "    - XGBoost"
   ]
  },
  {
   "cell_type": "markdown",
   "id": "b5090652",
   "metadata": {},
   "source": [
    "## Evaluation\n",
    "\n",
    "Accuracy, Precision, Recall, F1-Score, and Confusion Matrix were used to evaluate model performance. The models were trained on a training set and evaluated on a separate test set to ensure generalization.\n",
    "\n",
    "### Results\n",
    "#### Binary Classification Results\n",
    "The binary classification models were evaluated on their ability to classify tweets as either positive or negative sentiment. The results showed that:\n",
    "- **Logistic Regression** achieved an accuracy of 0.85, with a precision of 0.84 and recall of 0.86.\n",
    "- **Decision Trees** performed slightly worse with an accuracy of 0.82, precision of 0.81 and recall of 0.83.\n",
    "- **Random Forest** showed improved performance with an accuracy of 0.87, precision of 0.86 and recall of 0.88.\n",
    "- **XGBoost** achieved the highest accuracy of 0.88, with precision of 0.87 and recall of 0.89. \n",
    "\n",
    "### Multiclass Classification Results\n",
    "The multiclass classification models were evaluated on their ability to classify tweets into three sentiment categories: positive, negative, and neutral. The results were as follows:\n",
    "- **Multinomial Naive Bayes** achieved an accuracy of 0.78, with a precision of 0.76 and recall of 0.77.\n",
    "- **XGBoost** performed better with an accuracy of 0.80, precision of 0.79 and recall of 0.81.     \n",
    "\n",
    " \n",
    "### Challenges\n",
    "- **Class Imbalance**: The dataset had an imbalance in sentiment distribution, with more positive tweets than negative or neutral ones. This affected model performance, particularly in the multiclass classification.\n",
    "- **Overfitting**: Some models, especially Random Forest and XGBoost, showed signs of overfitting, where they performed well on training data but poorly on unseen test data.\n",
    "- **Complexity of Language**: Tweets often contained informal language, abbreviations, and emojis, which made sentiment classification challenging. The models struggled to capture the nuances of language used in tweets."
   ]
  },
  {
   "cell_type": "markdown",
   "id": "576027be",
   "metadata": {},
   "source": [
    "# Data loading and inspection "
   ]
  },
  {
   "cell_type": "code",
   "execution_count": 26,
   "id": "f0e0d1c9",
   "metadata": {},
   "outputs": [
    {
     "name": "stderr",
     "output_type": "stream",
     "text": [
      "[nltk_data] Downloading package punkt to\n",
      "[nltk_data]     C:\\Users\\Davey\\AppData\\Roaming\\nltk_data...\n",
      "[nltk_data]   Package punkt is already up-to-date!\n",
      "[nltk_data] Downloading package stopwords to\n",
      "[nltk_data]     C:\\Users\\Davey\\AppData\\Roaming\\nltk_data...\n",
      "[nltk_data]   Package stopwords is already up-to-date!\n",
      "[nltk_data] Downloading package wordnet to\n",
      "[nltk_data]     C:\\Users\\Davey\\AppData\\Roaming\\nltk_data...\n",
      "[nltk_data]   Package wordnet is already up-to-date!\n"
     ]
    }
   ],
   "source": [
    "#Importing the necessary libraries\n",
    "import re\n",
    "import pandas as pd\n",
    "import numpy as np\n",
    "import seaborn as sns\n",
    "import matplotlib.pyplot as plt\n",
    "%matplotlib inline\n",
    "import string\n",
    "import warnings\n",
    "warnings.filterwarnings(action='ignore', category=FutureWarning)\n",
    "\n",
    "import nltk\n",
    "nltk.download('punkt')\n",
    "nltk.download('stopwords')\n",
    "nltk.download('wordnet')\n",
    "from nltk.stem import WordNetLemmatizer\n",
    "from sklearn.preprocessing import LabelEncoder\n",
    "from nltk.tokenize import word_tokenize, sent_tokenize\n",
    "from nltk.corpus import stopwords\n",
    "from sklearn.feature_extraction.text import CountVectorizer, TfidfVectorizer\n",
    "from nltk import FreqDist\n",
    "\n",
    "#modelling libraries\n",
    "from sklearn.pipeline import Pipeline\n",
    "from sklearn.model_selection import GridSearchCV\n",
    "from sklearn.model_selection import train_test_split\n",
    "from sklearn.linear_model import LogisticRegression\n",
    "from sklearn.metrics import accuracy_score, classification_report, confusion_matrix\n",
    "from sklearn import metrics\n",
    "from sklearn.tree import DecisionTreeClassifier\n",
    "from sklearn.ensemble import RandomForestClassifier\n",
    "from sklearn.naive_bayes import MultinomialNB\n",
    "from xgboost import XGBClassifier\n",
    "\n",
    "#imbalance libraries \n",
    "from imblearn.over_sampling import RandomOverSampler\n",
    "from imblearn.under_sampling import RandomUnderSampler\n",
    "from sklearn.metrics import accuracy_score"
   ]
  },
  {
   "cell_type": "code",
   "execution_count": 27,
   "id": "4f47afa6",
   "metadata": {},
   "outputs": [],
   "source": [
    "# Import necessary classes from the init module\n",
    "from __init__ import Explore, Clean"
   ]
  },
  {
   "cell_type": "code",
   "execution_count": 28,
   "id": "1cc1fdf9",
   "metadata": {},
   "outputs": [
    {
     "data": {
      "text/html": [
       "<div>\n",
       "<style scoped>\n",
       "    .dataframe tbody tr th:only-of-type {\n",
       "        vertical-align: middle;\n",
       "    }\n",
       "\n",
       "    .dataframe tbody tr th {\n",
       "        vertical-align: top;\n",
       "    }\n",
       "\n",
       "    .dataframe thead th {\n",
       "        text-align: right;\n",
       "    }\n",
       "</style>\n",
       "<table border=\"1\" class=\"dataframe\">\n",
       "  <thead>\n",
       "    <tr style=\"text-align: right;\">\n",
       "      <th></th>\n",
       "      <th>tweet_text</th>\n",
       "      <th>emotion_in_tweet_is_directed_at</th>\n",
       "      <th>is_there_an_emotion_directed_at_a_brand_or_product</th>\n",
       "    </tr>\n",
       "  </thead>\n",
       "  <tbody>\n",
       "    <tr>\n",
       "      <th>0</th>\n",
       "      <td>.@wesley83 I have a 3G iPhone. After 3 hrs twe...</td>\n",
       "      <td>iPhone</td>\n",
       "      <td>Negative emotion</td>\n",
       "    </tr>\n",
       "    <tr>\n",
       "      <th>1</th>\n",
       "      <td>@jessedee Know about @fludapp ? Awesome iPad/i...</td>\n",
       "      <td>iPad or iPhone App</td>\n",
       "      <td>Positive emotion</td>\n",
       "    </tr>\n",
       "    <tr>\n",
       "      <th>2</th>\n",
       "      <td>@swonderlin Can not wait for #iPad 2 also. The...</td>\n",
       "      <td>iPad</td>\n",
       "      <td>Positive emotion</td>\n",
       "    </tr>\n",
       "    <tr>\n",
       "      <th>3</th>\n",
       "      <td>@sxsw I hope this year's festival isn't as cra...</td>\n",
       "      <td>iPad or iPhone App</td>\n",
       "      <td>Negative emotion</td>\n",
       "    </tr>\n",
       "    <tr>\n",
       "      <th>4</th>\n",
       "      <td>@sxtxstate great stuff on Fri #SXSW: Marissa M...</td>\n",
       "      <td>Google</td>\n",
       "      <td>Positive emotion</td>\n",
       "    </tr>\n",
       "  </tbody>\n",
       "</table>\n",
       "</div>"
      ],
      "text/plain": [
       "                                          tweet_text  \\\n",
       "0  .@wesley83 I have a 3G iPhone. After 3 hrs twe...   \n",
       "1  @jessedee Know about @fludapp ? Awesome iPad/i...   \n",
       "2  @swonderlin Can not wait for #iPad 2 also. The...   \n",
       "3  @sxsw I hope this year's festival isn't as cra...   \n",
       "4  @sxtxstate great stuff on Fri #SXSW: Marissa M...   \n",
       "\n",
       "  emotion_in_tweet_is_directed_at  \\\n",
       "0                          iPhone   \n",
       "1              iPad or iPhone App   \n",
       "2                            iPad   \n",
       "3              iPad or iPhone App   \n",
       "4                          Google   \n",
       "\n",
       "  is_there_an_emotion_directed_at_a_brand_or_product  \n",
       "0                                   Negative emotion  \n",
       "1                                   Positive emotion  \n",
       "2                                   Positive emotion  \n",
       "3                                   Negative emotion  \n",
       "4                                   Positive emotion  "
      ]
     },
     "execution_count": 28,
     "metadata": {},
     "output_type": "execute_result"
    }
   ],
   "source": [
    "#load the data and print first five rows to ensure it loaded correctly\n",
    "data = pd.read_csv('data.csv', encoding='ISO-8859-1')\n",
    "data.head()"
   ]
  },
  {
   "cell_type": "code",
   "execution_count": 29,
   "id": "c93c5963",
   "metadata": {},
   "outputs": [],
   "source": [
    "#create instance of explore class\n",
    "explore_df = Explore(data)"
   ]
  },
  {
   "cell_type": "code",
   "execution_count": 30,
   "id": "0dfd314b",
   "metadata": {},
   "outputs": [
    {
     "name": "stdout",
     "output_type": "stream",
     "text": [
      "----------------Shape of the Dataset---------------- \n",
      "\n",
      "(9093, 3)\n"
     ]
    }
   ],
   "source": [
    "# Check the shape of the data\n",
    "explore_df.shape()"
   ]
  },
  {
   "cell_type": "code",
   "execution_count": 31,
   "id": "bdc14320",
   "metadata": {},
   "outputs": [
    {
     "name": "stdout",
     "output_type": "stream",
     "text": [
      "----------------Features in the Dataset---------------- \n",
      "\n",
      "Index(['tweet_text', 'emotion_in_tweet_is_directed_at',\n",
      "       'is_there_an_emotion_directed_at_a_brand_or_product'],\n",
      "      dtype='object')\n"
     ]
    }
   ],
   "source": [
    "#Check the columns of the data\n",
    "explore_df.features()"
   ]
  },
  {
   "cell_type": "code",
   "execution_count": 32,
   "id": "bb6af041",
   "metadata": {},
   "outputs": [
    {
     "name": "stdout",
     "output_type": "stream",
     "text": [
      "----------------Summary Statistics of the Features---------------- \n",
      "\n",
      "                                               tweet_text  \\\n",
      "count                                                9092   \n",
      "unique                                               9065   \n",
      "top     RT @mention Marissa Mayer: Google Will Connect...   \n",
      "freq                                                    5   \n",
      "\n",
      "       emotion_in_tweet_is_directed_at  \\\n",
      "count                             3291   \n",
      "unique                               9   \n",
      "top                               iPad   \n",
      "freq                               946   \n",
      "\n",
      "       is_there_an_emotion_directed_at_a_brand_or_product  \n",
      "count                                                9093  \n",
      "unique                                                  4  \n",
      "top                    No emotion toward brand or product  \n",
      "freq                                                 5389  \n"
     ]
    }
   ],
   "source": [
    "#Check the summary statistics of the data\n",
    "explore_df.stats()"
   ]
  },
  {
   "cell_type": "code",
   "execution_count": 33,
   "id": "9b0fef2c",
   "metadata": {},
   "outputs": [
    {
     "name": "stdout",
     "output_type": "stream",
     "text": [
      "----------------Dataset Overall Information---------------- \n",
      "\n",
      "<class 'pandas.core.frame.DataFrame'>\n",
      "RangeIndex: 9093 entries, 0 to 9092\n",
      "Data columns (total 3 columns):\n",
      " #   Column                                              Non-Null Count  Dtype \n",
      "---  ------                                              --------------  ----- \n",
      " 0   tweet_text                                          9092 non-null   object\n",
      " 1   emotion_in_tweet_is_directed_at                     3291 non-null   object\n",
      " 2   is_there_an_emotion_directed_at_a_brand_or_product  9093 non-null   object\n",
      "dtypes: object(3)\n",
      "memory usage: 213.2+ KB\n",
      "None\n"
     ]
    }
   ],
   "source": [
    "#Check the basic information of the data\n",
    "explore_df.info()"
   ]
  },
  {
   "cell_type": "code",
   "execution_count": 34,
   "id": "edff9264",
   "metadata": {},
   "outputs": [
    {
     "data": {
      "text/html": [
       "<div>\n",
       "<style scoped>\n",
       "    .dataframe tbody tr th:only-of-type {\n",
       "        vertical-align: middle;\n",
       "    }\n",
       "\n",
       "    .dataframe tbody tr th {\n",
       "        vertical-align: top;\n",
       "    }\n",
       "\n",
       "    .dataframe thead th {\n",
       "        text-align: right;\n",
       "    }\n",
       "</style>\n",
       "<table border=\"1\" class=\"dataframe\">\n",
       "  <thead>\n",
       "    <tr style=\"text-align: right;\">\n",
       "      <th></th>\n",
       "      <th>tweet_text</th>\n",
       "      <th>recipient</th>\n",
       "      <th>emotion</th>\n",
       "    </tr>\n",
       "  </thead>\n",
       "  <tbody>\n",
       "    <tr>\n",
       "      <th>0</th>\n",
       "      <td>.@wesley83 I have a 3G iPhone. After 3 hrs twe...</td>\n",
       "      <td>iPhone</td>\n",
       "      <td>Negative emotion</td>\n",
       "    </tr>\n",
       "    <tr>\n",
       "      <th>1</th>\n",
       "      <td>@jessedee Know about @fludapp ? Awesome iPad/i...</td>\n",
       "      <td>iPad or iPhone App</td>\n",
       "      <td>Positive emotion</td>\n",
       "    </tr>\n",
       "    <tr>\n",
       "      <th>2</th>\n",
       "      <td>@swonderlin Can not wait for #iPad 2 also. The...</td>\n",
       "      <td>iPad</td>\n",
       "      <td>Positive emotion</td>\n",
       "    </tr>\n",
       "    <tr>\n",
       "      <th>3</th>\n",
       "      <td>@sxsw I hope this year's festival isn't as cra...</td>\n",
       "      <td>iPad or iPhone App</td>\n",
       "      <td>Negative emotion</td>\n",
       "    </tr>\n",
       "    <tr>\n",
       "      <th>4</th>\n",
       "      <td>@sxtxstate great stuff on Fri #SXSW: Marissa M...</td>\n",
       "      <td>Google</td>\n",
       "      <td>Positive emotion</td>\n",
       "    </tr>\n",
       "  </tbody>\n",
       "</table>\n",
       "</div>"
      ],
      "text/plain": [
       "                                          tweet_text           recipient  \\\n",
       "0  .@wesley83 I have a 3G iPhone. After 3 hrs twe...              iPhone   \n",
       "1  @jessedee Know about @fludapp ? Awesome iPad/i...  iPad or iPhone App   \n",
       "2  @swonderlin Can not wait for #iPad 2 also. The...                iPad   \n",
       "3  @sxsw I hope this year's festival isn't as cra...  iPad or iPhone App   \n",
       "4  @sxtxstate great stuff on Fri #SXSW: Marissa M...              Google   \n",
       "\n",
       "            emotion  \n",
       "0  Negative emotion  \n",
       "1  Positive emotion  \n",
       "2  Positive emotion  \n",
       "3  Negative emotion  \n",
       "4  Positive emotion  "
      ]
     },
     "execution_count": 34,
     "metadata": {},
     "output_type": "execute_result"
    }
   ],
   "source": [
    "#Renaming the columns\n",
    "def rename_columns(df):\n",
    "    df.columns=['tweet_text',  'recipient', 'emotion']\n",
    "    return df\n",
    "data = rename_columns(data)\n",
    "data.head()"
   ]
  },
  {
   "cell_type": "code",
   "execution_count": 35,
   "id": "3edb7fd9",
   "metadata": {},
   "outputs": [
    {
     "name": "stdout",
     "output_type": "stream",
     "text": [
      "\n",
      " Duplicated Rows:\n",
      "\n",
      "- Total duplicated rows: 22 \n",
      " \n",
      "\n"
     ]
    },
    {
     "data": {
      "text/html": [
       "<div>\n",
       "<style scoped>\n",
       "    .dataframe tbody tr th:only-of-type {\n",
       "        vertical-align: middle;\n",
       "    }\n",
       "\n",
       "    .dataframe tbody tr th {\n",
       "        vertical-align: top;\n",
       "    }\n",
       "\n",
       "    .dataframe thead th {\n",
       "        text-align: right;\n",
       "    }\n",
       "</style>\n",
       "<table border=\"1\" class=\"dataframe\">\n",
       "  <thead>\n",
       "    <tr style=\"text-align: right;\">\n",
       "      <th></th>\n",
       "      <th>Missing Values</th>\n",
       "      <th>Percentage(%)</th>\n",
       "    </tr>\n",
       "  </thead>\n",
       "  <tbody>\n",
       "    <tr>\n",
       "      <th>recipient</th>\n",
       "      <td>5802</td>\n",
       "      <td>63.807324</td>\n",
       "    </tr>\n",
       "    <tr>\n",
       "      <th>tweet_text</th>\n",
       "      <td>1</td>\n",
       "      <td>0.010997</td>\n",
       "    </tr>\n",
       "    <tr>\n",
       "      <th>emotion</th>\n",
       "      <td>0</td>\n",
       "      <td>0.000000</td>\n",
       "    </tr>\n",
       "  </tbody>\n",
       "</table>\n",
       "</div>"
      ],
      "text/plain": [
       "            Missing Values  Percentage(%)\n",
       "recipient             5802      63.807324\n",
       "tweet_text               1       0.010997\n",
       "emotion                  0       0.000000"
      ]
     },
     "execution_count": 35,
     "metadata": {},
     "output_type": "execute_result"
    }
   ],
   "source": [
    "# Initialize the cleaning class and call the method for displaying missing values\n",
    "clean_df = Clean(data)\n",
    "clean_df.missing_duplicated()\n"
   ]
  },
  {
   "cell_type": "code",
   "execution_count": 36,
   "id": "d4f742c8",
   "metadata": {},
   "outputs": [
    {
     "data": {
      "text/plain": [
       "tweet_text       0\n",
       "recipient     5801\n",
       "emotion          0\n",
       "dtype: int64"
      ]
     },
     "execution_count": 36,
     "metadata": {},
     "output_type": "execute_result"
    }
   ],
   "source": [
    "# Drop the missing record in the tweet_text column\n",
    "data.dropna(subset=['tweet_text'], inplace=True)\n",
    "#Check to ensure the missing record is dropped\n",
    "data.isnull().sum()"
   ]
  },
  {
   "cell_type": "code",
   "execution_count": null,
   "id": "d1d85a6f",
   "metadata": {},
   "outputs": [
    {
     "data": {
      "text/plain": [
       "No brand                           5801\n",
       "iPad                                946\n",
       "Apple                               661\n",
       "iPad or iPhone App                  470\n",
       "Google                              430\n",
       "iPhone                              297\n",
       "Other Google product or service     293\n",
       "Android App                          81\n",
       "Android                              78\n",
       "Other Apple product or service       35\n",
       "Name: recipient, dtype: int64"
      ]
     },
     "execution_count": 37,
     "metadata": {},
     "output_type": "execute_result"
    }
   ],
   "source": [
    "# Fill missing values in the 'recipient' column with 'No brand'\n",
    "data['recipient'].fillna('No brand', inplace=True)\n",
    "data['recipient'].value_counts()"
   ]
  },
  {
   "cell_type": "code",
   "execution_count": 38,
   "id": "d359c18c",
   "metadata": {},
   "outputs": [
    {
     "data": {
      "text/plain": [
       "'The dataset now has 0 duplicate rows'"
      ]
     },
     "execution_count": 38,
     "metadata": {},
     "output_type": "execute_result"
    }
   ],
   "source": [
    "#Drop the duplicate rows\n",
    "clean_df.remove_duplicated_rows()"
   ]
  },
  {
   "cell_type": "markdown",
   "id": "5c84d888",
   "metadata": {},
   "source": [
    "\n",
    "\n",
    "We'll clean and standardize the `emotion` column by simplifying the labels. Specifically, we will:\n",
    "\n",
    "* Convert `'Positive Emotion'` to `'Positive'`\n",
    "* Convert `'Negative Emotion'` to `'Negative'`\n",
    "* Group both `'No emotion toward brand or product'` and `'I can't tell'` under `'Neutral'`\n",
    "\n",
    "This transformation ensures a more consistent and streamlined set of sentiment categories, making the data better suited for sentiment analysis and model training.\n"
   ]
  },
  {
   "cell_type": "code",
   "execution_count": 39,
   "id": "132a78b0",
   "metadata": {},
   "outputs": [
    {
     "data": {
      "text/html": [
       "<div>\n",
       "<style scoped>\n",
       "    .dataframe tbody tr th:only-of-type {\n",
       "        vertical-align: middle;\n",
       "    }\n",
       "\n",
       "    .dataframe tbody tr th {\n",
       "        vertical-align: top;\n",
       "    }\n",
       "\n",
       "    .dataframe thead th {\n",
       "        text-align: right;\n",
       "    }\n",
       "</style>\n",
       "<table border=\"1\" class=\"dataframe\">\n",
       "  <thead>\n",
       "    <tr style=\"text-align: right;\">\n",
       "      <th></th>\n",
       "      <th>tweet_text</th>\n",
       "      <th>recipient</th>\n",
       "      <th>emotion</th>\n",
       "    </tr>\n",
       "  </thead>\n",
       "  <tbody>\n",
       "    <tr>\n",
       "      <th>0</th>\n",
       "      <td>.@wesley83 I have a 3G iPhone. After 3 hrs twe...</td>\n",
       "      <td>iPhone</td>\n",
       "      <td>Negative</td>\n",
       "    </tr>\n",
       "    <tr>\n",
       "      <th>1</th>\n",
       "      <td>@jessedee Know about @fludapp ? Awesome iPad/i...</td>\n",
       "      <td>iPad or iPhone App</td>\n",
       "      <td>Positive</td>\n",
       "    </tr>\n",
       "    <tr>\n",
       "      <th>2</th>\n",
       "      <td>@swonderlin Can not wait for #iPad 2 also. The...</td>\n",
       "      <td>iPad</td>\n",
       "      <td>Positive</td>\n",
       "    </tr>\n",
       "    <tr>\n",
       "      <th>3</th>\n",
       "      <td>@sxsw I hope this year's festival isn't as cra...</td>\n",
       "      <td>iPad or iPhone App</td>\n",
       "      <td>Negative</td>\n",
       "    </tr>\n",
       "    <tr>\n",
       "      <th>4</th>\n",
       "      <td>@sxtxstate great stuff on Fri #SXSW: Marissa M...</td>\n",
       "      <td>Google</td>\n",
       "      <td>Positive</td>\n",
       "    </tr>\n",
       "  </tbody>\n",
       "</table>\n",
       "</div>"
      ],
      "text/plain": [
       "                                          tweet_text           recipient  \\\n",
       "0  .@wesley83 I have a 3G iPhone. After 3 hrs twe...              iPhone   \n",
       "1  @jessedee Know about @fludapp ? Awesome iPad/i...  iPad or iPhone App   \n",
       "2  @swonderlin Can not wait for #iPad 2 also. The...                iPad   \n",
       "3  @sxsw I hope this year's festival isn't as cra...  iPad or iPhone App   \n",
       "4  @sxtxstate great stuff on Fri #SXSW: Marissa M...              Google   \n",
       "\n",
       "    emotion  \n",
       "0  Negative  \n",
       "1  Positive  \n",
       "2  Positive  \n",
       "3  Negative  \n",
       "4  Positive  "
      ]
     },
     "execution_count": 39,
     "metadata": {},
     "output_type": "execute_result"
    }
   ],
   "source": [
    "\n",
    "# Change emotions to 'Positive', 'Negative', and 'Neutral'\n",
    "data.loc[data['emotion'] == 'No emotion toward brand or product', 'emotion'] = 'Neutral'\n",
    "data.loc[data['emotion'] == 'Positive emotion', 'emotion'] = 'Positive'\n",
    "data.loc[data['emotion'] == 'Negative emotion', 'emotion'] = 'Negative'\n",
    "data.loc[data['emotion'] == \"I can't tell\", 'emotion'] = 'Neutral'\n",
    "\n",
    "data.head()"
   ]
  },
  {
   "cell_type": "markdown",
   "id": "29b891d1",
   "metadata": {},
   "source": [
    "### Feature engineering "
   ]
  },
  {
   "cell_type": "markdown",
   "id": "9ac8f74b",
   "metadata": {},
   "source": [
    "In this section, we create a new column called brand by mapping the values in the recipient column to either 'Apple', 'Google', or 'none', depending on the product or service mentioned. This mapping helps consolidate multiple product references under a single parent brand, making brand-level analysis clearer and more manageable. After creating the brand column, we use value_counts() to inspect the distribution of tweets across the different brands."
   ]
  },
  {
   "cell_type": "code",
   "execution_count": 40,
   "id": "b000e1db",
   "metadata": {},
   "outputs": [
    {
     "data": {
      "text/plain": [
       "none      5788\n",
       "Apple     2404\n",
       "Google     585\n",
       "Name: brand, dtype: int64"
      ]
     },
     "execution_count": 40,
     "metadata": {},
     "output_type": "execute_result"
    }
   ],
   "source": [
    "data['brand'] = data['recipient'].map({'Other Apple product or service': 'Apple', \n",
    "                                           'Android': 'Google',\n",
    "                                           'Android App': 'Google',\n",
    "                                           'Other Google product or service ': 'Google',\n",
    "                                           'iPhone': 'Apple', \n",
    "                                           'Google':'Google',\n",
    "                                           'iPad or iPhone App': 'Apple',\n",
    "                                           'Apple':'Apple',\n",
    "                                           'iPad':'Apple',\n",
    "                                           'No brand': 'none'})\n",
    "\n",
    "data['brand'].value_counts()"
   ]
  },
  {
   "cell_type": "markdown",
   "id": "42cd8d2c",
   "metadata": {},
   "source": [
    "# Exploratory data analysis (EDA)\n",
    "\n",
    "#### Univariate analysis"
   ]
  },
  {
   "cell_type": "markdown",
   "id": "a283ad49",
   "metadata": {},
   "source": [
    "This section performs univariate analysis to explore the distribution of key variables individually. We examine the sentiment distribution, tweet share by brand, and tweet length to understand overall patterns in the data, detect class imbalance, and observe user engagement through tweet lengths."
   ]
  },
  {
   "cell_type": "markdown",
   "id": "e8988ed0",
   "metadata": {},
   "source": [
    "##### 1. Bar Chart: Distribution of Sentiments."
   ]
  },
  {
   "cell_type": "code",
   "execution_count": 41,
   "id": "66bd57d3",
   "metadata": {},
   "outputs": [
    {
     "data": {
      "image/png": "[encoded data removed]",
      "text/plain": [
       "<Figure size 720x576 with 1 Axes>"
      ]
     },
     "metadata": {
      "needs_background": "light"
     },
     "output_type": "display_data"
    },
    {
     "name": "stdout",
     "output_type": "stream",
     "text": [
      "Neutral     60.981257\n",
      "Positive    32.745314\n",
      "Negative     6.273429\n",
      "Name: emotion, dtype: float64\n"
     ]
    }
   ],
   "source": [
    "\n",
    "#Count plot of the 'emotion' column\n",
    "plt.figure(figsize=(10, 8))\n",
    "sns.countplot(x='emotion', data=data, palette='colorblind')\n",
    "plt.title('Emotion Distribution Count', fontsize=16)\n",
    "plt.xlabel('emotion', fontsize=12)\n",
    "plt.ylabel('Count', fontsize=12)\n",
    "plt.xticks(rotation=45)  \n",
    "plt.tight_layout()\n",
    "plt.show()\n",
    "\n",
    "#checking the distribution of sentiments\n",
    "percentage = data['emotion'].value_counts(normalize=True)\n",
    "print(percentage * 100)\n"
   ]
  },
  {
   "cell_type": "markdown",
   "id": "5163e8fd",
   "metadata": {},
   "source": [
    "*Observations*\n",
    "- Neutral sentiment dominates the dataset, accounting for approximately 61% of the tweets.\n",
    "\n",
    "- Positive emotions make up around 33%, showing a good level of favorable sentiment.\n",
    "\n",
    "- Negative sentiments are relatively few at just 6%, suggesting less dissatisfaction overall."
   ]
  },
  {
   "cell_type": "markdown",
   "id": "cb9439b0",
   "metadata": {},
   "source": [
    "##### 2. Pie Chart: Tweet Share by Brand"
   ]
  },
  {
   "cell_type": "code",
   "execution_count": 42,
   "id": "8f179361",
   "metadata": {},
   "outputs": [
    {
     "name": "stdout",
     "output_type": "stream",
     "text": [
      "none      65.945084\n",
      "Apple     27.389769\n",
      "Google     6.665148\n",
      "Name: brand, dtype: float64\n"
     ]
    },
    {
     "data": {
      "image/png": "[encoded data removed]",
      "text/plain": [
       "<Figure size 720x432 with 1 Axes>"
      ]
     },
     "metadata": {},
     "output_type": "display_data"
    }
   ],
   "source": [
    "#pie chart to visualize Tweet share by brand\n",
    "brand_share = data['brand'].value_counts(normalize=True)\n",
    "print(brand_share * 100)\n",
    "\n",
    "#Visualizing using pie chart\n",
    "plt.figure(figsize=(10, 6))\n",
    "plt.pie(brand_share.values, autopct='%1.1f%%', pctdistance=1.1, startangle=90, colors=sns.color_palette('muted'), wedgeprops={'width': 0.6})\n",
    "plt.title('Tweet share by brand')\n",
    "plt.axis('equal')\n",
    "plt.legend(labels=brand_share.index, loc='upper left', bbox_to_anchor=(1, 1))\n",
    "plt.show()\n"
   ]
  },
  {
   "cell_type": "markdown",
   "id": "57817021",
   "metadata": {},
   "source": [
    "From the pie chart, we observe that the majority of tweets (approximately 66%) are not directed toward any specific brand, indicating a large portion of neutral or brand-unspecified discussions. Apple-related tweets make up around 27%, while Google-related tweets account for only about 7%, suggesting that Apple generates significantly more user engagement on Twitter compared to Google in this dataset."
   ]
  },
  {
   "cell_type": "markdown",
   "id": "ea6225c4",
   "metadata": {},
   "source": [
    "##### 3. Histogram: Tweet Length Distribution"
   ]
  },
  {
   "cell_type": "code",
   "execution_count": 43,
   "id": "682f548e",
   "metadata": {},
   "outputs": [
    {
     "data": {
      "image/png": "[encoded data removed]",
      "text/plain": [
       "<Figure size 720x432 with 1 Axes>"
      ]
     },
     "metadata": {
      "needs_background": "light"
     },
     "output_type": "display_data"
    }
   ],
   "source": [
    "# Count number of words in each tweet (not characters)\n",
    "data['tweet_length'] = data['tweet_text'].apply(lambda x: len(str(x).split()))\n",
    "plt.figure(figsize=(10, 6))\n",
    "sns.histplot(data['tweet_length'], bins=20, kde=True)\n",
    "plt.title('Tweet Length Distribution (Words)')\n",
    "plt.xlabel('Number of Words')\n",
    "plt.ylabel('Number of Tweets')\n",
    "plt.show()"
   ]
  },
  {
   "cell_type": "markdown",
   "id": "c178f9ec",
   "metadata": {},
   "source": [
    "*Observations*\n",
    "- Most Tweets Are Between 15–22 Words Long\n",
    "- Tweet Length Follows a Bell-Shaped Curve. The histogram is roughly symmetrical, showing that tweet lengths are fairly consistent across the dataset with a few shorter and longer tweets on either side of the average.\n",
    "- Distribution Shows a Slight Right Skew. There are slightly more longer tweets (25–30 words) than very short ones, suggesting a small rightward skew."
   ]
  },
  {
   "cell_type": "markdown",
   "id": "cfbea7f4",
   "metadata": {},
   "source": [
    "### Bivariate analysis"
   ]
  },
  {
   "cell_type": "markdown",
   "id": "569f7047",
   "metadata": {},
   "source": [
    "In the bivariate analysis section, we explore relationships between two variables. First, we use a boxplot to examine how tweet length varies across different emotions, helping us identify whether emotional tweets tend to be longer or shorter. Next, a stacked bar chart which shows how tweet sentiments (positive, negative, neutral) are distributed across different brands, giving insight into which brand receives more emotional engagement and the nature of that sentiment."
   ]
  },
  {
   "cell_type": "markdown",
   "id": "1ee5d0b5",
   "metadata": {},
   "source": [
    "#### 1. Tweet Length vs Emotion"
   ]
  },
  {
   "cell_type": "code",
   "execution_count": 44,
   "id": "1a3b056a",
   "metadata": {},
   "outputs": [
    {
     "data": {
      "image/png": "[encoded data removed]",
      "text/plain": [
       "<Figure size 432x288 with 1 Axes>"
      ]
     },
     "metadata": {
      "needs_background": "light"
     },
     "output_type": "display_data"
    }
   ],
   "source": [
    "plt.figure(figsize=(6,4))\n",
    "sns.boxplot(data=data, x='emotion', y='tweet_length', palette='colorblind')\n",
    "plt.title('Tweet Length by Emotion')\n",
    "plt.xlabel('Emotion')\n",
    "plt.ylabel('Tweet Length (Words)')\n",
    "plt.show()\n"
   ]
  },
  {
   "cell_type": "markdown",
   "id": "7b70bb2e",
   "metadata": {},
   "source": [
    "*Observations*\n",
    "- Median tweet length is similar across all sentiment categories.\n",
    "- The Neutral category shows a wider spread of tweet lengths, suggesting that people express neutral thoughts in both very short and long formats.\n",
    "- Positive tweets have a moderate spread with fewer extreme outliers."
   ]
  },
  {
   "cell_type": "markdown",
   "id": "59564349",
   "metadata": {},
   "source": [
    "#### 2. Tweet Emotion Distribution by Brand"
   ]
  },
  {
   "cell_type": "code",
   "execution_count": 45,
   "id": "9cfa1a21",
   "metadata": {},
   "outputs": [
    {
     "data": {
      "image/png": "[encoded data removed]",
      "text/plain": [
       "<Figure size 1512x504 with 1 Axes>"
      ]
     },
     "metadata": {
      "needs_background": "light"
     },
     "output_type": "display_data"
    }
   ],
   "source": [
    "\n",
    "#Which brand is getting more positive or negative tweets?\n",
    "brands = data.groupby(['brand','emotion']).size().reset_index(name='count')\n",
    "\n",
    "#Calculate the ascending order of brands based on tweet count\n",
    "ascending_order = brands.groupby('brand')['count'].sum().sort_values().index\n",
    "\n",
    "plt.figure(figsize=(21,7))\n",
    "sns.barplot(x='brand', y='count', hue='emotion', data=brands, palette='pastel', order=ascending_order)\n",
    "plt.xlabel('brand')\n",
    "plt.ylabel('Count')\n",
    "plt.title('Tweet Emotion Distribution by Brand')\n",
    "plt.show()"
   ]
  },
  {
   "cell_type": "markdown",
   "id": "848f0667",
   "metadata": {},
   "source": [
    "*Interpretation*\n",
    "\n",
    "From the graph above Apple had the highest positive emotions compared to Google"
   ]
  },
  {
   "cell_type": "markdown",
   "id": "a26f286f",
   "metadata": {},
   "source": [
    "#### Brand vs Emotion"
   ]
  },
  {
   "cell_type": "code",
   "execution_count": 46,
   "id": "6a908c1a",
   "metadata": {},
   "outputs": [
    {
     "data": {
      "image/png": "[encoded data removed]",
      "text/plain": [
       "<Figure size 720x576 with 1 Axes>"
      ]
     },
     "metadata": {
      "needs_background": "light"
     },
     "output_type": "display_data"
    }
   ],
   "source": [
    "\n",
    "brand_vs_emotion = pd.crosstab(data['brand'], data['emotion'], normalize='index')\n",
    "brand_vs_emotion.plot(kind='bar', stacked=True, colormap='Pastel2', figsize=(10,8))\n",
    "plt.title(\"Stacked barchart of  Emotion by Brand\")\n",
    "plt.ylabel(\"Proportion\")\n",
    "plt.xlabel(\"Brand\")\n",
    "plt.legend(title='Emotion by brand')\n",
    "plt.xticks(rotation=45)\n",
    "plt.show()"
   ]
  },
  {
   "cell_type": "markdown",
   "id": "65ca2ae4",
   "metadata": {},
   "source": [
    "*Observations*\n",
    "- Apple and Google Receive Mostly Positive Sentiment\n",
    "- Apple Has Slightly More Negative Sentiment Than Google\n",
    "- When no specific brand is mentioned, tweets are mostly neutral, with very little emotion expressed.\n",
    "- Very Few Positive Tweets in the none category."
   ]
  },
  {
   "cell_type": "markdown",
   "id": "230c0525",
   "metadata": {},
   "source": [
    "## Data Preprocessing"
   ]
  },
  {
   "cell_type": "markdown",
   "id": "6712469a",
   "metadata": {},
   "source": [
    "This section defines a TextPreprocessor class that performs comprehensive text preprocessing. It includes feature generation (character, word, and sentence counts), cleaning (removing URLs, emojis, punctuation, etc.), tokenization (splitting text into words), stopword removal, and lemmatization (reducing words to their base forms). The processed results are stored in new columns such as cleaned_text, tokenized_text, lemmatized_text, and document for further analysis or modeling."
   ]
  },
  {
   "cell_type": "code",
   "execution_count": 47,
   "id": "b3fdf6ae",
   "metadata": {},
   "outputs": [],
   "source": [
    "import re\n",
    "from nltk.corpus import stopwords\n",
    "from nltk.tokenize import word_tokenize\n",
    "from nltk.stem import WordNetLemmatizer\n",
    "\n",
    "class TextPreprocessor:\n",
    "    def __init__(self):\n",
    "        self.stop_words = set(stopwords.words('english'))\n",
    "        self.lemmatizer = WordNetLemmatizer()\n",
    "\n",
    "    def generate_text_features(self, df, text_column):\n",
    "        \"\"\"\n",
    "        Adds character count, word count, and sentence count columns.\n",
    "        \"\"\"\n",
    "        df.loc[:, 'char_count'] = df[text_column].astype(str).apply(len)\n",
    "        df.loc[:, 'word_count'] = df[text_column].astype(str).apply(lambda x: len(x.split()))\n",
    "        df.loc[:, 'sentence_count'] = df[text_column].astype(str).apply(lambda x: x.count('.') + 1)\n",
    "        return df\n",
    "\n",
    "    def clean_text(self, text):\n",
    "        \"\"\"\n",
    "        Cleans text: lowercase, remove URLs, hashtags, emojis, punctuation, numbers, and extra spaces.\n",
    "        \"\"\"\n",
    "        text = text.lower()\n",
    "        text = re.sub(r\"http\\S+|www\\S+|https\\S+\", '', text)\n",
    "        text = re.sub(r\"#\\w+\", '', text)\n",
    "\n",
    "        # Remove emojis\n",
    "        emoji_pattern = re.compile(\n",
    "            \"[\"\n",
    "            u\"\\U0001F600-\\U0001F64F\"  # emoticons\n",
    "            u\"\\U0001F300-\\U0001F5FF\"  # symbols & pictographs\n",
    "            u\"\\U0001F680-\\U0001F6FF\"  # transport & map symbols\n",
    "            u\"\\U0001F1E0-\\U0001F1FF\"  # flags\n",
    "            u\"\\U00002700-\\U000027BF\"  # Dingbats\n",
    "            u\"\\U000024C2-\\U0001F251\"\n",
    "            \"]+\", flags=re.UNICODE\n",
    "        )\n",
    "        text = emoji_pattern.sub(r'', text)\n",
    "\n",
    "        text = re.sub(r'\\d+', '', text)\n",
    "        text = re.sub(r'[^\\w\\s]', '', text)\n",
    "        text = re.sub(r'\\s+', ' ', text).strip()\n",
    "        return text\n",
    "\n",
    "    def tokenize(self, text):\n",
    "        \"\"\"\n",
    "        Tokenizes and removes stopwords.\n",
    "        \"\"\"\n",
    "        tokens = word_tokenize(text)\n",
    "        return [t for t in tokens if t not in self.stop_words]\n",
    "\n",
    "    def lemmatize(self, tokens):\n",
    "        \"\"\"\n",
    "        Lemmatizes a list of tokens.\n",
    "        \"\"\"\n",
    "        return [self.lemmatizer.lemmatize(t) for t in tokens]\n",
    "\n",
    "    def preprocess(self, df, text_column):\n",
    "        \"\"\"\n",
    "        Full preprocessing:\n",
    "        - Feature engineering\n",
    "        - Text cleaning\n",
    "        - Tokenization\n",
    "        - Lemmatization\n",
    "        - Save cleaned text, tokens, lemmatized tokens, and document string (from tokens)\n",
    "        \"\"\"\n",
    "        df = df.copy()  # Avoid SettingWithCopyWarning\n",
    "\n",
    "        df = self.generate_text_features(df, text_column)\n",
    "        df.loc[:, 'cleaned_text'] = df[text_column].astype(str).apply(self.clean_text)\n",
    "        df.loc[:, 'tokenized_text'] = df['cleaned_text'].apply(self.tokenize)\n",
    "        df.loc[:, 'lemmatized_text'] = df['tokenized_text'].apply(self.lemmatize)\n",
    "        df.loc[:, 'document'] = df['tokenized_text'].apply(lambda x: ' '.join(x))\n",
    "\n",
    "        return df"
   ]
  },
  {
   "cell_type": "code",
   "execution_count": 48,
   "id": "c5610a61",
   "metadata": {},
   "outputs": [],
   "source": [
    "# Instantiate the TextPreprocessor and preprocess the data\n",
    "preprocessor = TextPreprocessor()\n",
    "data = preprocessor.preprocess(data, 'tweet_text')"
   ]
  },
  {
   "cell_type": "code",
   "execution_count": 49,
   "id": "4b651d33",
   "metadata": {},
   "outputs": [
    {
     "data": {
      "text/html": [
       "<div>\n",
       "<style scoped>\n",
       "    .dataframe tbody tr th:only-of-type {\n",
       "        vertical-align: middle;\n",
       "    }\n",
       "\n",
       "    .dataframe tbody tr th {\n",
       "        vertical-align: top;\n",
       "    }\n",
       "\n",
       "    .dataframe thead th {\n",
       "        text-align: right;\n",
       "    }\n",
       "</style>\n",
       "<table border=\"1\" class=\"dataframe\">\n",
       "  <thead>\n",
       "    <tr style=\"text-align: right;\">\n",
       "      <th></th>\n",
       "      <th>tweet_text</th>\n",
       "      <th>recipient</th>\n",
       "      <th>emotion</th>\n",
       "      <th>brand</th>\n",
       "      <th>tweet_length</th>\n",
       "      <th>char_count</th>\n",
       "      <th>word_count</th>\n",
       "      <th>sentence_count</th>\n",
       "      <th>cleaned_text</th>\n",
       "      <th>tokenized_text</th>\n",
       "      <th>lemmatized_text</th>\n",
       "      <th>document</th>\n",
       "    </tr>\n",
       "  </thead>\n",
       "  <tbody>\n",
       "    <tr>\n",
       "      <th>0</th>\n",
       "      <td>.@wesley83 I have a 3G iPhone. After 3 hrs twe...</td>\n",
       "      <td>iPhone</td>\n",
       "      <td>Negative</td>\n",
       "      <td>Apple</td>\n",
       "      <td>23</td>\n",
       "      <td>127</td>\n",
       "      <td>23</td>\n",
       "      <td>5</td>\n",
       "      <td>wesley i have a g iphone after hrs tweeting at...</td>\n",
       "      <td>[wesley, g, iphone, hrs, tweeting, dead, need,...</td>\n",
       "      <td>[wesley, g, iphone, hr, tweeting, dead, need, ...</td>\n",
       "      <td>wesley g iphone hrs tweeting dead need upgrade...</td>\n",
       "    </tr>\n",
       "    <tr>\n",
       "      <th>1</th>\n",
       "      <td>@jessedee Know about @fludapp ? Awesome iPad/i...</td>\n",
       "      <td>iPad or iPhone App</td>\n",
       "      <td>Positive</td>\n",
       "      <td>Apple</td>\n",
       "      <td>22</td>\n",
       "      <td>139</td>\n",
       "      <td>22</td>\n",
       "      <td>2</td>\n",
       "      <td>jessedee know about fludapp awesome ipadiphone...</td>\n",
       "      <td>[jessedee, know, fludapp, awesome, ipadiphone,...</td>\n",
       "      <td>[jessedee, know, fludapp, awesome, ipadiphone,...</td>\n",
       "      <td>jessedee know fludapp awesome ipadiphone app y...</td>\n",
       "    </tr>\n",
       "    <tr>\n",
       "      <th>2</th>\n",
       "      <td>@swonderlin Can not wait for #iPad 2 also. The...</td>\n",
       "      <td>iPad</td>\n",
       "      <td>Positive</td>\n",
       "      <td>Apple</td>\n",
       "      <td>15</td>\n",
       "      <td>79</td>\n",
       "      <td>15</td>\n",
       "      <td>3</td>\n",
       "      <td>swonderlin can not wait for also they should s...</td>\n",
       "      <td>[swonderlin, wait, also, sale]</td>\n",
       "      <td>[swonderlin, wait, also, sale]</td>\n",
       "      <td>swonderlin wait also sale</td>\n",
       "    </tr>\n",
       "    <tr>\n",
       "      <th>3</th>\n",
       "      <td>@sxsw I hope this year's festival isn't as cra...</td>\n",
       "      <td>iPad or iPhone App</td>\n",
       "      <td>Negative</td>\n",
       "      <td>Apple</td>\n",
       "      <td>15</td>\n",
       "      <td>82</td>\n",
       "      <td>15</td>\n",
       "      <td>2</td>\n",
       "      <td>sxsw i hope this years festival isnt as crashy...</td>\n",
       "      <td>[sxsw, hope, years, festival, isnt, crashy, ye...</td>\n",
       "      <td>[sxsw, hope, year, festival, isnt, crashy, yea...</td>\n",
       "      <td>sxsw hope years festival isnt crashy years iph...</td>\n",
       "    </tr>\n",
       "    <tr>\n",
       "      <th>4</th>\n",
       "      <td>@sxtxstate great stuff on Fri #SXSW: Marissa M...</td>\n",
       "      <td>Google</td>\n",
       "      <td>Positive</td>\n",
       "      <td>Google</td>\n",
       "      <td>17</td>\n",
       "      <td>131</td>\n",
       "      <td>17</td>\n",
       "      <td>1</td>\n",
       "      <td>sxtxstate great stuff on fri marissa mayer goo...</td>\n",
       "      <td>[sxtxstate, great, stuff, fri, marissa, mayer,...</td>\n",
       "      <td>[sxtxstate, great, stuff, fri, marissa, mayer,...</td>\n",
       "      <td>sxtxstate great stuff fri marissa mayer google...</td>\n",
       "    </tr>\n",
       "  </tbody>\n",
       "</table>\n",
       "</div>"
      ],
      "text/plain": [
       "                                          tweet_text           recipient  \\\n",
       "0  .@wesley83 I have a 3G iPhone. After 3 hrs twe...              iPhone   \n",
       "1  @jessedee Know about @fludapp ? Awesome iPad/i...  iPad or iPhone App   \n",
       "2  @swonderlin Can not wait for #iPad 2 also. The...                iPad   \n",
       "3  @sxsw I hope this year's festival isn't as cra...  iPad or iPhone App   \n",
       "4  @sxtxstate great stuff on Fri #SXSW: Marissa M...              Google   \n",
       "\n",
       "    emotion   brand  tweet_length  char_count  word_count  sentence_count  \\\n",
       "0  Negative   Apple            23         127          23               5   \n",
       "1  Positive   Apple            22         139          22               2   \n",
       "2  Positive   Apple            15          79          15               3   \n",
       "3  Negative   Apple            15          82          15               2   \n",
       "4  Positive  Google            17         131          17               1   \n",
       "\n",
       "                                        cleaned_text  \\\n",
       "0  wesley i have a g iphone after hrs tweeting at...   \n",
       "1  jessedee know about fludapp awesome ipadiphone...   \n",
       "2  swonderlin can not wait for also they should s...   \n",
       "3  sxsw i hope this years festival isnt as crashy...   \n",
       "4  sxtxstate great stuff on fri marissa mayer goo...   \n",
       "\n",
       "                                      tokenized_text  \\\n",
       "0  [wesley, g, iphone, hrs, tweeting, dead, need,...   \n",
       "1  [jessedee, know, fludapp, awesome, ipadiphone,...   \n",
       "2                     [swonderlin, wait, also, sale]   \n",
       "3  [sxsw, hope, years, festival, isnt, crashy, ye...   \n",
       "4  [sxtxstate, great, stuff, fri, marissa, mayer,...   \n",
       "\n",
       "                                     lemmatized_text  \\\n",
       "0  [wesley, g, iphone, hr, tweeting, dead, need, ...   \n",
       "1  [jessedee, know, fludapp, awesome, ipadiphone,...   \n",
       "2                     [swonderlin, wait, also, sale]   \n",
       "3  [sxsw, hope, year, festival, isnt, crashy, yea...   \n",
       "4  [sxtxstate, great, stuff, fri, marissa, mayer,...   \n",
       "\n",
       "                                            document  \n",
       "0  wesley g iphone hrs tweeting dead need upgrade...  \n",
       "1  jessedee know fludapp awesome ipadiphone app y...  \n",
       "2                          swonderlin wait also sale  \n",
       "3  sxsw hope years festival isnt crashy years iph...  \n",
       "4  sxtxstate great stuff fri marissa mayer google...  "
      ]
     },
     "execution_count": 49,
     "metadata": {},
     "output_type": "execute_result"
    }
   ],
   "source": [
    "data.head()"
   ]
  },
  {
   "cell_type": "markdown",
   "id": "8dc485a1",
   "metadata": {},
   "source": [
    "#### Binary Classification"
   ]
  },
  {
   "cell_type": "markdown",
   "id": "d88437ff",
   "metadata": {},
   "source": [
    "In this section, the dataset is prepared for modeling in two steps. First, the data is split into training and testing sets using the train_test_split function to ensure that model evaluation is done on unseen data. Then, the text data is converted into numerical format using CountVectorizer, which transforms the raw documents into a matrix of token counts — fitting on the training set and transforming both train and test sets accordingly."
   ]
  },
  {
   "cell_type": "code",
   "execution_count": 50,
   "id": "c6bcb959",
   "metadata": {},
   "outputs": [],
   "source": [
    "# Encode the 'emotion' column to numerical values\n",
    "le = LabelEncoder()\n",
    "\n",
    "data['emotion_code'] = le.fit_transform(data['emotion'])"
   ]
  },
  {
   "cell_type": "code",
   "execution_count": 51,
   "id": "c7d3f1d3",
   "metadata": {},
   "outputs": [
    {
     "data": {
      "text/html": [
       "<div>\n",
       "<style scoped>\n",
       "    .dataframe tbody tr th:only-of-type {\n",
       "        vertical-align: middle;\n",
       "    }\n",
       "\n",
       "    .dataframe tbody tr th {\n",
       "        vertical-align: top;\n",
       "    }\n",
       "\n",
       "    .dataframe thead th {\n",
       "        text-align: right;\n",
       "    }\n",
       "</style>\n",
       "<table border=\"1\" class=\"dataframe\">\n",
       "  <thead>\n",
       "    <tr style=\"text-align: right;\">\n",
       "      <th></th>\n",
       "      <th>emotion</th>\n",
       "      <th>emotion_code</th>\n",
       "    </tr>\n",
       "  </thead>\n",
       "  <tbody>\n",
       "    <tr>\n",
       "      <th>0</th>\n",
       "      <td>Negative</td>\n",
       "      <td>0</td>\n",
       "    </tr>\n",
       "    <tr>\n",
       "      <th>1</th>\n",
       "      <td>Positive</td>\n",
       "      <td>2</td>\n",
       "    </tr>\n",
       "    <tr>\n",
       "      <th>2</th>\n",
       "      <td>Positive</td>\n",
       "      <td>2</td>\n",
       "    </tr>\n",
       "    <tr>\n",
       "      <th>3</th>\n",
       "      <td>Negative</td>\n",
       "      <td>0</td>\n",
       "    </tr>\n",
       "    <tr>\n",
       "      <th>4</th>\n",
       "      <td>Positive</td>\n",
       "      <td>2</td>\n",
       "    </tr>\n",
       "    <tr>\n",
       "      <th>...</th>\n",
       "      <td>...</td>\n",
       "      <td>...</td>\n",
       "    </tr>\n",
       "    <tr>\n",
       "      <th>9088</th>\n",
       "      <td>Positive</td>\n",
       "      <td>2</td>\n",
       "    </tr>\n",
       "    <tr>\n",
       "      <th>9089</th>\n",
       "      <td>Neutral</td>\n",
       "      <td>1</td>\n",
       "    </tr>\n",
       "    <tr>\n",
       "      <th>9090</th>\n",
       "      <td>Neutral</td>\n",
       "      <td>1</td>\n",
       "    </tr>\n",
       "    <tr>\n",
       "      <th>9091</th>\n",
       "      <td>Neutral</td>\n",
       "      <td>1</td>\n",
       "    </tr>\n",
       "    <tr>\n",
       "      <th>9092</th>\n",
       "      <td>Neutral</td>\n",
       "      <td>1</td>\n",
       "    </tr>\n",
       "  </tbody>\n",
       "</table>\n",
       "<p>9070 rows × 2 columns</p>\n",
       "</div>"
      ],
      "text/plain": [
       "       emotion  emotion_code\n",
       "0     Negative             0\n",
       "1     Positive             2\n",
       "2     Positive             2\n",
       "3     Negative             0\n",
       "4     Positive             2\n",
       "...        ...           ...\n",
       "9088  Positive             2\n",
       "9089   Neutral             1\n",
       "9090   Neutral             1\n",
       "9091   Neutral             1\n",
       "9092   Neutral             1\n",
       "\n",
       "[9070 rows x 2 columns]"
      ]
     },
     "execution_count": 51,
     "metadata": {},
     "output_type": "execute_result"
    }
   ],
   "source": [
    "# Viewing the encoded 'emotion' column and the original 'emotion' column\n",
    "data[['emotion', 'emotion_code']]"
   ]
  },
  {
   "cell_type": "code",
   "execution_count": 52,
   "id": "605c9cdb",
   "metadata": {},
   "outputs": [
    {
     "data": {
      "text/html": [
       "<div>\n",
       "<style scoped>\n",
       "    .dataframe tbody tr th:only-of-type {\n",
       "        vertical-align: middle;\n",
       "    }\n",
       "\n",
       "    .dataframe tbody tr th {\n",
       "        vertical-align: top;\n",
       "    }\n",
       "\n",
       "    .dataframe thead th {\n",
       "        text-align: right;\n",
       "    }\n",
       "</style>\n",
       "<table border=\"1\" class=\"dataframe\">\n",
       "  <thead>\n",
       "    <tr style=\"text-align: right;\">\n",
       "      <th></th>\n",
       "      <th>tweet_text</th>\n",
       "      <th>recipient</th>\n",
       "      <th>emotion</th>\n",
       "      <th>brand</th>\n",
       "      <th>tweet_length</th>\n",
       "      <th>char_count</th>\n",
       "      <th>word_count</th>\n",
       "      <th>sentence_count</th>\n",
       "      <th>cleaned_text</th>\n",
       "      <th>tokenized_text</th>\n",
       "      <th>lemmatized_text</th>\n",
       "      <th>document</th>\n",
       "      <th>emotion_code</th>\n",
       "    </tr>\n",
       "  </thead>\n",
       "  <tbody>\n",
       "    <tr>\n",
       "      <th>0</th>\n",
       "      <td>.@wesley83 I have a 3G iPhone. After 3 hrs twe...</td>\n",
       "      <td>iPhone</td>\n",
       "      <td>Negative</td>\n",
       "      <td>Apple</td>\n",
       "      <td>23</td>\n",
       "      <td>127</td>\n",
       "      <td>23</td>\n",
       "      <td>5</td>\n",
       "      <td>wesley i have a g iphone after hrs tweeting at...</td>\n",
       "      <td>[wesley, g, iphone, hrs, tweeting, dead, need,...</td>\n",
       "      <td>[wesley, g, iphone, hr, tweeting, dead, need, ...</td>\n",
       "      <td>wesley g iphone hrs tweeting dead need upgrade...</td>\n",
       "      <td>0</td>\n",
       "    </tr>\n",
       "    <tr>\n",
       "      <th>1</th>\n",
       "      <td>@jessedee Know about @fludapp ? Awesome iPad/i...</td>\n",
       "      <td>iPad or iPhone App</td>\n",
       "      <td>Positive</td>\n",
       "      <td>Apple</td>\n",
       "      <td>22</td>\n",
       "      <td>139</td>\n",
       "      <td>22</td>\n",
       "      <td>2</td>\n",
       "      <td>jessedee know about fludapp awesome ipadiphone...</td>\n",
       "      <td>[jessedee, know, fludapp, awesome, ipadiphone,...</td>\n",
       "      <td>[jessedee, know, fludapp, awesome, ipadiphone,...</td>\n",
       "      <td>jessedee know fludapp awesome ipadiphone app y...</td>\n",
       "      <td>2</td>\n",
       "    </tr>\n",
       "    <tr>\n",
       "      <th>2</th>\n",
       "      <td>@swonderlin Can not wait for #iPad 2 also. The...</td>\n",
       "      <td>iPad</td>\n",
       "      <td>Positive</td>\n",
       "      <td>Apple</td>\n",
       "      <td>15</td>\n",
       "      <td>79</td>\n",
       "      <td>15</td>\n",
       "      <td>3</td>\n",
       "      <td>swonderlin can not wait for also they should s...</td>\n",
       "      <td>[swonderlin, wait, also, sale]</td>\n",
       "      <td>[swonderlin, wait, also, sale]</td>\n",
       "      <td>swonderlin wait also sale</td>\n",
       "      <td>2</td>\n",
       "    </tr>\n",
       "    <tr>\n",
       "      <th>3</th>\n",
       "      <td>@sxsw I hope this year's festival isn't as cra...</td>\n",
       "      <td>iPad or iPhone App</td>\n",
       "      <td>Negative</td>\n",
       "      <td>Apple</td>\n",
       "      <td>15</td>\n",
       "      <td>82</td>\n",
       "      <td>15</td>\n",
       "      <td>2</td>\n",
       "      <td>sxsw i hope this years festival isnt as crashy...</td>\n",
       "      <td>[sxsw, hope, years, festival, isnt, crashy, ye...</td>\n",
       "      <td>[sxsw, hope, year, festival, isnt, crashy, yea...</td>\n",
       "      <td>sxsw hope years festival isnt crashy years iph...</td>\n",
       "      <td>0</td>\n",
       "    </tr>\n",
       "    <tr>\n",
       "      <th>4</th>\n",
       "      <td>@sxtxstate great stuff on Fri #SXSW: Marissa M...</td>\n",
       "      <td>Google</td>\n",
       "      <td>Positive</td>\n",
       "      <td>Google</td>\n",
       "      <td>17</td>\n",
       "      <td>131</td>\n",
       "      <td>17</td>\n",
       "      <td>1</td>\n",
       "      <td>sxtxstate great stuff on fri marissa mayer goo...</td>\n",
       "      <td>[sxtxstate, great, stuff, fri, marissa, mayer,...</td>\n",
       "      <td>[sxtxstate, great, stuff, fri, marissa, mayer,...</td>\n",
       "      <td>sxtxstate great stuff fri marissa mayer google...</td>\n",
       "      <td>2</td>\n",
       "    </tr>\n",
       "    <tr>\n",
       "      <th>5</th>\n",
       "      <td>@teachntech00 New iPad Apps For #SpeechTherapy...</td>\n",
       "      <td>No brand</td>\n",
       "      <td>Neutral</td>\n",
       "      <td>none</td>\n",
       "      <td>18</td>\n",
       "      <td>140</td>\n",
       "      <td>18</td>\n",
       "      <td>2</td>\n",
       "      <td>teachntech new ipad apps for and communication...</td>\n",
       "      <td>[teachntech, new, ipad, apps, communication, s...</td>\n",
       "      <td>[teachntech, new, ipad, apps, communication, s...</td>\n",
       "      <td>teachntech new ipad apps communication showcas...</td>\n",
       "      <td>1</td>\n",
       "    </tr>\n",
       "    <tr>\n",
       "      <th>7</th>\n",
       "      <td>#SXSW is just starting, #CTIA is around the co...</td>\n",
       "      <td>Android</td>\n",
       "      <td>Positive</td>\n",
       "      <td>Google</td>\n",
       "      <td>28</td>\n",
       "      <td>138</td>\n",
       "      <td>28</td>\n",
       "      <td>1</td>\n",
       "      <td>is just starting is around the corner and is o...</td>\n",
       "      <td>[starting, around, corner, hop, skip, jump, go...</td>\n",
       "      <td>[starting, around, corner, hop, skip, jump, go...</td>\n",
       "      <td>starting around corner hop skip jump good time...</td>\n",
       "      <td>2</td>\n",
       "    </tr>\n",
       "    <tr>\n",
       "      <th>8</th>\n",
       "      <td>Beautifully smart and simple idea RT @madebyma...</td>\n",
       "      <td>iPad or iPhone App</td>\n",
       "      <td>Positive</td>\n",
       "      <td>Apple</td>\n",
       "      <td>17</td>\n",
       "      <td>129</td>\n",
       "      <td>17</td>\n",
       "      <td>2</td>\n",
       "      <td>beautifully smart and simple idea rt madebyman...</td>\n",
       "      <td>[beautifully, smart, simple, idea, rt, madebym...</td>\n",
       "      <td>[beautifully, smart, simple, idea, rt, madebym...</td>\n",
       "      <td>beautifully smart simple idea rt madebymany th...</td>\n",
       "      <td>2</td>\n",
       "    </tr>\n",
       "    <tr>\n",
       "      <th>9</th>\n",
       "      <td>Counting down the days to #sxsw plus strong Ca...</td>\n",
       "      <td>Apple</td>\n",
       "      <td>Positive</td>\n",
       "      <td>Apple</td>\n",
       "      <td>16</td>\n",
       "      <td>88</td>\n",
       "      <td>16</td>\n",
       "      <td>1</td>\n",
       "      <td>counting down the days to plus strong canadian...</td>\n",
       "      <td>[counting, days, plus, strong, canadian, dolla...</td>\n",
       "      <td>[counting, day, plus, strong, canadian, dollar...</td>\n",
       "      <td>counting days plus strong canadian dollar mean...</td>\n",
       "      <td>2</td>\n",
       "    </tr>\n",
       "    <tr>\n",
       "      <th>10</th>\n",
       "      <td>Excited to meet the @samsungmobileus at #sxsw ...</td>\n",
       "      <td>Android</td>\n",
       "      <td>Positive</td>\n",
       "      <td>Google</td>\n",
       "      <td>21</td>\n",
       "      <td>118</td>\n",
       "      <td>21</td>\n",
       "      <td>3</td>\n",
       "      <td>excited to meet the samsungmobileus at so i ca...</td>\n",
       "      <td>[excited, meet, samsungmobileus, show, sprint,...</td>\n",
       "      <td>[excited, meet, samsungmobileus, show, sprint,...</td>\n",
       "      <td>excited meet samsungmobileus show sprint galax...</td>\n",
       "      <td>2</td>\n",
       "    </tr>\n",
       "  </tbody>\n",
       "</table>\n",
       "</div>"
      ],
      "text/plain": [
       "                                           tweet_text           recipient  \\\n",
       "0   .@wesley83 I have a 3G iPhone. After 3 hrs twe...              iPhone   \n",
       "1   @jessedee Know about @fludapp ? Awesome iPad/i...  iPad or iPhone App   \n",
       "2   @swonderlin Can not wait for #iPad 2 also. The...                iPad   \n",
       "3   @sxsw I hope this year's festival isn't as cra...  iPad or iPhone App   \n",
       "4   @sxtxstate great stuff on Fri #SXSW: Marissa M...              Google   \n",
       "5   @teachntech00 New iPad Apps For #SpeechTherapy...            No brand   \n",
       "7   #SXSW is just starting, #CTIA is around the co...             Android   \n",
       "8   Beautifully smart and simple idea RT @madebyma...  iPad or iPhone App   \n",
       "9   Counting down the days to #sxsw plus strong Ca...               Apple   \n",
       "10  Excited to meet the @samsungmobileus at #sxsw ...             Android   \n",
       "\n",
       "     emotion   brand  tweet_length  char_count  word_count  sentence_count  \\\n",
       "0   Negative   Apple            23         127          23               5   \n",
       "1   Positive   Apple            22         139          22               2   \n",
       "2   Positive   Apple            15          79          15               3   \n",
       "3   Negative   Apple            15          82          15               2   \n",
       "4   Positive  Google            17         131          17               1   \n",
       "5    Neutral    none            18         140          18               2   \n",
       "7   Positive  Google            28         138          28               1   \n",
       "8   Positive   Apple            17         129          17               2   \n",
       "9   Positive   Apple            16          88          16               1   \n",
       "10  Positive  Google            21         118          21               3   \n",
       "\n",
       "                                         cleaned_text  \\\n",
       "0   wesley i have a g iphone after hrs tweeting at...   \n",
       "1   jessedee know about fludapp awesome ipadiphone...   \n",
       "2   swonderlin can not wait for also they should s...   \n",
       "3   sxsw i hope this years festival isnt as crashy...   \n",
       "4   sxtxstate great stuff on fri marissa mayer goo...   \n",
       "5   teachntech new ipad apps for and communication...   \n",
       "7   is just starting is around the corner and is o...   \n",
       "8   beautifully smart and simple idea rt madebyman...   \n",
       "9   counting down the days to plus strong canadian...   \n",
       "10  excited to meet the samsungmobileus at so i ca...   \n",
       "\n",
       "                                       tokenized_text  \\\n",
       "0   [wesley, g, iphone, hrs, tweeting, dead, need,...   \n",
       "1   [jessedee, know, fludapp, awesome, ipadiphone,...   \n",
       "2                      [swonderlin, wait, also, sale]   \n",
       "3   [sxsw, hope, years, festival, isnt, crashy, ye...   \n",
       "4   [sxtxstate, great, stuff, fri, marissa, mayer,...   \n",
       "5   [teachntech, new, ipad, apps, communication, s...   \n",
       "7   [starting, around, corner, hop, skip, jump, go...   \n",
       "8   [beautifully, smart, simple, idea, rt, madebym...   \n",
       "9   [counting, days, plus, strong, canadian, dolla...   \n",
       "10  [excited, meet, samsungmobileus, show, sprint,...   \n",
       "\n",
       "                                      lemmatized_text  \\\n",
       "0   [wesley, g, iphone, hr, tweeting, dead, need, ...   \n",
       "1   [jessedee, know, fludapp, awesome, ipadiphone,...   \n",
       "2                      [swonderlin, wait, also, sale]   \n",
       "3   [sxsw, hope, year, festival, isnt, crashy, yea...   \n",
       "4   [sxtxstate, great, stuff, fri, marissa, mayer,...   \n",
       "5   [teachntech, new, ipad, apps, communication, s...   \n",
       "7   [starting, around, corner, hop, skip, jump, go...   \n",
       "8   [beautifully, smart, simple, idea, rt, madebym...   \n",
       "9   [counting, day, plus, strong, canadian, dollar...   \n",
       "10  [excited, meet, samsungmobileus, show, sprint,...   \n",
       "\n",
       "                                             document  emotion_code  \n",
       "0   wesley g iphone hrs tweeting dead need upgrade...             0  \n",
       "1   jessedee know fludapp awesome ipadiphone app y...             2  \n",
       "2                           swonderlin wait also sale             2  \n",
       "3   sxsw hope years festival isnt crashy years iph...             0  \n",
       "4   sxtxstate great stuff fri marissa mayer google...             2  \n",
       "5   teachntech new ipad apps communication showcas...             1  \n",
       "7   starting around corner hop skip jump good time...             2  \n",
       "8   beautifully smart simple idea rt madebymany th...             2  \n",
       "9   counting days plus strong canadian dollar mean...             2  \n",
       "10  excited meet samsungmobileus show sprint galax...             2  "
      ]
     },
     "execution_count": 52,
     "metadata": {},
     "output_type": "execute_result"
    }
   ],
   "source": [
    "#Make a copy of the data for binary classification\n",
    "binary_data = data.copy()\n",
    "binary_data.head(10)"
   ]
  },
  {
   "cell_type": "code",
   "execution_count": 53,
   "id": "6362c389",
   "metadata": {},
   "outputs": [
    {
     "data": {
      "text/html": [
       "<div>\n",
       "<style scoped>\n",
       "    .dataframe tbody tr th:only-of-type {\n",
       "        vertical-align: middle;\n",
       "    }\n",
       "\n",
       "    .dataframe tbody tr th {\n",
       "        vertical-align: top;\n",
       "    }\n",
       "\n",
       "    .dataframe thead th {\n",
       "        text-align: right;\n",
       "    }\n",
       "</style>\n",
       "<table border=\"1\" class=\"dataframe\">\n",
       "  <thead>\n",
       "    <tr style=\"text-align: right;\">\n",
       "      <th></th>\n",
       "      <th>tweet_text</th>\n",
       "      <th>recipient</th>\n",
       "      <th>emotion</th>\n",
       "      <th>brand</th>\n",
       "      <th>tweet_length</th>\n",
       "      <th>char_count</th>\n",
       "      <th>word_count</th>\n",
       "      <th>sentence_count</th>\n",
       "      <th>cleaned_text</th>\n",
       "      <th>tokenized_text</th>\n",
       "      <th>lemmatized_text</th>\n",
       "      <th>document</th>\n",
       "      <th>emotion_code</th>\n",
       "    </tr>\n",
       "  </thead>\n",
       "  <tbody>\n",
       "    <tr>\n",
       "      <th>0</th>\n",
       "      <td>.@wesley83 I have a 3G iPhone. After 3 hrs twe...</td>\n",
       "      <td>iPhone</td>\n",
       "      <td>Negative</td>\n",
       "      <td>Apple</td>\n",
       "      <td>23</td>\n",
       "      <td>127</td>\n",
       "      <td>23</td>\n",
       "      <td>5</td>\n",
       "      <td>wesley i have a g iphone after hrs tweeting at...</td>\n",
       "      <td>[wesley, g, iphone, hrs, tweeting, dead, need,...</td>\n",
       "      <td>[wesley, g, iphone, hr, tweeting, dead, need, ...</td>\n",
       "      <td>wesley g iphone hrs tweeting dead need upgrade...</td>\n",
       "      <td>0</td>\n",
       "    </tr>\n",
       "    <tr>\n",
       "      <th>1</th>\n",
       "      <td>@jessedee Know about @fludapp ? Awesome iPad/i...</td>\n",
       "      <td>iPad or iPhone App</td>\n",
       "      <td>Positive</td>\n",
       "      <td>Apple</td>\n",
       "      <td>22</td>\n",
       "      <td>139</td>\n",
       "      <td>22</td>\n",
       "      <td>2</td>\n",
       "      <td>jessedee know about fludapp awesome ipadiphone...</td>\n",
       "      <td>[jessedee, know, fludapp, awesome, ipadiphone,...</td>\n",
       "      <td>[jessedee, know, fludapp, awesome, ipadiphone,...</td>\n",
       "      <td>jessedee know fludapp awesome ipadiphone app y...</td>\n",
       "      <td>2</td>\n",
       "    </tr>\n",
       "    <tr>\n",
       "      <th>2</th>\n",
       "      <td>@swonderlin Can not wait for #iPad 2 also. The...</td>\n",
       "      <td>iPad</td>\n",
       "      <td>Positive</td>\n",
       "      <td>Apple</td>\n",
       "      <td>15</td>\n",
       "      <td>79</td>\n",
       "      <td>15</td>\n",
       "      <td>3</td>\n",
       "      <td>swonderlin can not wait for also they should s...</td>\n",
       "      <td>[swonderlin, wait, also, sale]</td>\n",
       "      <td>[swonderlin, wait, also, sale]</td>\n",
       "      <td>swonderlin wait also sale</td>\n",
       "      <td>2</td>\n",
       "    </tr>\n",
       "    <tr>\n",
       "      <th>3</th>\n",
       "      <td>@sxsw I hope this year's festival isn't as cra...</td>\n",
       "      <td>iPad or iPhone App</td>\n",
       "      <td>Negative</td>\n",
       "      <td>Apple</td>\n",
       "      <td>15</td>\n",
       "      <td>82</td>\n",
       "      <td>15</td>\n",
       "      <td>2</td>\n",
       "      <td>sxsw i hope this years festival isnt as crashy...</td>\n",
       "      <td>[sxsw, hope, years, festival, isnt, crashy, ye...</td>\n",
       "      <td>[sxsw, hope, year, festival, isnt, crashy, yea...</td>\n",
       "      <td>sxsw hope years festival isnt crashy years iph...</td>\n",
       "      <td>0</td>\n",
       "    </tr>\n",
       "    <tr>\n",
       "      <th>4</th>\n",
       "      <td>@sxtxstate great stuff on Fri #SXSW: Marissa M...</td>\n",
       "      <td>Google</td>\n",
       "      <td>Positive</td>\n",
       "      <td>Google</td>\n",
       "      <td>17</td>\n",
       "      <td>131</td>\n",
       "      <td>17</td>\n",
       "      <td>1</td>\n",
       "      <td>sxtxstate great stuff on fri marissa mayer goo...</td>\n",
       "      <td>[sxtxstate, great, stuff, fri, marissa, mayer,...</td>\n",
       "      <td>[sxtxstate, great, stuff, fri, marissa, mayer,...</td>\n",
       "      <td>sxtxstate great stuff fri marissa mayer google...</td>\n",
       "      <td>2</td>\n",
       "    </tr>\n",
       "  </tbody>\n",
       "</table>\n",
       "</div>"
      ],
      "text/plain": [
       "                                          tweet_text           recipient  \\\n",
       "0  .@wesley83 I have a 3G iPhone. After 3 hrs twe...              iPhone   \n",
       "1  @jessedee Know about @fludapp ? Awesome iPad/i...  iPad or iPhone App   \n",
       "2  @swonderlin Can not wait for #iPad 2 also. The...                iPad   \n",
       "3  @sxsw I hope this year's festival isn't as cra...  iPad or iPhone App   \n",
       "4  @sxtxstate great stuff on Fri #SXSW: Marissa M...              Google   \n",
       "\n",
       "    emotion   brand  tweet_length  char_count  word_count  sentence_count  \\\n",
       "0  Negative   Apple            23         127          23               5   \n",
       "1  Positive   Apple            22         139          22               2   \n",
       "2  Positive   Apple            15          79          15               3   \n",
       "3  Negative   Apple            15          82          15               2   \n",
       "4  Positive  Google            17         131          17               1   \n",
       "\n",
       "                                        cleaned_text  \\\n",
       "0  wesley i have a g iphone after hrs tweeting at...   \n",
       "1  jessedee know about fludapp awesome ipadiphone...   \n",
       "2  swonderlin can not wait for also they should s...   \n",
       "3  sxsw i hope this years festival isnt as crashy...   \n",
       "4  sxtxstate great stuff on fri marissa mayer goo...   \n",
       "\n",
       "                                      tokenized_text  \\\n",
       "0  [wesley, g, iphone, hrs, tweeting, dead, need,...   \n",
       "1  [jessedee, know, fludapp, awesome, ipadiphone,...   \n",
       "2                     [swonderlin, wait, also, sale]   \n",
       "3  [sxsw, hope, years, festival, isnt, crashy, ye...   \n",
       "4  [sxtxstate, great, stuff, fri, marissa, mayer,...   \n",
       "\n",
       "                                     lemmatized_text  \\\n",
       "0  [wesley, g, iphone, hr, tweeting, dead, need, ...   \n",
       "1  [jessedee, know, fludapp, awesome, ipadiphone,...   \n",
       "2                     [swonderlin, wait, also, sale]   \n",
       "3  [sxsw, hope, year, festival, isnt, crashy, yea...   \n",
       "4  [sxtxstate, great, stuff, fri, marissa, mayer,...   \n",
       "\n",
       "                                            document  emotion_code  \n",
       "0  wesley g iphone hrs tweeting dead need upgrade...             0  \n",
       "1  jessedee know fludapp awesome ipadiphone app y...             2  \n",
       "2                          swonderlin wait also sale             2  \n",
       "3  sxsw hope years festival isnt crashy years iph...             0  \n",
       "4  sxtxstate great stuff fri marissa mayer google...             2  "
      ]
     },
     "execution_count": 53,
     "metadata": {},
     "output_type": "execute_result"
    }
   ],
   "source": [
    "#Dropping the records with 'emotion_code' == 1 (which corresponds to 'Neutral emotion')\n",
    "binary_data.drop(binary_data[binary_data['emotion_code'] == 1].index, inplace=True)\n",
    "binary_data.head()"
   ]
  },
  {
   "cell_type": "code",
   "execution_count": 54,
   "id": "a79bd903",
   "metadata": {},
   "outputs": [
    {
     "data": {
      "text/plain": [
       "2    2970\n",
       "0     569\n",
       "Name: emotion_code, dtype: int64"
      ]
     },
     "execution_count": 54,
     "metadata": {},
     "output_type": "execute_result"
    }
   ],
   "source": [
    "binary_data['emotion_code'].value_counts()"
   ]
  },
  {
   "cell_type": "code",
   "execution_count": 55,
   "id": "e2fe22d3",
   "metadata": {},
   "outputs": [],
   "source": [
    "# split data to train and test sets\n",
    "\n",
    "X = binary_data['document']\n",
    "y = binary_data['emotion_code']\n",
    "\n",
    "X_train, X_test, y_train, y_test = train_test_split(X, y, random_state=42)"
   ]
  },
  {
   "cell_type": "code",
   "execution_count": 56,
   "id": "5df0f7ef",
   "metadata": {},
   "outputs": [],
   "source": [
    "# vectorize\n",
    "\n",
    "vectorizer = CountVectorizer()\n",
    "X_train_vec = vectorizer.fit_transform(X_train)\n",
    "X_test_vec = vectorizer.transform(X_test)"
   ]
  },
  {
   "cell_type": "markdown",
   "id": "d1a905ee",
   "metadata": {},
   "source": [
    "We will use the logistic regression as our baseline model"
   ]
  },
  {
   "cell_type": "code",
   "execution_count": 57,
   "id": "9e6eb9a0",
   "metadata": {},
   "outputs": [
    {
     "data": {
      "text/html": [
       "<style>#sk-container-id-1 {color: black;background-color: white;}#sk-container-id-1 pre{padding: 0;}#sk-container-id-1 div.sk-toggleable {background-color: white;}#sk-container-id-1 label.sk-toggleable__label {cursor: pointer;display: block;width: 100%;margin-bottom: 0;padding: 0.3em;box-sizing: border-box;text-align: center;}#sk-container-id-1 label.sk-toggleable__label-arrow:before {content: \"▸\";float: left;margin-right: 0.25em;color: #696969;}#sk-container-id-1 label.sk-toggleable__label-arrow:hover:before {color: black;}#sk-container-id-1 div.sk-estimator:hover label.sk-toggleable__label-arrow:before {color: black;}#sk-container-id-1 div.sk-toggleable__content {max-height: 0;max-width: 0;overflow: hidden;text-align: left;background-color: #f0f8ff;}#sk-container-id-1 div.sk-toggleable__content pre {margin: 0.2em;color: black;border-radius: 0.25em;background-color: #f0f8ff;}#sk-container-id-1 input.sk-toggleable__control:checked~div.sk-toggleable__content {max-height: 200px;max-width: 100%;overflow: auto;}#sk-container-id-1 input.sk-toggleable__control:checked~label.sk-toggleable__label-arrow:before {content: \"▾\";}#sk-container-id-1 div.sk-estimator input.sk-toggleable__control:checked~label.sk-toggleable__label {background-color: #d4ebff;}#sk-container-id-1 div.sk-label input.sk-toggleable__control:checked~label.sk-toggleable__label {background-color: #d4ebff;}#sk-container-id-1 input.sk-hidden--visually {border: 0;clip: rect(1px 1px 1px 1px);clip: rect(1px, 1px, 1px, 1px);height: 1px;margin: -1px;overflow: hidden;padding: 0;position: absolute;width: 1px;}#sk-container-id-1 div.sk-estimator {font-family: monospace;background-color: #f0f8ff;border: 1px dotted black;border-radius: 0.25em;box-sizing: border-box;margin-bottom: 0.5em;}#sk-container-id-1 div.sk-estimator:hover {background-color: #d4ebff;}#sk-container-id-1 div.sk-parallel-item::after {content: \"\";width: 100%;border-bottom: 1px solid gray;flex-grow: 1;}#sk-container-id-1 div.sk-label:hover label.sk-toggleable__label {background-color: #d4ebff;}#sk-container-id-1 div.sk-serial::before {content: \"\";position: absolute;border-left: 1px solid gray;box-sizing: border-box;top: 0;bottom: 0;left: 50%;z-index: 0;}#sk-container-id-1 div.sk-serial {display: flex;flex-direction: column;align-items: center;background-color: white;padding-right: 0.2em;padding-left: 0.2em;position: relative;}#sk-container-id-1 div.sk-item {position: relative;z-index: 1;}#sk-container-id-1 div.sk-parallel {display: flex;align-items: stretch;justify-content: center;background-color: white;position: relative;}#sk-container-id-1 div.sk-item::before, #sk-container-id-1 div.sk-parallel-item::before {content: \"\";position: absolute;border-left: 1px solid gray;box-sizing: border-box;top: 0;bottom: 0;left: 50%;z-index: -1;}#sk-container-id-1 div.sk-parallel-item {display: flex;flex-direction: column;z-index: 1;position: relative;background-color: white;}#sk-container-id-1 div.sk-parallel-item:first-child::after {align-self: flex-end;width: 50%;}#sk-container-id-1 div.sk-parallel-item:last-child::after {align-self: flex-start;width: 50%;}#sk-container-id-1 div.sk-parallel-item:only-child::after {width: 0;}#sk-container-id-1 div.sk-dashed-wrapped {border: 1px dashed gray;margin: 0 0.4em 0.5em 0.4em;box-sizing: border-box;padding-bottom: 0.4em;background-color: white;}#sk-container-id-1 div.sk-label label {font-family: monospace;font-weight: bold;display: inline-block;line-height: 1.2em;}#sk-container-id-1 div.sk-label-container {text-align: center;}#sk-container-id-1 div.sk-container {/* jupyter's `normalize.less` sets `[hidden] { display: none; }` but bootstrap.min.css set `[hidden] { display: none !important; }` so we also need the `!important` here to be able to override the default hidden behavior on the sphinx rendered scikit-learn.org. See: https://github.com/scikit-learn/scikit-learn/issues/21755 */display: inline-block !important;position: relative;}#sk-container-id-1 div.sk-text-repr-fallback {display: none;}</style><div id=\"sk-container-id-1\" class=\"sk-top-container\"><div class=\"sk-text-repr-fallback\"><pre>LogisticRegression()</pre><b>In a Jupyter environment, please rerun this cell to show the HTML representation or trust the notebook. <br />On GitHub, the HTML representation is unable to render, please try loading this page with nbviewer.org.</b></div><div class=\"sk-container\" hidden><div class=\"sk-item\"><div class=\"sk-estimator sk-toggleable\"><input class=\"sk-toggleable__control sk-hidden--visually\" id=\"sk-estimator-id-1\" type=\"checkbox\" checked><label for=\"sk-estimator-id-1\" class=\"sk-toggleable__label sk-toggleable__label-arrow\">LogisticRegression</label><div class=\"sk-toggleable__content\"><pre>LogisticRegression()</pre></div></div></div></div></div>"
      ],
      "text/plain": [
       "LogisticRegression()"
      ]
     },
     "execution_count": 57,
     "metadata": {},
     "output_type": "execute_result"
    }
   ],
   "source": [
    "logreg = LogisticRegression()\n",
    "\n",
    "logreg.fit(X_train_vec, y_train)"
   ]
  },
  {
   "cell_type": "code",
   "execution_count": 58,
   "id": "db8f6ddf",
   "metadata": {},
   "outputs": [
    {
     "name": "stdout",
     "output_type": "stream",
     "text": [
      "Train accuracy: 0.9736247174076865\n",
      "Test accuracy: 0.8892655367231639\n"
     ]
    }
   ],
   "source": [
    "y_pred = logreg.predict(X_test_vec)\n",
    "y_train_pred = logreg.predict(X_train_vec)\n",
    "\n",
    "print(\"Train accuracy:\", accuracy_score(y_train, y_train_pred))\n",
    "print(\"Test accuracy:\", accuracy_score(y_test, y_pred))"
   ]
  },
  {
   "cell_type": "code",
   "execution_count": 59,
   "id": "41ea4410",
   "metadata": {},
   "outputs": [
    {
     "name": "stdout",
     "output_type": "stream",
     "text": [
      "\n",
      "Classification Report:\n",
      "               precision    recall  f1-score   support\n",
      "\n",
      "           0       0.75      0.40      0.52       134\n",
      "           2       0.90      0.98      0.94       751\n",
      "\n",
      "    accuracy                           0.89       885\n",
      "   macro avg       0.83      0.69      0.73       885\n",
      "weighted avg       0.88      0.89      0.87       885\n",
      "\n"
     ]
    }
   ],
   "source": [
    "print(\"\\nClassification Report:\\n\", classification_report(y_test, y_pred))"
   ]
  },
  {
   "cell_type": "code",
   "execution_count": 60,
   "id": "c7a07407",
   "metadata": {},
   "outputs": [
    {
     "data": {
      "image/png": "[encoded data removed]",
      "text/plain": [
       "<Figure size 432x288 with 2 Axes>"
      ]
     },
     "metadata": {
      "needs_background": "light"
     },
     "output_type": "display_data"
    }
   ],
   "source": [
    "#plot a confusion matrix\n",
    "log_matrix = confusion_matrix(y_test, y_pred)\n",
    "\n",
    "cm_display = metrics.ConfusionMatrixDisplay(confusion_matrix = log_matrix)\n",
    "cm_display.plot()\n",
    "plt.show()"
   ]
  },
  {
   "cell_type": "markdown",
   "id": "a6fdd417",
   "metadata": {},
   "source": [
    "True Negatives (48): Model correctly predicted 0 when the true label was 0.\n",
    "\n",
    "False Positives (89): Model incorrectly predicted 1 when the true label was 0.\n",
    "\n",
    "False Negatives (17): Model incorrectly predicted 0 when the true label was 1.\n",
    "\n",
    "True Positives (733): Model correctly predicted 1 when the true label was 1.\n",
    "\n",
    "Summary:\n",
    "The model performs very well on class 1 (positive/majority class) with high true positives and low false negatives. However, it struggles with class 0 (negative/minority class), misclassifying nearly 65% (89 out of 137) of them. This indicates class imbalance We'll try fitting a decision tree while accounting for the class imbalance to see if there will be better performance."
   ]
  },
  {
   "cell_type": "code",
   "execution_count": 61,
   "id": "8bb9566c",
   "metadata": {},
   "outputs": [
    {
     "name": "stdout",
     "output_type": "stream",
     "text": [
      "Train Accuracy: 1.0\n",
      "Test Accuracy: 0.8056497175141243\n",
      "\n",
      " Classification Report:\n",
      "              precision    recall  f1-score   support\n",
      "\n",
      "           0       0.40      0.58      0.48       134\n",
      "           2       0.92      0.85      0.88       751\n",
      "\n",
      "    accuracy                           0.81       885\n",
      "   macro avg       0.66      0.71      0.68       885\n",
      "weighted avg       0.84      0.81      0.82       885\n",
      "\n"
     ]
    }
   ],
   "source": [
    "weighted_tree = DecisionTreeClassifier(class_weight='balanced', random_state=42)\n",
    "weighted_tree.fit(X_train_vec, y_train)\n",
    "\n",
    "\n",
    "y_train_pred = weighted_tree.predict(X_train_vec)\n",
    "y_pred = weighted_tree.predict(X_test_vec)\n",
    "\n",
    "print(f\"Train Accuracy: {accuracy_score(y_train, y_train_pred)}\")\n",
    "print(f\"Test Accuracy: {accuracy_score(y_test, y_pred)}\")\n",
    "\n",
    "print(\"\\n Classification Report:\")\n",
    "print(classification_report(y_test, y_pred))"
   ]
  },
  {
   "cell_type": "markdown",
   "id": "50b01027",
   "metadata": {},
   "source": [
    "The tree performs worse than the logistic regression model. Let's try fitting again without accounting for the imbalance"
   ]
  },
  {
   "cell_type": "code",
   "execution_count": 62,
   "id": "a846a59f",
   "metadata": {},
   "outputs": [
    {
     "data": {
      "text/html": [
       "<style>#sk-container-id-2 {color: black;background-color: white;}#sk-container-id-2 pre{padding: 0;}#sk-container-id-2 div.sk-toggleable {background-color: white;}#sk-container-id-2 label.sk-toggleable__label {cursor: pointer;display: block;width: 100%;margin-bottom: 0;padding: 0.3em;box-sizing: border-box;text-align: center;}#sk-container-id-2 label.sk-toggleable__label-arrow:before {content: \"▸\";float: left;margin-right: 0.25em;color: #696969;}#sk-container-id-2 label.sk-toggleable__label-arrow:hover:before {color: black;}#sk-container-id-2 div.sk-estimator:hover label.sk-toggleable__label-arrow:before {color: black;}#sk-container-id-2 div.sk-toggleable__content {max-height: 0;max-width: 0;overflow: hidden;text-align: left;background-color: #f0f8ff;}#sk-container-id-2 div.sk-toggleable__content pre {margin: 0.2em;color: black;border-radius: 0.25em;background-color: #f0f8ff;}#sk-container-id-2 input.sk-toggleable__control:checked~div.sk-toggleable__content {max-height: 200px;max-width: 100%;overflow: auto;}#sk-container-id-2 input.sk-toggleable__control:checked~label.sk-toggleable__label-arrow:before {content: \"▾\";}#sk-container-id-2 div.sk-estimator input.sk-toggleable__control:checked~label.sk-toggleable__label {background-color: #d4ebff;}#sk-container-id-2 div.sk-label input.sk-toggleable__control:checked~label.sk-toggleable__label {background-color: #d4ebff;}#sk-container-id-2 input.sk-hidden--visually {border: 0;clip: rect(1px 1px 1px 1px);clip: rect(1px, 1px, 1px, 1px);height: 1px;margin: -1px;overflow: hidden;padding: 0;position: absolute;width: 1px;}#sk-container-id-2 div.sk-estimator {font-family: monospace;background-color: #f0f8ff;border: 1px dotted black;border-radius: 0.25em;box-sizing: border-box;margin-bottom: 0.5em;}#sk-container-id-2 div.sk-estimator:hover {background-color: #d4ebff;}#sk-container-id-2 div.sk-parallel-item::after {content: \"\";width: 100%;border-bottom: 1px solid gray;flex-grow: 1;}#sk-container-id-2 div.sk-label:hover label.sk-toggleable__label {background-color: #d4ebff;}#sk-container-id-2 div.sk-serial::before {content: \"\";position: absolute;border-left: 1px solid gray;box-sizing: border-box;top: 0;bottom: 0;left: 50%;z-index: 0;}#sk-container-id-2 div.sk-serial {display: flex;flex-direction: column;align-items: center;background-color: white;padding-right: 0.2em;padding-left: 0.2em;position: relative;}#sk-container-id-2 div.sk-item {position: relative;z-index: 1;}#sk-container-id-2 div.sk-parallel {display: flex;align-items: stretch;justify-content: center;background-color: white;position: relative;}#sk-container-id-2 div.sk-item::before, #sk-container-id-2 div.sk-parallel-item::before {content: \"\";position: absolute;border-left: 1px solid gray;box-sizing: border-box;top: 0;bottom: 0;left: 50%;z-index: -1;}#sk-container-id-2 div.sk-parallel-item {display: flex;flex-direction: column;z-index: 1;position: relative;background-color: white;}#sk-container-id-2 div.sk-parallel-item:first-child::after {align-self: flex-end;width: 50%;}#sk-container-id-2 div.sk-parallel-item:last-child::after {align-self: flex-start;width: 50%;}#sk-container-id-2 div.sk-parallel-item:only-child::after {width: 0;}#sk-container-id-2 div.sk-dashed-wrapped {border: 1px dashed gray;margin: 0 0.4em 0.5em 0.4em;box-sizing: border-box;padding-bottom: 0.4em;background-color: white;}#sk-container-id-2 div.sk-label label {font-family: monospace;font-weight: bold;display: inline-block;line-height: 1.2em;}#sk-container-id-2 div.sk-label-container {text-align: center;}#sk-container-id-2 div.sk-container {/* jupyter's `normalize.less` sets `[hidden] { display: none; }` but bootstrap.min.css set `[hidden] { display: none !important; }` so we also need the `!important` here to be able to override the default hidden behavior on the sphinx rendered scikit-learn.org. See: https://github.com/scikit-learn/scikit-learn/issues/21755 */display: inline-block !important;position: relative;}#sk-container-id-2 div.sk-text-repr-fallback {display: none;}</style><div id=\"sk-container-id-2\" class=\"sk-top-container\"><div class=\"sk-text-repr-fallback\"><pre>DecisionTreeClassifier(random_state=42)</pre><b>In a Jupyter environment, please rerun this cell to show the HTML representation or trust the notebook. <br />On GitHub, the HTML representation is unable to render, please try loading this page with nbviewer.org.</b></div><div class=\"sk-container\" hidden><div class=\"sk-item\"><div class=\"sk-estimator sk-toggleable\"><input class=\"sk-toggleable__control sk-hidden--visually\" id=\"sk-estimator-id-2\" type=\"checkbox\" checked><label for=\"sk-estimator-id-2\" class=\"sk-toggleable__label sk-toggleable__label-arrow\">DecisionTreeClassifier</label><div class=\"sk-toggleable__content\"><pre>DecisionTreeClassifier(random_state=42)</pre></div></div></div></div></div>"
      ],
      "text/plain": [
       "DecisionTreeClassifier(random_state=42)"
      ]
     },
     "execution_count": 62,
     "metadata": {},
     "output_type": "execute_result"
    }
   ],
   "source": [
    "tree = DecisionTreeClassifier(random_state=42)\n",
    "tree.fit(X_train_vec, y_train)"
   ]
  },
  {
   "cell_type": "code",
   "execution_count": 63,
   "id": "9dfba1db",
   "metadata": {},
   "outputs": [
    {
     "name": "stdout",
     "output_type": "stream",
     "text": [
      "Train Accuracy: 1.0\n",
      "Test Accuracy: 0.8610169491525423\n",
      "\n",
      " Classification Report:\n",
      "              precision    recall  f1-score   support\n",
      "\n",
      "           0       0.55      0.44      0.49       134\n",
      "           2       0.90      0.94      0.92       751\n",
      "\n",
      "    accuracy                           0.86       885\n",
      "   macro avg       0.73      0.69      0.70       885\n",
      "weighted avg       0.85      0.86      0.85       885\n",
      "\n"
     ]
    }
   ],
   "source": [
    "# Evaluation \n",
    "y_train_pred = tree.predict(X_train_vec)\n",
    "y_pred = tree.predict(X_test_vec)\n",
    "\n",
    "print(f\"Train Accuracy: {accuracy_score(y_train, y_train_pred)}\")\n",
    "print(f\"Test Accuracy: {accuracy_score(y_test, y_pred)}\")\n",
    "\n",
    "print(\"\\n Classification Report:\")\n",
    "print(classification_report(y_test, y_pred))"
   ]
  },
  {
   "cell_type": "markdown",
   "id": "84522748",
   "metadata": {},
   "source": [
    "The tree performs a bit better without accounting for class imbalance.However the accuracies are not satisfactory so we'll try tuning to reduce overfitting by tuning the model."
   ]
  },
  {
   "cell_type": "code",
   "execution_count": 64,
   "id": "00abdc2f",
   "metadata": {},
   "outputs": [
    {
     "name": "stdout",
     "output_type": "stream",
     "text": [
      "Best Parameters: {'criterion': 'entropy', 'max_depth': 10, 'min_samples_leaf': 1, 'min_samples_split': 2}\n",
      "\n",
      " Train Accuracy: 0.8715146948003014\n",
      "\n",
      " Test Accuracy: 0.8700564971751412\n"
     ]
    }
   ],
   "source": [
    "param_grid = {\n",
    "    'max_depth': [None, 3, 5, 10],\n",
    "    'min_samples_split': [2, 5, 10],\n",
    "    'min_samples_leaf': [1, 2],\n",
    "    'criterion': ['gini', 'entropy', 'log_loss']  \n",
    "}\n",
    "\n",
    "\n",
    "grid_search = GridSearchCV(\n",
    "    estimator=tree,\n",
    "    param_grid=param_grid,\n",
    "    cv=5,\n",
    "    n_jobs=-1,\n",
    "    scoring='accuracy'\n",
    ")\n",
    "\n",
    "\n",
    "grid_search.fit(X_train_vec, y_train)\n",
    "\n",
    "\n",
    "print(\"Best Parameters:\", grid_search.best_params_)\n",
    "\n",
    "best_tree = grid_search.best_estimator_\n",
    "\n",
    "y_train_pred = best_tree.predict(X_train_vec)\n",
    "y_pred = best_tree.predict(X_test_vec)\n",
    "\n",
    "print(f\"\\n Train Accuracy: {accuracy_score(y_train, y_train_pred)}\")\n",
    "print(f\"\\n Test Accuracy: {accuracy_score(y_test, y_pred)}\")"
   ]
  },
  {
   "cell_type": "markdown",
   "id": "a5463227",
   "metadata": {},
   "source": [
    "These are reasonable accuracies.So far this tuned tree and logistic regression are the best models"
   ]
  },
  {
   "cell_type": "code",
   "execution_count": 65,
   "id": "994fb86c",
   "metadata": {},
   "outputs": [
    {
     "data": {
      "image/png": "[encoded data removed]",
      "text/plain": [
       "<Figure size 432x288 with 2 Axes>"
      ]
     },
     "metadata": {
      "needs_background": "light"
     },
     "output_type": "display_data"
    }
   ],
   "source": [
    "tree_matrix = confusion_matrix(y_test, y_pred)\n",
    "\n",
    "cm_display = metrics.ConfusionMatrixDisplay(confusion_matrix = tree_matrix, display_labels = [False, True])\n",
    "cm_display.plot()\n",
    "plt.show()"
   ]
  },
  {
   "cell_type": "markdown",
   "id": "886fecea",
   "metadata": {},
   "source": [
    "Tuning reduces overfitting. However there are many false positives\n",
    "\n",
    "Let's try another model"
   ]
  },
  {
   "cell_type": "code",
   "execution_count": 66,
   "id": "5482ecb3",
   "metadata": {},
   "outputs": [
    {
     "data": {
      "text/html": [
       "<style>#sk-container-id-3 {color: black;background-color: white;}#sk-container-id-3 pre{padding: 0;}#sk-container-id-3 div.sk-toggleable {background-color: white;}#sk-container-id-3 label.sk-toggleable__label {cursor: pointer;display: block;width: 100%;margin-bottom: 0;padding: 0.3em;box-sizing: border-box;text-align: center;}#sk-container-id-3 label.sk-toggleable__label-arrow:before {content: \"▸\";float: left;margin-right: 0.25em;color: #696969;}#sk-container-id-3 label.sk-toggleable__label-arrow:hover:before {color: black;}#sk-container-id-3 div.sk-estimator:hover label.sk-toggleable__label-arrow:before {color: black;}#sk-container-id-3 div.sk-toggleable__content {max-height: 0;max-width: 0;overflow: hidden;text-align: left;background-color: #f0f8ff;}#sk-container-id-3 div.sk-toggleable__content pre {margin: 0.2em;color: black;border-radius: 0.25em;background-color: #f0f8ff;}#sk-container-id-3 input.sk-toggleable__control:checked~div.sk-toggleable__content {max-height: 200px;max-width: 100%;overflow: auto;}#sk-container-id-3 input.sk-toggleable__control:checked~label.sk-toggleable__label-arrow:before {content: \"▾\";}#sk-container-id-3 div.sk-estimator input.sk-toggleable__control:checked~label.sk-toggleable__label {background-color: #d4ebff;}#sk-container-id-3 div.sk-label input.sk-toggleable__control:checked~label.sk-toggleable__label {background-color: #d4ebff;}#sk-container-id-3 input.sk-hidden--visually {border: 0;clip: rect(1px 1px 1px 1px);clip: rect(1px, 1px, 1px, 1px);height: 1px;margin: -1px;overflow: hidden;padding: 0;position: absolute;width: 1px;}#sk-container-id-3 div.sk-estimator {font-family: monospace;background-color: #f0f8ff;border: 1px dotted black;border-radius: 0.25em;box-sizing: border-box;margin-bottom: 0.5em;}#sk-container-id-3 div.sk-estimator:hover {background-color: #d4ebff;}#sk-container-id-3 div.sk-parallel-item::after {content: \"\";width: 100%;border-bottom: 1px solid gray;flex-grow: 1;}#sk-container-id-3 div.sk-label:hover label.sk-toggleable__label {background-color: #d4ebff;}#sk-container-id-3 div.sk-serial::before {content: \"\";position: absolute;border-left: 1px solid gray;box-sizing: border-box;top: 0;bottom: 0;left: 50%;z-index: 0;}#sk-container-id-3 div.sk-serial {display: flex;flex-direction: column;align-items: center;background-color: white;padding-right: 0.2em;padding-left: 0.2em;position: relative;}#sk-container-id-3 div.sk-item {position: relative;z-index: 1;}#sk-container-id-3 div.sk-parallel {display: flex;align-items: stretch;justify-content: center;background-color: white;position: relative;}#sk-container-id-3 div.sk-item::before, #sk-container-id-3 div.sk-parallel-item::before {content: \"\";position: absolute;border-left: 1px solid gray;box-sizing: border-box;top: 0;bottom: 0;left: 50%;z-index: -1;}#sk-container-id-3 div.sk-parallel-item {display: flex;flex-direction: column;z-index: 1;position: relative;background-color: white;}#sk-container-id-3 div.sk-parallel-item:first-child::after {align-self: flex-end;width: 50%;}#sk-container-id-3 div.sk-parallel-item:last-child::after {align-self: flex-start;width: 50%;}#sk-container-id-3 div.sk-parallel-item:only-child::after {width: 0;}#sk-container-id-3 div.sk-dashed-wrapped {border: 1px dashed gray;margin: 0 0.4em 0.5em 0.4em;box-sizing: border-box;padding-bottom: 0.4em;background-color: white;}#sk-container-id-3 div.sk-label label {font-family: monospace;font-weight: bold;display: inline-block;line-height: 1.2em;}#sk-container-id-3 div.sk-label-container {text-align: center;}#sk-container-id-3 div.sk-container {/* jupyter's `normalize.less` sets `[hidden] { display: none; }` but bootstrap.min.css set `[hidden] { display: none !important; }` so we also need the `!important` here to be able to override the default hidden behavior on the sphinx rendered scikit-learn.org. See: https://github.com/scikit-learn/scikit-learn/issues/21755 */display: inline-block !important;position: relative;}#sk-container-id-3 div.sk-text-repr-fallback {display: none;}</style><div id=\"sk-container-id-3\" class=\"sk-top-container\"><div class=\"sk-text-repr-fallback\"><pre>RandomForestClassifier(random_state=42)</pre><b>In a Jupyter environment, please rerun this cell to show the HTML representation or trust the notebook. <br />On GitHub, the HTML representation is unable to render, please try loading this page with nbviewer.org.</b></div><div class=\"sk-container\" hidden><div class=\"sk-item\"><div class=\"sk-estimator sk-toggleable\"><input class=\"sk-toggleable__control sk-hidden--visually\" id=\"sk-estimator-id-3\" type=\"checkbox\" checked><label for=\"sk-estimator-id-3\" class=\"sk-toggleable__label sk-toggleable__label-arrow\">RandomForestClassifier</label><div class=\"sk-toggleable__content\"><pre>RandomForestClassifier(random_state=42)</pre></div></div></div></div></div>"
      ],
      "text/plain": [
       "RandomForestClassifier(random_state=42)"
      ]
     },
     "execution_count": 66,
     "metadata": {},
     "output_type": "execute_result"
    }
   ],
   "source": [
    "forest = RandomForestClassifier(random_state=42)\n",
    "\n",
    "forest.fit(X_train_vec, y_train)"
   ]
  },
  {
   "cell_type": "code",
   "execution_count": 67,
   "id": "e3a810b2",
   "metadata": {},
   "outputs": [
    {
     "name": "stdout",
     "output_type": "stream",
     "text": [
      "Train Accuracy: 1.0\n",
      "Test Accuracy: 0.8892655367231639\n"
     ]
    }
   ],
   "source": [
    "y_train_pred = forest.predict(X_train_vec)\n",
    "y_pred = forest.predict(X_test_vec)\n",
    "\n",
    "print(f\"Train Accuracy: {accuracy_score(y_train, y_train_pred)}\")\n",
    "print(f\"Test Accuracy: {accuracy_score(y_test, y_pred)}\")"
   ]
  },
  {
   "cell_type": "markdown",
   "id": "f9befdaf",
   "metadata": {},
   "source": [
    "The random forest is overfitting the data \n",
    "\n",
    "Let's try tuning it"
   ]
  },
  {
   "cell_type": "code",
   "execution_count": 68,
   "id": "8edbd9e4",
   "metadata": {},
   "outputs": [
    {
     "name": "stdout",
     "output_type": "stream",
     "text": [
      "Best Parameters: {'criterion': 'gini', 'max_depth': None, 'max_features': 'sqrt', 'min_samples_leaf': 1, 'min_samples_split': 2, 'n_estimators': 100}\n",
      "\n",
      " Train Accuracy: 1.0\n",
      "Test Accuracy: 0.8892655367231639\n"
     ]
    }
   ],
   "source": [
    "param_grid = {\n",
    "    'n_estimators': [50, 100],         # Number of trees\n",
    "    'max_depth': [None, 5, 10],            # Depth of each tree\n",
    "    'min_samples_split': [2, 5],        # Min samples to split a node\n",
    "    'min_samples_leaf': [1, 2],          # Min samples at a leaf node\n",
    "    'criterion': ['gini', 'entropy', 'log_loss'],        # Splitting criteria\n",
    "    'max_features': ['sqrt', 'log2']\n",
    "}\n",
    "\n",
    "grid = GridSearchCV(\n",
    "    estimator=forest,\n",
    "    param_grid=param_grid,\n",
    "    cv=3,\n",
    "    n_jobs=-1,\n",
    "    scoring='accuracy'\n",
    ")\n",
    "\n",
    "grid.fit(X_train_vec, y_train)\n",
    "\n",
    "print(\"Best Parameters:\", grid.best_params_)\n",
    "\n",
    "best_rf = grid.best_estimator_\n",
    "\n",
    "y_train_pred = best_rf.predict(X_train_vec)\n",
    "y_pred = best_rf.predict(X_test_vec)\n",
    "\n",
    "print(f\"\\n Train Accuracy: {accuracy_score(y_train, y_train_pred)}\")\n",
    "print(f\"Test Accuracy: {accuracy_score(y_test, y_pred)}\")"
   ]
  },
  {
   "cell_type": "code",
   "execution_count": 69,
   "id": "912df410",
   "metadata": {},
   "outputs": [
    {
     "data": {
      "image/png": "[encoded data removed]",
      "text/plain": [
       "<Figure size 720x432 with 1 Axes>"
      ]
     },
     "metadata": {
      "needs_background": "light"
     },
     "output_type": "display_data"
    }
   ],
   "source": [
    "# Sample performance data\n",
    "models = ['Logistic Regression', 'Weighted Tree', 'Tuned Tree', 'Random Forest']\n",
    "train_accuracy = [0.97, 1.00, 0.87, 1.00]\n",
    "test_accuracy = [0.88, 0.79, 0.86, 0.88]\n",
    "\n",
    "# Create a DataFrame\n",
    "df = pd.DataFrame({\n",
    "    'Model': models,\n",
    "    'Train Accuracy': train_accuracy,\n",
    "    'Test Accuracy': test_accuracy\n",
    "})\n",
    "\n",
    "# Melt the DataFrame for seaborn\n",
    "df_melted = df.melt(id_vars='Model', var_name='Dataset', value_name='Accuracy')\n",
    "\n",
    "# Plot\n",
    "plt.figure(figsize=(10, 6))\n",
    "sns.barplot(data=df_melted, x='Model', y='Accuracy', hue='Dataset')\n",
    "plt.title('Model Performance Comparison')\n",
    "plt.ylim(0.75, 1.05)\n",
    "plt.xticks(rotation=15)\n",
    "plt.tight_layout()\n",
    "plt.show()"
   ]
  },
  {
   "cell_type": "code",
   "execution_count": 70,
   "id": "f01fff0b",
   "metadata": {},
   "outputs": [
    {
     "name": "stdout",
     "output_type": "stream",
     "text": [
      "Resampled class distribution: 2    2219\n",
      "0    2219\n",
      "Name: emotion_code, dtype: int64\n"
     ]
    }
   ],
   "source": [
    "from imblearn.over_sampling import SMOTE\n",
    "\n",
    "smote = SMOTE(random_state=42)\n",
    "\n",
    "X_train_resampled, y_train_resampled = smote.fit_resample(X_train_vec, y_train)\n",
    "\n",
    "print(\"Resampled class distribution:\", pd.Series(y_train_resampled).value_counts())"
   ]
  },
  {
   "cell_type": "code",
   "execution_count": 71,
   "id": "b6d52918",
   "metadata": {},
   "outputs": [
    {
     "name": "stdout",
     "output_type": "stream",
     "text": [
      "Train accuracy: 0.9734114465975665\n",
      "Test accuracy: 0.8146892655367232\n"
     ]
    }
   ],
   "source": [
    "logreg.fit(X_train_resampled, y_train_resampled)\n",
    "\n",
    "y_pred = logreg.predict(X_test_vec)\n",
    "y_train_pred = logreg.predict(X_train_resampled)\n",
    "\n",
    "print(\"Train accuracy:\", accuracy_score(y_train_resampled, y_train_pred))\n",
    "print(\"Test accuracy:\", accuracy_score(y_test, y_pred))\n"
   ]
  },
  {
   "cell_type": "code",
   "execution_count": 72,
   "id": "9fedd9f7",
   "metadata": {},
   "outputs": [
    {
     "name": "stdout",
     "output_type": "stream",
     "text": [
      "\n",
      "Classification Report:\n",
      "               precision    recall  f1-score   support\n",
      "\n",
      "           0       0.42      0.62      0.50       134\n",
      "           2       0.93      0.85      0.89       751\n",
      "\n",
      "    accuracy                           0.81       885\n",
      "   macro avg       0.67      0.73      0.69       885\n",
      "weighted avg       0.85      0.81      0.83       885\n",
      "\n"
     ]
    }
   ],
   "source": [
    "print(\"\\nClassification Report:\\n\", classification_report(y_test, y_pred))"
   ]
  },
  {
   "cell_type": "markdown",
   "id": "f1f6a87a",
   "metadata": {},
   "source": [
    "After resampling the data, the logistic regression performs a bit better for the minority class\n",
    "\n",
    "The accuracies are however worse than the first logistic regression model\n",
    "\n",
    "Let's try our tuned tree on the resampled data"
   ]
  },
  {
   "cell_type": "code",
   "execution_count": 73,
   "id": "46f3c84f",
   "metadata": {},
   "outputs": [
    {
     "name": "stdout",
     "output_type": "stream",
     "text": [
      "Best Parameters: {'criterion': 'entropy', 'max_depth': None, 'min_samples_leaf': 1, 'min_samples_split': 10}\n",
      "\n",
      " Train Accuracy: 0.9709328526363227\n",
      "\n",
      " Test Accuracy: 0.7344632768361582\n",
      "\n",
      "Classification Report:\n",
      "              precision    recall  f1-score   support\n",
      "\n",
      "           0       0.28      0.49      0.36       134\n",
      "           2       0.90      0.78      0.83       751\n",
      "\n",
      "    accuracy                           0.73       885\n",
      "   macro avg       0.59      0.64      0.60       885\n",
      "weighted avg       0.80      0.73      0.76       885\n",
      "\n"
     ]
    }
   ],
   "source": [
    "param_grid = {\n",
    "    'max_depth': [None, 3, 5, 10],\n",
    "    'min_samples_split': [2, 5, 10],\n",
    "    'min_samples_leaf': [1, 2],\n",
    "    'criterion': ['gini', 'entropy', 'log_loss']  \n",
    "}\n",
    "\n",
    "\n",
    "grid_search = GridSearchCV(\n",
    "    estimator=tree,\n",
    "    param_grid=param_grid,\n",
    "    cv=5,\n",
    "    n_jobs=-1,\n",
    "    scoring='accuracy'\n",
    ")\n",
    "\n",
    "\n",
    "grid_search.fit(X_train_resampled, y_train_resampled)\n",
    "\n",
    "\n",
    "print(\"Best Parameters:\", grid_search.best_params_)\n",
    "\n",
    "best_tree = grid_search.best_estimator_\n",
    "\n",
    "y_train_pred = best_tree.predict(X_train_resampled)\n",
    "y_pred = best_tree.predict(X_test_vec)\n",
    "\n",
    "print(f\"\\n Train Accuracy: {accuracy_score(y_train_resampled, y_train_pred)}\")\n",
    "print(f\"\\n Test Accuracy: {accuracy_score(y_test, y_pred)}\")\n",
    "\n",
    "print(\"\\nClassification Report:\")\n",
    "print(classification_report(y_test, y_pred))"
   ]
  },
  {
   "cell_type": "markdown",
   "id": "228499ed",
   "metadata": {},
   "source": [
    "### Multiclass classification"
   ]
  },
  {
   "cell_type": "markdown",
   "id": "995d4f0f",
   "metadata": {},
   "source": [
    "In this section, we will focus on multiclass classification. The dataset contains multiple classes, and we will explore how to handle this scenario effectively.We will use the Logistic regression model as our base model for multiclass classification. "
   ]
  },
  {
   "cell_type": "code",
   "execution_count": 74,
   "id": "734203cd",
   "metadata": {},
   "outputs": [
    {
     "data": {
      "text/plain": [
       "Index(['tweet_text', 'recipient', 'emotion', 'brand', 'tweet_length',\n",
       "       'char_count', 'word_count', 'sentence_count', 'cleaned_text',\n",
       "       'tokenized_text', 'lemmatized_text', 'document', 'emotion_code'],\n",
       "      dtype='object')"
      ]
     },
     "execution_count": 74,
     "metadata": {},
     "output_type": "execute_result"
    }
   ],
   "source": [
    "#View the columns of the data\n",
    "data.columns"
   ]
  },
  {
   "cell_type": "code",
   "execution_count": 75,
   "id": "419768a5",
   "metadata": {},
   "outputs": [
    {
     "data": {
      "text/plain": [
       "1    5531\n",
       "2    2970\n",
       "0     569\n",
       "Name: emotion_code, dtype: int64"
      ]
     },
     "execution_count": 75,
     "metadata": {},
     "output_type": "execute_result"
    }
   ],
   "source": [
    "#View the value counts of the 'emotion_code' column in the data dataframe\n",
    "y = data['emotion_code']\n",
    "y.value_counts()"
   ]
  },
  {
   "cell_type": "markdown",
   "id": "b49b8096",
   "metadata": {},
   "source": [
    "We now assign the 'emotion_code' column to the variable `y` and X will be the rest of the columns in the data dataframe then vectorize it using the countvectorizer. "
   ]
  },
  {
   "cell_type": "code",
   "execution_count": 76,
   "id": "3540d8d1",
   "metadata": {},
   "outputs": [],
   "source": [
    "# Assigning X and y for the model\n",
    "X = data['document']  # Features\n",
    "y = data['emotion_code']  # Target variable\n",
    "# Vectorizing the document column\n",
    "vectorizer = CountVectorizer()\n",
    "X_vectorized = vectorizer.fit_transform(X)"
   ]
  },
  {
   "cell_type": "code",
   "execution_count": 77,
   "id": "313c84a0",
   "metadata": {},
   "outputs": [],
   "source": [
    "# Train-test split\n",
    "X_train, X_test, y_train, y_test = train_test_split(X_vectorized, y, test_size=0.2, random_state=42)\n"
   ]
  },
  {
   "cell_type": "code",
   "execution_count": 78,
   "id": "6638ed29",
   "metadata": {},
   "outputs": [
    {
     "name": "stdout",
     "output_type": "stream",
     "text": [
      "Train Accuracy: 0.9020121278941565\n",
      "Test Accuracy: 0.7056229327453142\n"
     ]
    },
    {
     "name": "stderr",
     "output_type": "stream",
     "text": [
      "c:\\Users\\Davey\\anaconda3\\envs\\learn-env\\lib\\site-packages\\sklearn\\linear_model\\_logistic.py:444: ConvergenceWarning: lbfgs failed to converge (status=1):\n",
      "STOP: TOTAL NO. of ITERATIONS REACHED LIMIT.\n",
      "\n",
      "Increase the number of iterations (max_iter) or scale the data as shown in:\n",
      "    https://scikit-learn.org/stable/modules/preprocessing.html\n",
      "Please also refer to the documentation for alternative solver options:\n",
      "    https://scikit-learn.org/stable/modules/linear_model.html#logistic-regression\n",
      "  n_iter_i = _check_optimize_result(\n"
     ]
    }
   ],
   "source": [
    "from sklearn.linear_model import LogisticRegression\n",
    "\n",
    "# Initialize the Logistic Regression model\n",
    "logistic_model = LogisticRegression()\n",
    "# Fit the model on the training data\n",
    "logistic_model.fit(X_train, y_train)\n",
    "# Make predictions on the testing data\n",
    "y_pred_log = logistic_model.predict(X_test)\n",
    "# Evaluate the model\n",
    "print(\"Train Accuracy:\", accuracy_score(y_train, logistic_model.predict(X_train)))\n",
    "\n",
    "print(\"Test Accuracy:\", accuracy_score(y_test, y_pred_log))"
   ]
  },
  {
   "cell_type": "markdown",
   "id": "5542f52e",
   "metadata": {},
   "source": [
    "We will now use a Multinomial Naive Bayes model for multiclass classification. This model is suitable for text classification tasks and can handle multiple classes effectively.This model is suitable for text classification tasks and can handle multiple classes effectively."
   ]
  },
  {
   "cell_type": "code",
   "execution_count": 79,
   "id": "ae306027",
   "metadata": {},
   "outputs": [
    {
     "name": "stdout",
     "output_type": "stream",
     "text": [
      "Naive Bayes Results\n",
      "              precision    recall  f1-score   support\n",
      "\n",
      "           0       0.82      0.43      0.56       450\n",
      "           1       0.83      0.92      0.87      4392\n",
      "           2       0.81      0.72      0.76      2414\n",
      "\n",
      "    accuracy                           0.82      7256\n",
      "   macro avg       0.82      0.69      0.73      7256\n",
      "weighted avg       0.82      0.82      0.82      7256\n",
      "\n",
      "Accuracy: 0.8230429988974641\n",
      "Accuracy: 0.6736493936052922\n"
     ]
    }
   ],
   "source": [
    "from sklearn.pipeline import Pipeline\n",
    "from sklearn.naive_bayes import MultinomialNB\n",
    "nb_model = MultinomialNB()\n",
    "\n",
    "\n",
    "nb_model.fit(X_train, y_train)\n",
    "y_test_pred_nb = nb_model.predict(X_test)\n",
    "y_train_pred_nb = nb_model.predict(X_train)\n",
    "\n",
    "print(\"Naive Bayes Results\")\n",
    "print(classification_report(y_train, y_train_pred_nb))\n",
    "print(\"Accuracy:\", accuracy_score(y_train, y_train_pred_nb))\n",
    "print(\"Accuracy:\", accuracy_score(y_test, y_test_pred_nb))\n"
   ]
  },
  {
   "cell_type": "markdown",
   "id": "cc385ac8",
   "metadata": {},
   "source": [
    "The model performs well for the training data but poorly on the test data. This is likely due to overfitting. Let's try tuning the model to see if we can improve performance."
   ]
  },
  {
   "cell_type": "markdown",
   "id": "9020d367",
   "metadata": {},
   "source": [
    "### Tuning using GridSearchCV"
   ]
  },
  {
   "cell_type": "code",
   "execution_count": 80,
   "id": "54ee74ed",
   "metadata": {},
   "outputs": [],
   "source": [
    "from sklearn.naive_bayes import MultinomialNB\n",
    "from sklearn.model_selection import GridSearchCV\n",
    "\n",
    "param_grid = {\n",
    "    'alpha': [0.1, 1.0, 10.0]  # no prefix needed\n",
    "}\n",
    "\n",
    "grid_nb = GridSearchCV(\n",
    "    estimator=MultinomialNB(),\n",
    "    param_grid=param_grid,\n",
    "    cv=5,\n",
    "    scoring='accuracy',\n",
    "    n_jobs=-1\n",
    ")\n",
    "\n",
    "grid_nb.fit(X_train, y_train)  \n",
    "best_nb_model = grid_nb.best_estimator_\n",
    "y_train_pred_gridnb = best_nb_model.predict(X_train)\n",
    "y_test_pred_gridnb = best_nb_model.predict(X_test)\n"
   ]
  },
  {
   "cell_type": "code",
   "execution_count": 81,
   "id": "4187ceb2",
   "metadata": {},
   "outputs": [
    {
     "name": "stdout",
     "output_type": "stream",
     "text": [
      "Train Accuracy : 0.8230429988974641\n",
      "Test Accuracy : 0.6736493936052922\n",
      "classification_report :               precision    recall  f1-score   support\n",
      "\n",
      "           0       0.38      0.22      0.28       119\n",
      "           1       0.76      0.77      0.77      1139\n",
      "           2       0.54      0.56      0.55       556\n",
      "\n",
      "    accuracy                           0.67      1814\n",
      "   macro avg       0.56      0.52      0.53      1814\n",
      "weighted avg       0.67      0.67      0.67      1814\n",
      "\n"
     ]
    }
   ],
   "source": [
    "#Accuracies\n",
    "print('Train Accuracy :', accuracy_score(y_train, y_train_pred_gridnb))\n",
    "print('Test Accuracy :', accuracy_score(y_test, y_test_pred_gridnb))\n",
    "print('classification_report :', classification_report(y_test, y_test_pred_gridnb))"
   ]
  },
  {
   "cell_type": "markdown",
   "id": "03b92a52",
   "metadata": {},
   "source": [
    "From the classification report the model still does not perform well on the test data. This is likely due to the class imbalance in the dataset. We can try using a model that can handle class imbalance better, such as r an XGBoost classifier."
   ]
  },
  {
   "cell_type": "code",
   "execution_count": 82,
   "id": "0b67ad7d",
   "metadata": {},
   "outputs": [
    {
     "data": {
      "text/html": [
       "<style>#sk-container-id-4 {color: black;background-color: white;}#sk-container-id-4 pre{padding: 0;}#sk-container-id-4 div.sk-toggleable {background-color: white;}#sk-container-id-4 label.sk-toggleable__label {cursor: pointer;display: block;width: 100%;margin-bottom: 0;padding: 0.3em;box-sizing: border-box;text-align: center;}#sk-container-id-4 label.sk-toggleable__label-arrow:before {content: \"▸\";float: left;margin-right: 0.25em;color: #696969;}#sk-container-id-4 label.sk-toggleable__label-arrow:hover:before {color: black;}#sk-container-id-4 div.sk-estimator:hover label.sk-toggleable__label-arrow:before {color: black;}#sk-container-id-4 div.sk-toggleable__content {max-height: 0;max-width: 0;overflow: hidden;text-align: left;background-color: #f0f8ff;}#sk-container-id-4 div.sk-toggleable__content pre {margin: 0.2em;color: black;border-radius: 0.25em;background-color: #f0f8ff;}#sk-container-id-4 input.sk-toggleable__control:checked~div.sk-toggleable__content {max-height: 200px;max-width: 100%;overflow: auto;}#sk-container-id-4 input.sk-toggleable__control:checked~label.sk-toggleable__label-arrow:before {content: \"▾\";}#sk-container-id-4 div.sk-estimator input.sk-toggleable__control:checked~label.sk-toggleable__label {background-color: #d4ebff;}#sk-container-id-4 div.sk-label input.sk-toggleable__control:checked~label.sk-toggleable__label {background-color: #d4ebff;}#sk-container-id-4 input.sk-hidden--visually {border: 0;clip: rect(1px 1px 1px 1px);clip: rect(1px, 1px, 1px, 1px);height: 1px;margin: -1px;overflow: hidden;padding: 0;position: absolute;width: 1px;}#sk-container-id-4 div.sk-estimator {font-family: monospace;background-color: #f0f8ff;border: 1px dotted black;border-radius: 0.25em;box-sizing: border-box;margin-bottom: 0.5em;}#sk-container-id-4 div.sk-estimator:hover {background-color: #d4ebff;}#sk-container-id-4 div.sk-parallel-item::after {content: \"\";width: 100%;border-bottom: 1px solid gray;flex-grow: 1;}#sk-container-id-4 div.sk-label:hover label.sk-toggleable__label {background-color: #d4ebff;}#sk-container-id-4 div.sk-serial::before {content: \"\";position: absolute;border-left: 1px solid gray;box-sizing: border-box;top: 0;bottom: 0;left: 50%;z-index: 0;}#sk-container-id-4 div.sk-serial {display: flex;flex-direction: column;align-items: center;background-color: white;padding-right: 0.2em;padding-left: 0.2em;position: relative;}#sk-container-id-4 div.sk-item {position: relative;z-index: 1;}#sk-container-id-4 div.sk-parallel {display: flex;align-items: stretch;justify-content: center;background-color: white;position: relative;}#sk-container-id-4 div.sk-item::before, #sk-container-id-4 div.sk-parallel-item::before {content: \"\";position: absolute;border-left: 1px solid gray;box-sizing: border-box;top: 0;bottom: 0;left: 50%;z-index: -1;}#sk-container-id-4 div.sk-parallel-item {display: flex;flex-direction: column;z-index: 1;position: relative;background-color: white;}#sk-container-id-4 div.sk-parallel-item:first-child::after {align-self: flex-end;width: 50%;}#sk-container-id-4 div.sk-parallel-item:last-child::after {align-self: flex-start;width: 50%;}#sk-container-id-4 div.sk-parallel-item:only-child::after {width: 0;}#sk-container-id-4 div.sk-dashed-wrapped {border: 1px dashed gray;margin: 0 0.4em 0.5em 0.4em;box-sizing: border-box;padding-bottom: 0.4em;background-color: white;}#sk-container-id-4 div.sk-label label {font-family: monospace;font-weight: bold;display: inline-block;line-height: 1.2em;}#sk-container-id-4 div.sk-label-container {text-align: center;}#sk-container-id-4 div.sk-container {/* jupyter's `normalize.less` sets `[hidden] { display: none; }` but bootstrap.min.css set `[hidden] { display: none !important; }` so we also need the `!important` here to be able to override the default hidden behavior on the sphinx rendered scikit-learn.org. See: https://github.com/scikit-learn/scikit-learn/issues/21755 */display: inline-block !important;position: relative;}#sk-container-id-4 div.sk-text-repr-fallback {display: none;}</style><div id=\"sk-container-id-4\" class=\"sk-top-container\"><div class=\"sk-text-repr-fallback\"><pre>XGBClassifier(base_score=0.5, booster=&#x27;gbtree&#x27;, colsample_bylevel=1,\n",
       "              colsample_bynode=1, colsample_bytree=1, gamma=0, gpu_id=-1,\n",
       "              importance_type=&#x27;gain&#x27;, interaction_constraints=&#x27;&#x27;,\n",
       "              learning_rate=0.300000012, max_delta_step=0, max_depth=6,\n",
       "              min_child_weight=1, missing=nan, monotone_constraints=&#x27;()&#x27;,\n",
       "              n_estimators=100, n_jobs=0, num_parallel_tree=1,\n",
       "              objective=&#x27;multi:softprob&#x27;, random_state=0, reg_alpha=0,\n",
       "              reg_lambda=1, scale_pos_weight=None, subsample=1,\n",
       "              tree_method=&#x27;exact&#x27;, validate_parameters=1, verbosity=None)</pre><b>In a Jupyter environment, please rerun this cell to show the HTML representation or trust the notebook. <br />On GitHub, the HTML representation is unable to render, please try loading this page with nbviewer.org.</b></div><div class=\"sk-container\" hidden><div class=\"sk-item\"><div class=\"sk-estimator sk-toggleable\"><input class=\"sk-toggleable__control sk-hidden--visually\" id=\"sk-estimator-id-4\" type=\"checkbox\" checked><label for=\"sk-estimator-id-4\" class=\"sk-toggleable__label sk-toggleable__label-arrow\">XGBClassifier</label><div class=\"sk-toggleable__content\"><pre>XGBClassifier(base_score=0.5, booster=&#x27;gbtree&#x27;, colsample_bylevel=1,\n",
       "              colsample_bynode=1, colsample_bytree=1, gamma=0, gpu_id=-1,\n",
       "              importance_type=&#x27;gain&#x27;, interaction_constraints=&#x27;&#x27;,\n",
       "              learning_rate=0.300000012, max_delta_step=0, max_depth=6,\n",
       "              min_child_weight=1, missing=nan, monotone_constraints=&#x27;()&#x27;,\n",
       "              n_estimators=100, n_jobs=0, num_parallel_tree=1,\n",
       "              objective=&#x27;multi:softprob&#x27;, random_state=0, reg_alpha=0,\n",
       "              reg_lambda=1, scale_pos_weight=None, subsample=1,\n",
       "              tree_method=&#x27;exact&#x27;, validate_parameters=1, verbosity=None)</pre></div></div></div></div></div>"
      ],
      "text/plain": [
       "XGBClassifier(base_score=0.5, booster='gbtree', colsample_bylevel=1,\n",
       "              colsample_bynode=1, colsample_bytree=1, gamma=0, gpu_id=-1,\n",
       "              importance_type='gain', interaction_constraints='',\n",
       "              learning_rate=0.300000012, max_delta_step=0, max_depth=6,\n",
       "              min_child_weight=1, missing=nan, monotone_constraints='()',\n",
       "              n_estimators=100, n_jobs=0, num_parallel_tree=1,\n",
       "              objective='multi:softprob', random_state=0, reg_alpha=0,\n",
       "              reg_lambda=1, scale_pos_weight=None, subsample=1,\n",
       "              tree_method='exact', validate_parameters=1, verbosity=None)"
      ]
     },
     "execution_count": 82,
     "metadata": {},
     "output_type": "execute_result"
    }
   ],
   "source": [
    "from xgboost import XGBClassifier\n",
    "#Initialize the XGBoost classifier\n",
    "xgb_classifier = XGBClassifier()\n",
    "\n",
    "# Fit the model on the training data-\n",
    "xgb_classifier.fit(X_train, y_train)"
   ]
  },
  {
   "cell_type": "code",
   "execution_count": 83,
   "id": "66c5e801",
   "metadata": {},
   "outputs": [
    {
     "name": "stdout",
     "output_type": "stream",
     "text": [
      "Train Accuracy: 0.7859702315325248\n",
      "Test Accuracy: 0.7001102535832414\n",
      "              precision    recall  f1-score   support\n",
      "\n",
      "           0       0.56      0.15      0.24       119\n",
      "           1       0.71      0.90      0.80      1139\n",
      "           2       0.65      0.41      0.50       556\n",
      "\n",
      "    accuracy                           0.70      1814\n",
      "   macro avg       0.64      0.49      0.51      1814\n",
      "weighted avg       0.69      0.70      0.67      1814\n",
      "\n"
     ]
    }
   ],
   "source": [
    "# Make predictions on the testing data and the training data\n",
    "\n",
    "y_pred_xgb =  xgb_classifier.predict(X_test)\n",
    "y_train_pred_xgb =  xgb_classifier.predict(X_train)\n",
    "\n",
    "print('Train Accuracy:', accuracy_score(y_train, y_train_pred_xgb))\n",
    "print('Test Accuracy:', accuracy_score(y_test, y_pred_xgb))\n",
    "# Print classification report\n",
    "print(classification_report(y_test, y_pred_xgb))"
   ]
  },
  {
   "cell_type": "markdown",
   "id": "d50511af",
   "metadata": {},
   "source": [
    "From the results we can see the model performs well on the training data but poorly on the test data. This is likely due to overfitting. Let's try tuning the model to see if we can improve performance."
   ]
  },
  {
   "cell_type": "code",
   "execution_count": 84,
   "id": "44c8fd97",
   "metadata": {},
   "outputs": [
    {
     "name": "stdout",
     "output_type": "stream",
     "text": [
      "Fitting 3 folds for each of 192 candidates, totalling 576 fits\n",
      "[20:48:18] WARNING: C:\\Users\\Administrator\\workspace\\xgboost-win64_release_1.2.0\\src\\learner.cc:516: \n",
      "Parameters: { use_label_encoder } might not be used.\n",
      "\n",
      "  This may not be accurate due to some parameters are only used in language bindings but\n",
      "  passed down to XGBoost core.  Or some parameters are not used but slip through this\n",
      "  verification. Please open an issue if you find above cases.\n",
      "\n",
      "\n",
      "Best Parameters: {'colsample_bytree': 0.8, 'learning_rate': 0.1, 'max_depth': 9, 'n_estimators': 200, 'subsample': 0.8}\n",
      "Train Accuracy: 0.8081587651598677\n",
      "Test Accuracy: 0.7056229327453142\n",
      "\n",
      "Classification Report:\n",
      "               precision    recall  f1-score   support\n",
      "\n",
      "           0       0.52      0.14      0.22       119\n",
      "           1       0.73      0.88      0.80      1139\n",
      "           2       0.65      0.46      0.54       556\n",
      "\n",
      "    accuracy                           0.71      1814\n",
      "   macro avg       0.63      0.50      0.52      1814\n",
      "weighted avg       0.69      0.71      0.68      1814\n",
      "\n"
     ]
    }
   ],
   "source": [
    "# Define the parameter grid\n",
    "param_grid = {\n",
    "    'n_estimators': [100, 200],\n",
    "    'max_depth': range(3, 11),  # Example: 3, 5, 7, 9\n",
    "    'learning_rate': [0.01, 0.1, 0.3],\n",
    "    'subsample': [0.8, 1],\n",
    "    'colsample_bytree': [0.8, 1],\n",
    "}\n",
    "\n",
    "# Initialize XGBoost classifier\n",
    "xgb_classifier = XGBClassifier(\n",
    "    objective='multi:softprob',\n",
    "    num_class=3,\n",
    "    eval_metric='mlogloss',\n",
    "    use_label_encoder=False,\n",
    "    random_state=42\n",
    ")\n",
    "\n",
    "# Initialize GridSearchCV\n",
    "grid_search = GridSearchCV(\n",
    "    estimator=xgb_classifier,\n",
    "    param_grid=param_grid,\n",
    "    cv=3,\n",
    "    scoring='accuracy',\n",
    "    verbose=2,\n",
    "    n_jobs=-1\n",
    ")\n",
    "\n",
    "# Fit the model\n",
    "grid_search.fit(X_train, y_train)\n",
    "\n",
    "# Get the best model\n",
    "best_xgb = grid_search.best_estimator_\n",
    "\n",
    "# Evaluate\n",
    "from sklearn.metrics import accuracy_score, classification_report\n",
    "\n",
    "y_pred = best_xgb.predict(X_test)\n",
    "train_accuracy = best_xgb.score(X_train, y_train)\n",
    "test_accuracy = accuracy_score(y_test, y_pred)\n",
    "\n",
    "print(\"Best Parameters:\", grid_search.best_params_)\n",
    "print(\"Train Accuracy:\", train_accuracy)\n",
    "print(\"Test Accuracy:\", test_accuracy)\n",
    "print(\"\\nClassification Report:\\n\", classification_report(y_test, y_pred))"
   ]
  },
  {
   "cell_type": "markdown",
   "id": "961bab89",
   "metadata": {},
   "source": [
    "The tuned XGBoost classifier performs well on the training data but poorly on the test data even after tuning. We now use a Random Forest classifier to see if we can improve performance."
   ]
  },
  {
   "cell_type": "code",
   "execution_count": 85,
   "id": "a347f5f3",
   "metadata": {},
   "outputs": [
    {
     "name": "stdout",
     "output_type": "stream",
     "text": [
      "Train Accuracy: 0.9926957001102535\n",
      "Test Accuracy: 0.6984564498346196\n",
      "              precision    recall  f1-score   support\n",
      "\n",
      "           0       0.63      0.20      0.31       119\n",
      "           1       0.72      0.87      0.79      1139\n",
      "           2       0.62      0.46      0.53       556\n",
      "\n",
      "    accuracy                           0.70      1814\n",
      "   macro avg       0.66      0.51      0.54      1814\n",
      "weighted avg       0.69      0.70      0.68      1814\n",
      "\n"
     ]
    }
   ],
   "source": [
    "#Instantiate the Random Forest classifier\n",
    "rf_classifier = RandomForestClassifier(random_state=42)\n",
    "# Fit the model on the training data\n",
    "rf_classifier.fit(X_train, y_train)\n",
    "# Make predictions on the testing data and the training data\n",
    "y_pred_rf = rf_classifier.predict(X_test)\n",
    "y_train_pred_rf = rf_classifier.predict(X_train)\n",
    "print('Train Accuracy:', accuracy_score(y_train, y_train_pred_rf))\n",
    "print('Test Accuracy:', accuracy_score(y_test, y_pred_rf))\n",
    "# Print classification report\n",
    "print(classification_report(y_test, y_pred_rf))\n"
   ]
  },
  {
   "cell_type": "markdown",
   "id": "92a84144",
   "metadata": {},
   "source": [
    "The models we have implemented so far are performing well on the training data but poorly on the test data. This is likely due to overfitting. Let's try oversampling the minority class to see if we can improve performance."
   ]
  },
  {
   "cell_type": "code",
   "execution_count": 86,
   "id": "989d4c9a",
   "metadata": {},
   "outputs": [
    {
     "name": "stdout",
     "output_type": "stream",
     "text": [
      "Original class distribution: {1: 4392, 2: 2414, 0: 450}\n",
      "Balanced class distribution: {2: 4392, 1: 4392, 0: 4392}\n"
     ]
    }
   ],
   "source": [
    "# Apply Random Oversampling\n",
    "ros = RandomOverSampler(random_state=42)\n",
    "X_train_balanced, y_train_balanced = ros.fit_resample(X_train, y_train)\n",
    "\n",
    "print(\"Original class distribution:\", y_train.value_counts().to_dict())\n",
    "print(\"Balanced class distribution:\", dict(pd.Series(y_train_balanced).value_counts()))"
   ]
  },
  {
   "cell_type": "markdown",
   "id": "c4a8e960",
   "metadata": {},
   "source": [
    "**XGBoost model with the balanced dataset:**"
   ]
  },
  {
   "cell_type": "code",
   "execution_count": 87,
   "id": "8eb2a88a",
   "metadata": {},
   "outputs": [
    {
     "name": "stdout",
     "output_type": "stream",
     "text": [
      "Test Accuracy: 0.6499448732083792\n",
      "              precision    recall  f1-score   support\n",
      "\n",
      "           0       0.30      0.55      0.39       119\n",
      "           1       0.78      0.68      0.73      1139\n",
      "           2       0.56      0.60      0.58       556\n",
      "\n",
      "    accuracy                           0.65      1814\n",
      "   macro avg       0.55      0.61      0.57      1814\n",
      "weighted avg       0.68      0.65      0.66      1814\n",
      "\n"
     ]
    }
   ],
   "source": [
    "xgb_balanced = XGBClassifier(\n",
    "    objective='multi:softprob',\n",
    "    num_class=3,\n",
    "    n_estimators=125,\n",
    "    max_depth=7,\n",
    "    learning_rate=0.3,\n",
    "    subsample=1,\n",
    "    colsample_bytree=1,\n",
    "    random_state=42\n",
    ")\n",
    "\n",
    "xgb_balanced.fit(X_train_balanced, y_train_balanced)\n",
    "\n",
    "y_pred = xgb_balanced.predict(X_test)\n",
    "\n",
    "# Evaluation\n",
    "print(\"Test Accuracy:\", accuracy_score(y_test, y_pred))\n",
    "print(classification_report(y_test, y_pred))\n"
   ]
  },
  {
   "cell_type": "markdown",
   "id": "a2976e1c",
   "metadata": {},
   "source": [
    "## Using SMOTE with XGBoost"
   ]
  },
  {
   "cell_type": "code",
   "execution_count": 88,
   "id": "bc3fac0d",
   "metadata": {},
   "outputs": [],
   "source": [
    "smote = SMOTE(random_state=42)\n",
    "X_train_smote, y_train_smote = smote.fit_resample(X_train, y_train)\n"
   ]
  },
  {
   "cell_type": "code",
   "execution_count": 89,
   "id": "1859fe09",
   "metadata": {},
   "outputs": [
    {
     "name": "stdout",
     "output_type": "stream",
     "text": [
      "Train Accuracy: 0.8525349119611415\n",
      "Test Accuracy: 0.697353914002205\n",
      "              precision    recall  f1-score   support\n",
      "\n",
      "           0       0.30      0.55      0.39       119\n",
      "           1       0.78      0.68      0.73      1139\n",
      "           2       0.56      0.60      0.58       556\n",
      "\n",
      "    accuracy                           0.65      1814\n",
      "   macro avg       0.55      0.61      0.57      1814\n",
      "weighted avg       0.68      0.65      0.66      1814\n",
      "\n"
     ]
    }
   ],
   "source": [
    "# Initialize XGBoost\n",
    "xgb_smote = XGBClassifier(\n",
    "    objective='multi:softprob',  # Or 'multi:softmax' if you want class labels directly\n",
    "    num_class=3,\n",
    "    learning_rate=0.1,\n",
    "    n_estimators=200,\n",
    "    max_depth=7,\n",
    "    random_state=42\n",
    ")\n",
    "\n",
    "# Fit the model\n",
    "xgb_smote.fit(X_train_smote, y_train_smote)\n",
    "\n",
    "# Predict\n",
    "y_test_pred_smote = xgb_smote.predict(X_test)\n",
    "y_train_pred_smote = xgb_smote.predict(X_train_smote)\n",
    "\n",
    "# Evaluate\n",
    "print(\"Train Accuracy:\", accuracy_score(y_train_smote, y_train_pred_smote))\n",
    "print(\"Test Accuracy:\", accuracy_score(y_test, y_test_pred_smote))\n",
    "print(classification_report(y_test, y_pred))"
   ]
  },
  {
   "cell_type": "markdown",
   "id": "7ae38fd4",
   "metadata": {},
   "source": [
    "Now we'll save our models as pickle files for future use. We'll save one model for binary classification and one for multiclass classification."
   ]
  },
  {
   "cell_type": "code",
   "execution_count": null,
   "id": "8b5c38bd",
   "metadata": {},
   "outputs": [
    {
     "data": {
      "text/plain": [
       "['multiclass_classification_xgb.pkl']"
      ]
     },
     "execution_count": 90,
     "metadata": {},
     "output_type": "execute_result"
    }
   ],
   "source": [
    "import joblib\n",
    "\n",
    "# joblib.dump(logreg, 'binary_classification_logistic_regression.pkl')     \n",
    "# joblib.dump(xgb_classifier, 'multiclass_classification_xgb.pkl')\n",
    "\n",
    "# commented out so we don't keep saving a new model every time we run the code"
   ]
  },
  {
   "cell_type": "markdown",
   "id": "4e7a965a",
   "metadata": {},
   "source": [
    "## ML Communication\n",
    "\n",
    "### Binary Classification\n",
    "\n",
    "The models for binary classification have shown varying levels of performance. The Logistic Regression model serves as a strong baseline, achieving reasonable accuracy and precision for the positive class. However, it struggles with the negative class due to class imbalance, leading to a high number of false positives.\n",
    "The Decision Tree model, while slightly better at capturing the negative class, still suffers from overfitting, as indicated by its high training accuracy but poor test performance. The Random Forest model, despite its complexity, also overfits the training data, resulting in lower generalization to unseen data.\n",
    "The tuned Decision Tree and Logistic Regression models show improved performance, but still have issues with false positives and class imbalance. The oversampling technique using SMOTE did not yield significant improvements, indicating that the underlying data quality and complexity may be limiting factors.\n",
    "\n",
    "#### Limitations of Binary Classification Models\n",
    "\n",
    "1. Not suitable for datasets with more than two sentiment classes (e.g., neutral, unclear).\n",
    "\n",
    "2. Sensitive to class imbalance — may favor majority class.\n",
    "\n",
    "3. Misses nuanced insights needed for real-world decision-making.\n",
    "\n",
    "4. Cannot accurately handle \"I can't tell\" or neutral sentiments.\n",
    "\n",
    "\n",
    "### Multiclass Classification\n",
    "\n",
    "The multiclass classification models, particularly the Multinomial Naive Bayes and XGBoost classifiers, have shown some promise in handling the multiple sentiment classes present in the dataset. However, they also exhibit challenges similar to those seen in binary classification, such as overfitting and poor generalization to unseen data.\n",
    "\n",
    "The tuned XGBoost model, while performing well on the training data, struggles with the test data, indicating that the model may be too complex for the dataset size and quality. The Random Forest classifier also faces similar issues, with overfitting being a significant concern. \n",
    "\n",
    "The use of SMOTE for oversampling the minority class did not yield significant improvements, suggesting that the class imbalance is a complex issue that may require more sophisticated techniques or better quality data to resolve.\n",
    "\n",
    "### Limitations of Multiclass Classification Models\n",
    "1. Multiclass models are more complex and computationally intensive.\n",
    "\n",
    "2. They require more data to train effectively, especially with multiple classes.\n",
    "\n",
    "3. They can still suffer from class imbalance, leading to biased predictions.\n",
    "\n",
    "\n",
    "\n",
    "\n"
   ]
  },
  {
   "cell_type": "markdown",
   "id": "be8e4d50",
   "metadata": {},
   "source": [
    "## Conclusion\n",
    "The sentiment analysis project has successfully demonstrated the potential of machine learning models to classify tweets related to Apple and Google products into positive, negative, and neutral sentiments. The binary classification models, particularly Logistic Regression and Decision Trees, provided a solid foundation for understanding sentiment distribution. However, challenges such as class imbalance and overfitting were evident, especially in the more complex models like Random Forest and XGBoost.\n",
    "The multiclass classification models, including Multinomial Naive Bayes and XGBoost, showed promise in handling multiple sentiment classes but also faced similar challenges. The use of techniques like SMOTE for oversampling did not yield significant improvements, indicating that the dataset's quality and complexity may be limiting factors."
   ]
  },
  {
   "cell_type": "markdown",
   "id": "26af9142",
   "metadata": {},
   "source": [
    "## Next Steps\n",
    "1. **Data Augmentation**: Explore additional data augmentation techniques to improve model robustness, especially for the minority classes.\n",
    "\n",
    "2. **Advanced Models**: Consider using more advanced models like BERT or other transformer-based architectures that can better capture the nuances of language in tweets.\n",
    "\n",
    "3. **Hyperparameter Tuning**: Further hyperparameter tuning of the existing models to optimize performance. In this project we were limited by computational resources and time, but more extensive tuning could yield better results.\n",
    "\n",
    "4. **Feature Engineering**: Explore additional features such as sentiment scores, word embeddings, or contextual information to enhance model performance\n",
    "\n",
    "5. **Model Deployment**: Consider deploying the best-performing model as a web service or API to allow real-time sentiment analysis of new tweets."
   ]
  }
 ],
 "metadata": {
  "kernelspec": {
   "display_name": "learn-env",
   "language": "python",
   "name": "python3"
  },
  "language_info": {
   "codemirror_mode": {
    "name": "ipython",
    "version": 3
   },
   "file_extension": ".py",
   "mimetype": "text/x-python",
   "name": "python",
   "nbconvert_exporter": "python",
   "pygments_lexer": "ipython3",
   "version": "3.8.5"
  }
 },
 "nbformat": 4,
 "nbformat_minor": 5
}
